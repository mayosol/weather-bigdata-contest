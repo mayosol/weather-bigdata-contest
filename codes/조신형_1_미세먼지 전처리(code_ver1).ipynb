{
 "cells": [
  {
   "cell_type": "markdown",
   "metadata": {},
   "source": [
    "## 18~19년도 대기환경(오존, 미세먼지, 초미세먼지)"
   ]
  },
  {
   "cell_type": "code",
   "execution_count": 1,
   "metadata": {
    "ExecuteTime": {
     "end_time": "2021-05-29T07:59:34.947719Z",
     "start_time": "2021-05-29T07:59:34.581140Z"
    }
   },
   "outputs": [],
   "source": [
    "import pandas as pd\n",
    "import numpy as np"
   ]
  },
  {
   "cell_type": "markdown",
   "metadata": {},
   "source": [
    "- 에어코리아에서 받은 18~19년 데이터를 불러온 후, 하나의 데이터 프레임으로 병합합니다."
   ]
  },
  {
   "cell_type": "code",
   "execution_count": null,
   "metadata": {
    "ExecuteTime": {
     "end_time": "2021-05-29T08:04:40.641849Z",
     "start_time": "2021-05-29T08:00:16.106081Z"
    }
   },
   "outputs": [],
   "source": [
    "dust19_1 = pd.read_excel('../data/air_19_1.xlsx')\n",
    "dust19_2 = pd.read_excel('../data/air_19_2.xlsx')\n",
    "dust19_3 = pd.read_excel('../data/air_19_3.xlsx')\n",
    "dust19_4 = pd.read_excel('../data/air_19_4.xlsx')\n",
    "dust19_5 = pd.read_excel('../data/air_19_5.xlsx')\n",
    "dust19_6 = pd.read_excel('../data/air_19_6.xlsx')\n",
    "dust19_7 = pd.read_excel('../data/air_19_7.xlsx')\n",
    "dust19_8 = pd.read_excel('../data/air_19_8.xlsx')\n",
    "dust19_9 = pd.read_excel('../data/air_19_9.xlsx')\n",
    "dust19_10 = pd.read_excel('../data/air_19_10.xlsx')\n",
    "dust19_11 = pd.read_excel('../data/air_19_11.xlsx')\n",
    "dust19_12 = pd.read_excel('../data/air_19_12.xlsx')"
   ]
  },
  {
   "cell_type": "code",
   "execution_count": 39,
   "metadata": {
    "ExecuteTime": {
     "end_time": "2021-05-26T01:29:19.550184Z",
     "start_time": "2021-05-26T01:22:36.188889Z"
    }
   },
   "outputs": [],
   "source": [
    "dust18_1 = pd.read_excel('../data/air_18_1.xlsx')\n",
    "dust18_2 = pd.read_excel('../data/air_18_2.xlsx')\n",
    "dust18_3 = pd.read_excel('../data/air_18_3.xlsx')\n",
    "dust18_4 = pd.read_excel('../data/air_18_4.xlsx')"
   ]
  },
  {
   "cell_type": "code",
   "execution_count": 41,
   "metadata": {
    "ExecuteTime": {
     "end_time": "2021-05-26T01:30:12.450810Z",
     "start_time": "2021-05-26T01:30:11.389879Z"
    }
   },
   "outputs": [],
   "source": [
    "df = pd.concat([dust19_1,dust19_2,dust19_3,dust19_4,\n",
    "               dust19_5,dust19_6,dust19_7,dust19_8,\n",
    "               dust19_9,dust19_10,dust19_11,dust19_12,\n",
    "               dust18_1,dust18_2,dust18_3,dust18_4], axis=0)"
   ]
  },
  {
   "cell_type": "markdown",
   "metadata": {},
   "source": [
    "- 날짜에 따른 시도별(특별시, 광역시, 도) 대기환경을 구합니다."
   ]
  },
  {
   "cell_type": "code",
   "execution_count": 42,
   "metadata": {
    "ExecuteTime": {
     "end_time": "2021-05-26T01:30:14.263070Z",
     "start_time": "2021-05-26T01:30:14.254072Z"
    }
   },
   "outputs": [],
   "source": [
    "def dust_mean(df):\n",
    "    df['시도'] = df.지역.map(lambda x:x.split()[0])\n",
    "    df['측정일'] = df.측정일시 // 100\n",
    "    return df[['시도','측정일','O3','PM10','PM25']].groupby(['시도','측정일']).mean()"
   ]
  },
  {
   "cell_type": "code",
   "execution_count": 43,
   "metadata": {
    "ExecuteTime": {
     "end_time": "2021-05-26T01:30:27.067479Z",
     "start_time": "2021-05-26T01:30:18.743256Z"
    }
   },
   "outputs": [],
   "source": [
    "df_mean = dust_mean(df)"
   ]
  },
  {
   "cell_type": "code",
   "execution_count": 45,
   "metadata": {
    "ExecuteTime": {
     "end_time": "2021-05-26T01:30:54.773058Z",
     "start_time": "2021-05-26T01:30:54.758180Z"
    }
   },
   "outputs": [],
   "source": [
    "df_mean = df_mean.reset_index()"
   ]
  },
  {
   "cell_type": "code",
   "execution_count": 76,
   "metadata": {
    "ExecuteTime": {
     "end_time": "2021-05-26T02:01:17.332531Z",
     "start_time": "2021-05-26T02:01:12.751418Z"
    }
   },
   "outputs": [],
   "source": [
    "df['시군구']=df.지역.map(lambda x:x.split()[1])"
   ]
  },
  {
   "cell_type": "markdown",
   "metadata": {},
   "source": [
    "- 시도별 대기환경 중, 대한민국 인구 수 8위 내에 드는 서울, 부산, 인천, 대구, 대전, 광주, 울산만을 추출합니다."
   ]
  },
  {
   "cell_type": "code",
   "execution_count": 102,
   "metadata": {
    "ExecuteTime": {
     "end_time": "2021-05-26T02:12:18.451038Z",
     "start_time": "2021-05-26T02:12:18.411391Z"
    }
   },
   "outputs": [
    {
     "data": {
      "text/html": [
       "<div>\n",
       "<style scoped>\n",
       "    .dataframe tbody tr th:only-of-type {\n",
       "        vertical-align: middle;\n",
       "    }\n",
       "\n",
       "    .dataframe tbody tr th {\n",
       "        vertical-align: top;\n",
       "    }\n",
       "\n",
       "    .dataframe thead th {\n",
       "        text-align: right;\n",
       "    }\n",
       "</style>\n",
       "<table border=\"1\" class=\"dataframe\">\n",
       "  <thead>\n",
       "    <tr style=\"text-align: right;\">\n",
       "      <th></th>\n",
       "      <th>시도</th>\n",
       "      <th>측정일</th>\n",
       "      <th>O3</th>\n",
       "      <th>PM10</th>\n",
       "      <th>PM25</th>\n",
       "    </tr>\n",
       "  </thead>\n",
       "  <tbody>\n",
       "    <tr>\n",
       "      <th>2920</th>\n",
       "      <td>광주</td>\n",
       "      <td>20180101</td>\n",
       "      <td>0.020509</td>\n",
       "      <td>50.337963</td>\n",
       "      <td>18.763889</td>\n",
       "    </tr>\n",
       "    <tr>\n",
       "      <th>2921</th>\n",
       "      <td>광주</td>\n",
       "      <td>20180102</td>\n",
       "      <td>0.010901</td>\n",
       "      <td>71.245192</td>\n",
       "      <td>39.188406</td>\n",
       "    </tr>\n",
       "    <tr>\n",
       "      <th>2922</th>\n",
       "      <td>광주</td>\n",
       "      <td>20180103</td>\n",
       "      <td>0.021578</td>\n",
       "      <td>29.644550</td>\n",
       "      <td>14.437811</td>\n",
       "    </tr>\n",
       "    <tr>\n",
       "      <th>2923</th>\n",
       "      <td>광주</td>\n",
       "      <td>20180104</td>\n",
       "      <td>0.018392</td>\n",
       "      <td>33.753488</td>\n",
       "      <td>18.446512</td>\n",
       "    </tr>\n",
       "    <tr>\n",
       "      <th>2924</th>\n",
       "      <td>광주</td>\n",
       "      <td>20180105</td>\n",
       "      <td>0.017606</td>\n",
       "      <td>40.827907</td>\n",
       "      <td>26.046512</td>\n",
       "    </tr>\n",
       "    <tr>\n",
       "      <th>...</th>\n",
       "      <td>...</td>\n",
       "      <td>...</td>\n",
       "      <td>...</td>\n",
       "      <td>...</td>\n",
       "      <td>...</td>\n",
       "    </tr>\n",
       "    <tr>\n",
       "      <th>8755</th>\n",
       "      <td>인천</td>\n",
       "      <td>20191227</td>\n",
       "      <td>0.023184</td>\n",
       "      <td>31.929467</td>\n",
       "      <td>19.973354</td>\n",
       "    </tr>\n",
       "    <tr>\n",
       "      <th>8756</th>\n",
       "      <td>인천</td>\n",
       "      <td>20191228</td>\n",
       "      <td>0.012289</td>\n",
       "      <td>41.895062</td>\n",
       "      <td>21.630841</td>\n",
       "    </tr>\n",
       "    <tr>\n",
       "      <th>8757</th>\n",
       "      <td>인천</td>\n",
       "      <td>20191229</td>\n",
       "      <td>0.010069</td>\n",
       "      <td>45.524691</td>\n",
       "      <td>25.029321</td>\n",
       "    </tr>\n",
       "    <tr>\n",
       "      <th>8758</th>\n",
       "      <td>인천</td>\n",
       "      <td>20191230</td>\n",
       "      <td>0.018284</td>\n",
       "      <td>33.023112</td>\n",
       "      <td>20.793651</td>\n",
       "    </tr>\n",
       "    <tr>\n",
       "      <th>8759</th>\n",
       "      <td>인천</td>\n",
       "      <td>20191231</td>\n",
       "      <td>0.025001</td>\n",
       "      <td>22.187126</td>\n",
       "      <td>12.527950</td>\n",
       "    </tr>\n",
       "  </tbody>\n",
       "</table>\n",
       "<p>5110 rows × 5 columns</p>\n",
       "</div>"
      ],
      "text/plain": [
       "      시도       측정일        O3       PM10       PM25\n",
       "2920  광주  20180101  0.020509  50.337963  18.763889\n",
       "2921  광주  20180102  0.010901  71.245192  39.188406\n",
       "2922  광주  20180103  0.021578  29.644550  14.437811\n",
       "2923  광주  20180104  0.018392  33.753488  18.446512\n",
       "2924  광주  20180105  0.017606  40.827907  26.046512\n",
       "...   ..       ...       ...        ...        ...\n",
       "8755  인천  20191227  0.023184  31.929467  19.973354\n",
       "8756  인천  20191228  0.012289  41.895062  21.630841\n",
       "8757  인천  20191229  0.010069  45.524691  25.029321\n",
       "8758  인천  20191230  0.018284  33.023112  20.793651\n",
       "8759  인천  20191231  0.025001  22.187126  12.527950\n",
       "\n",
       "[5110 rows x 5 columns]"
      ]
     },
     "execution_count": 102,
     "metadata": {},
     "output_type": "execute_result"
    }
   ],
   "source": [
    "condition = (df_mean.시도 == '서울')|(df_mean.시도 == '부산')|(df_mean.시도 == '인천')|(df_mean.시도 == '대구')|(df_mean.시도 == '대전')|(df_mean.시도 == '광주')|(df_mean.시도 == '울산')\n",
    "\n",
    "df_mean[condition]"
   ]
  },
  {
   "cell_type": "markdown",
   "metadata": {
    "ExecuteTime": {
     "end_time": "2021-05-29T08:21:42.959621Z",
     "start_time": "2021-05-29T08:21:42.905987Z"
    }
   },
   "source": [
    "- 수원시 또한 인구 8위 내의 도시입니다. 수원시의 대기환경 데이터를 추출합니다. "
   ]
  },
  {
   "cell_type": "code",
   "execution_count": 95,
   "metadata": {
    "ExecuteTime": {
     "end_time": "2021-05-26T02:10:15.782352Z",
     "start_time": "2021-05-26T02:10:15.082689Z"
    }
   },
   "outputs": [],
   "source": [
    "df_suwon = df[df.시군구=='수원시'][['시도','시군구','측정일','O3','PM10','PM25']].groupby(['시도','시군구','측정일']).mean().reset_index()"
   ]
  },
  {
   "cell_type": "code",
   "execution_count": 96,
   "metadata": {
    "ExecuteTime": {
     "end_time": "2021-05-26T02:10:16.913789Z",
     "start_time": "2021-05-26T02:10:16.897831Z"
    }
   },
   "outputs": [],
   "source": [
    "df_suwon.시도='수원'\n",
    "del df_suwon['시군구']"
   ]
  },
  {
   "cell_type": "markdown",
   "metadata": {},
   "source": [
    "- 앞서 추출한 인구 8위 순위 내의 모든 도시의 대기환경 데이터를 병합합니다."
   ]
  },
  {
   "cell_type": "code",
   "execution_count": 3,
   "metadata": {
    "ExecuteTime": {
     "end_time": "2021-05-29T08:05:56.525579Z",
     "start_time": "2021-05-29T08:05:56.453267Z"
    }
   },
   "outputs": [],
   "source": [
    "df_top8 = pd.concat([df_suwon,df_mean[condition]], axis=0)"
   ]
  },
  {
   "cell_type": "markdown",
   "metadata": {},
   "source": [
    "- 변수명을 정리하고, 날짜 데이터의 경우 분석에 용이하도록 dtype을 datetime으로 변환하겠습니다."
   ]
  },
  {
   "cell_type": "code",
   "execution_count": 16,
   "metadata": {
    "ExecuteTime": {
     "end_time": "2021-05-29T08:09:45.989806Z",
     "start_time": "2021-05-29T08:09:45.983081Z"
    }
   },
   "outputs": [],
   "source": [
    "df_top8.columns = ['지역', '날짜', '오존(O3)', '미세먼지(PM10)', '초미세먼지(PM2.5)']"
   ]
  },
  {
   "cell_type": "code",
   "execution_count": 23,
   "metadata": {
    "ExecuteTime": {
     "end_time": "2021-05-29T08:14:15.908979Z",
     "start_time": "2021-05-29T08:14:15.885387Z"
    }
   },
   "outputs": [],
   "source": [
    "df_top8.날짜 = df_top8.날짜.astype('str').map(lambda x: x[:4]+'-'+x[4:6]+'-'+x[6:])"
   ]
  },
  {
   "cell_type": "code",
   "execution_count": 25,
   "metadata": {
    "ExecuteTime": {
     "end_time": "2021-05-29T08:14:36.275967Z",
     "start_time": "2021-05-29T08:14:36.260186Z"
    }
   },
   "outputs": [],
   "source": [
    "df_top8.날짜 = pd.to_datetime(df_top8.날짜)"
   ]
  },
  {
   "cell_type": "code",
   "execution_count": 31,
   "metadata": {
    "ExecuteTime": {
     "end_time": "2021-05-29T08:24:26.887759Z",
     "start_time": "2021-05-29T08:24:26.863736Z"
    }
   },
   "outputs": [
    {
     "data": {
      "text/html": [
       "<div>\n",
       "<style scoped>\n",
       "    .dataframe tbody tr th:only-of-type {\n",
       "        vertical-align: middle;\n",
       "    }\n",
       "\n",
       "    .dataframe tbody tr th {\n",
       "        vertical-align: top;\n",
       "    }\n",
       "\n",
       "    .dataframe thead th {\n",
       "        text-align: right;\n",
       "    }\n",
       "</style>\n",
       "<table border=\"1\" class=\"dataframe\">\n",
       "  <thead>\n",
       "    <tr style=\"text-align: right;\">\n",
       "      <th></th>\n",
       "      <th>지역</th>\n",
       "      <th>날짜</th>\n",
       "      <th>오존(O3)</th>\n",
       "      <th>미세먼지(PM10)</th>\n",
       "      <th>초미세먼지(PM2.5)</th>\n",
       "    </tr>\n",
       "  </thead>\n",
       "  <tbody>\n",
       "    <tr>\n",
       "      <th>0</th>\n",
       "      <td>수원</td>\n",
       "      <td>2018-01-01</td>\n",
       "      <td>0.008958</td>\n",
       "      <td>42.766234</td>\n",
       "      <td>21.847561</td>\n",
       "    </tr>\n",
       "    <tr>\n",
       "      <th>1</th>\n",
       "      <td>수원</td>\n",
       "      <td>2018-01-02</td>\n",
       "      <td>0.007590</td>\n",
       "      <td>41.896970</td>\n",
       "      <td>23.930818</td>\n",
       "    </tr>\n",
       "    <tr>\n",
       "      <th>2</th>\n",
       "      <td>수원</td>\n",
       "      <td>2018-01-03</td>\n",
       "      <td>0.010512</td>\n",
       "      <td>34.670886</td>\n",
       "      <td>18.630952</td>\n",
       "    </tr>\n",
       "    <tr>\n",
       "      <th>3</th>\n",
       "      <td>수원</td>\n",
       "      <td>2018-01-04</td>\n",
       "      <td>0.005339</td>\n",
       "      <td>45.394558</td>\n",
       "      <td>26.634146</td>\n",
       "    </tr>\n",
       "    <tr>\n",
       "      <th>4</th>\n",
       "      <td>수원</td>\n",
       "      <td>2018-01-05</td>\n",
       "      <td>0.008345</td>\n",
       "      <td>54.585987</td>\n",
       "      <td>37.297468</td>\n",
       "    </tr>\n",
       "    <tr>\n",
       "      <th>...</th>\n",
       "      <td>...</td>\n",
       "      <td>...</td>\n",
       "      <td>...</td>\n",
       "      <td>...</td>\n",
       "      <td>...</td>\n",
       "    </tr>\n",
       "    <tr>\n",
       "      <th>5835</th>\n",
       "      <td>인천</td>\n",
       "      <td>2019-12-27</td>\n",
       "      <td>0.023184</td>\n",
       "      <td>31.929467</td>\n",
       "      <td>19.973354</td>\n",
       "    </tr>\n",
       "    <tr>\n",
       "      <th>5836</th>\n",
       "      <td>인천</td>\n",
       "      <td>2019-12-28</td>\n",
       "      <td>0.012289</td>\n",
       "      <td>41.895062</td>\n",
       "      <td>21.630841</td>\n",
       "    </tr>\n",
       "    <tr>\n",
       "      <th>5837</th>\n",
       "      <td>인천</td>\n",
       "      <td>2019-12-29</td>\n",
       "      <td>0.010069</td>\n",
       "      <td>45.524691</td>\n",
       "      <td>25.029321</td>\n",
       "    </tr>\n",
       "    <tr>\n",
       "      <th>5838</th>\n",
       "      <td>인천</td>\n",
       "      <td>2019-12-30</td>\n",
       "      <td>0.018284</td>\n",
       "      <td>33.023112</td>\n",
       "      <td>20.793651</td>\n",
       "    </tr>\n",
       "    <tr>\n",
       "      <th>5839</th>\n",
       "      <td>인천</td>\n",
       "      <td>2019-12-31</td>\n",
       "      <td>0.025001</td>\n",
       "      <td>22.187126</td>\n",
       "      <td>12.527950</td>\n",
       "    </tr>\n",
       "  </tbody>\n",
       "</table>\n",
       "<p>5840 rows × 5 columns</p>\n",
       "</div>"
      ],
      "text/plain": [
       "      지역         날짜    오존(O3)  미세먼지(PM10)  초미세먼지(PM2.5)\n",
       "0     수원 2018-01-01  0.008958   42.766234     21.847561\n",
       "1     수원 2018-01-02  0.007590   41.896970     23.930818\n",
       "2     수원 2018-01-03  0.010512   34.670886     18.630952\n",
       "3     수원 2018-01-04  0.005339   45.394558     26.634146\n",
       "4     수원 2018-01-05  0.008345   54.585987     37.297468\n",
       "...   ..        ...       ...         ...           ...\n",
       "5835  인천 2019-12-27  0.023184   31.929467     19.973354\n",
       "5836  인천 2019-12-28  0.012289   41.895062     21.630841\n",
       "5837  인천 2019-12-29  0.010069   45.524691     25.029321\n",
       "5838  인천 2019-12-30  0.018284   33.023112     20.793651\n",
       "5839  인천 2019-12-31  0.025001   22.187126     12.527950\n",
       "\n",
       "[5840 rows x 5 columns]"
      ]
     },
     "execution_count": 31,
     "metadata": {},
     "output_type": "execute_result"
    }
   ],
   "source": [
    "df_top8"
   ]
  },
  {
   "cell_type": "markdown",
   "metadata": {},
   "source": [
    "- 데이터를 저장합니다."
   ]
  },
  {
   "cell_type": "code",
   "execution_count": 33,
   "metadata": {
    "ExecuteTime": {
     "end_time": "2021-05-29T08:29:11.236059Z",
     "start_time": "2021-05-29T08:29:11.145101Z"
    }
   },
   "outputs": [],
   "source": [
    "df_top8.to_csv('../data/air_top8(18~19).csv', encoding='CP949',index=False)"
   ]
  }
 ],
 "metadata": {
  "kernelspec": {
   "display_name": "Python 3",
   "language": "python",
   "name": "python3"
  },
  "language_info": {
   "codemirror_mode": {
    "name": "ipython",
    "version": 3
   },
   "file_extension": ".py",
   "mimetype": "text/x-python",
   "name": "python",
   "nbconvert_exporter": "python",
   "pygments_lexer": "ipython3",
   "version": "3.8.5"
  },
  "toc": {
   "base_numbering": 1,
   "nav_menu": {},
   "number_sections": false,
   "sideBar": true,
   "skip_h1_title": false,
   "title_cell": "Table of Contents",
   "title_sidebar": "Contents",
   "toc_cell": false,
   "toc_position": {},
   "toc_section_display": true,
   "toc_window_display": false
  }
 },
 "nbformat": 4,
 "nbformat_minor": 4
}

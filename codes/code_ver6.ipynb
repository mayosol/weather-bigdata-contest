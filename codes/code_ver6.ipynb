{
 "cells": [
  {
   "cell_type": "code",
   "execution_count": 20,
   "metadata": {
    "ExecuteTime": {
     "end_time": "2021-06-05T03:14:48.941186Z",
     "start_time": "2021-06-05T03:14:48.925828Z"
    },
    "executionInfo": {
     "elapsed": 13,
     "status": "ok",
     "timestamp": 1622370248271,
     "user": {
      "displayName": "­김도현 / 학생 / 제약학과(2+4년제)",
      "photoUrl": "",
      "userId": "09377139803227566689"
     },
     "user_tz": -540
    },
    "id": "dE3wzjCBLuWl"
   },
   "outputs": [],
   "source": [
    "import pandas as pd\n",
    "import datetime as dt\n",
    "from sklearn.model_selection import train_test_split"
   ]
  },
  {
   "cell_type": "code",
   "execution_count": 62,
   "metadata": {
    "ExecuteTime": {
     "end_time": "2021-06-05T03:23:29.482737Z",
     "start_time": "2021-06-05T03:23:25.273799Z"
    },
    "executionInfo": {
     "elapsed": 10197,
     "status": "ok",
     "timestamp": 1622369102993,
     "user": {
      "displayName": "­김도현 / 학생 / 제약학과(2+4년제)",
      "photoUrl": "",
      "userId": "09377139803227566689"
     },
     "user_tz": -540
    },
    "id": "9TQEHk97Lv55"
   },
   "outputs": [],
   "source": [
    "sale_df = pd.read_csv('../data/sale_data_ohe.csv')\n",
    "weather_df = pd.read_csv('../data/weather_data.csv', encoding = 'CP949')\n",
    "weather_df = weather_df[['일시','평균기온(°C)','최저기온(°C)','최고기온(°C)','최소 상대습도(%)','평균 상대습도(%)','O3','PM10']] "
   ]
  },
  {
   "cell_type": "code",
   "execution_count": 63,
   "metadata": {
    "ExecuteTime": {
     "end_time": "2021-06-05T03:23:30.744567Z",
     "start_time": "2021-06-05T03:23:30.729477Z"
    },
    "executionInfo": {
     "elapsed": 312,
     "status": "ok",
     "timestamp": 1622369105815,
     "user": {
      "displayName": "­김도현 / 학생 / 제약학과(2+4년제)",
      "photoUrl": "",
      "userId": "09377139803227566689"
     },
     "user_tz": -540
    },
    "id": "Oxas4O-uLxAF"
   },
   "outputs": [],
   "source": [
    "# 병합하려고 했는데 날짜 column name이 달라서 '날짜'로 통일\n",
    "weather_df.rename(columns = {'일시':'날짜'}, inplace = True)"
   ]
  },
  {
   "cell_type": "code",
   "execution_count": 64,
   "metadata": {
    "ExecuteTime": {
     "end_time": "2021-06-05T03:23:32.880000Z",
     "start_time": "2021-06-05T03:23:32.315495Z"
    },
    "executionInfo": {
     "elapsed": 758,
     "status": "ok",
     "timestamp": 1622369111309,
     "user": {
      "displayName": "­김도현 / 학생 / 제약학과(2+4년제)",
      "photoUrl": "",
      "userId": "09377139803227566689"
     },
     "user_tz": -540
    },
    "id": "W8_JmH7wL0iP"
   },
   "outputs": [],
   "source": [
    "# pandas의 merge_asof method 사용하여 '날짜'를 기준으로 합치는 방법 사용하려고 했는데, '날짜'의 type이 str이라서 integer나 float으로 변경 필요\n",
    "# pandas의 to_datetime method를 사용하여 type 변경\n",
    "sale_df['날짜'] = pd.to_datetime(sale_df['날짜'], format='%Y-%m-%d')\n",
    "sale_df = sale_df.sort_values('날짜')\n",
    "weather_df['날짜'] = pd.to_datetime(weather_df['날짜'], format = '%Y-%m-%d')\n",
    "weather_df = weather_df.sort_values('날짜')"
   ]
  },
  {
   "cell_type": "code",
   "execution_count": 65,
   "metadata": {
    "ExecuteTime": {
     "end_time": "2021-06-05T03:23:34.404202Z",
     "start_time": "2021-06-05T03:23:34.106293Z"
    },
    "executionInfo": {
     "elapsed": 645,
     "status": "ok",
     "timestamp": 1622369117420,
     "user": {
      "displayName": "­김도현 / 학생 / 제약학과(2+4년제)",
      "photoUrl": "",
      "userId": "09377139803227566689"
     },
     "user_tz": -540
    },
    "id": "s4Iorcs5L19f"
   },
   "outputs": [],
   "source": [
    "# df 순서를 바꾸면 안됨\n",
    "sale_and_weather_df = pd.merge_asof(sale_df, weather_df, on='날짜', allow_exact_matches=True)"
   ]
  },
  {
   "cell_type": "code",
   "execution_count": 66,
   "metadata": {
    "ExecuteTime": {
     "end_time": "2021-06-05T03:23:36.304941Z",
     "start_time": "2021-06-05T03:23:35.895976Z"
    },
    "executionInfo": {
     "elapsed": 1339,
     "status": "ok",
     "timestamp": 1622369150723,
     "user": {
      "displayName": "­김도현 / 학생 / 제약학과(2+4년제)",
      "photoUrl": "",
      "userId": "09377139803227566689"
     },
     "user_tz": -540
    },
    "id": "6lqmfz4HMKoM"
   },
   "outputs": [
    {
     "data": {
      "text/plain": [
       "(256765, 416)"
      ]
     },
     "execution_count": 66,
     "metadata": {},
     "output_type": "execute_result"
    }
   ],
   "source": [
    "sale_index = list(sale_df.columns[1:])\n",
    "only_sale_df = sale_and_weather_df[sale_index]\n",
    "sale_and_weather_df.drop(sale_index, axis = 1, inplace = True)\n",
    "sale_and_weather_df = pd.concat([sale_and_weather_df, only_sale_df], axis = 1)"
   ]
  },
  {
   "cell_type": "code",
   "execution_count": 67,
   "metadata": {
    "ExecuteTime": {
     "end_time": "2021-06-05T03:23:57.663279Z",
     "start_time": "2021-06-05T03:23:57.440400Z"
    },
    "executionInfo": {
     "elapsed": 1546,
     "status": "ok",
     "timestamp": 1622369556928,
     "user": {
      "displayName": "­김도현 / 학생 / 제약학과(2+4년제)",
      "photoUrl": "",
      "userId": "09377139803227566689"
     },
     "user_tz": -540
    },
    "id": "OhXujxDwwgjj"
   },
   "outputs": [],
   "source": [
    "sale_and_weather_df.drop(['대분류_냉난방가전', '대분류_뷰티', '대분류_식품'], axis = 1, inplace = True)"
   ]
  },
  {
   "cell_type": "code",
   "execution_count": 69,
   "metadata": {
    "ExecuteTime": {
     "end_time": "2021-06-05T03:24:47.820710Z",
     "start_time": "2021-06-05T03:24:27.534515Z"
    },
    "executionInfo": {
     "elapsed": 51509,
     "status": "ok",
     "timestamp": 1622369782674,
     "user": {
      "displayName": "­김도현 / 학생 / 제약학과(2+4년제)",
      "photoUrl": "",
      "userId": "09377139803227566689"
     },
     "user_tz": -540
    },
    "id": "fpZ9GQIZMPh5"
   },
   "outputs": [],
   "source": [
    "# csv 파일로 저장\n",
    "sale_and_weather_df.to_csv('../data/sale_weather_data_simple.csv', index = False, encoding='CP949')"
   ]
  },
  {
   "cell_type": "code",
   "execution_count": 78,
   "metadata": {
    "ExecuteTime": {
     "end_time": "2021-06-05T03:27:46.627707Z",
     "start_time": "2021-06-05T03:27:46.450364Z"
    },
    "executionInfo": {
     "elapsed": 294,
     "status": "ok",
     "timestamp": 1622369976875,
     "user": {
      "displayName": "­김도현 / 학생 / 제약학과(2+4년제)",
      "photoUrl": "",
      "userId": "09377139803227566689"
     },
     "user_tz": -540
    },
    "id": "Rbdb0pMQx3zv"
   },
   "outputs": [],
   "source": [
    "X_df = sale_and_weather_df.loc[:, '날짜':'소분류_히터']"
   ]
  },
  {
   "cell_type": "code",
   "execution_count": 79,
   "metadata": {
    "ExecuteTime": {
     "end_time": "2021-06-05T03:27:48.818701Z",
     "start_time": "2021-06-05T03:27:48.786694Z"
    },
    "colab": {
     "base_uri": "https://localhost:8080/",
     "height": 474
    },
    "executionInfo": {
     "elapsed": 374,
     "status": "ok",
     "timestamp": 1622369983592,
     "user": {
      "displayName": "­김도현 / 학생 / 제약학과(2+4년제)",
      "photoUrl": "",
      "userId": "09377139803227566689"
     },
     "user_tz": -540
    },
    "id": "mKsoOQuAyTz0",
    "outputId": "fe394014-ccfd-48a8-cd37-bdb05e69b9c2"
   },
   "outputs": [
    {
     "data": {
      "text/html": [
       "<div>\n",
       "<style scoped>\n",
       "    .dataframe tbody tr th:only-of-type {\n",
       "        vertical-align: middle;\n",
       "    }\n",
       "\n",
       "    .dataframe tbody tr th {\n",
       "        vertical-align: top;\n",
       "    }\n",
       "\n",
       "    .dataframe thead th {\n",
       "        text-align: right;\n",
       "    }\n",
       "</style>\n",
       "<table border=\"1\" class=\"dataframe\">\n",
       "  <thead>\n",
       "    <tr style=\"text-align: right;\">\n",
       "      <th></th>\n",
       "      <th>날짜</th>\n",
       "      <th>평균기온(°C)</th>\n",
       "      <th>최저기온(°C)</th>\n",
       "      <th>최고기온(°C)</th>\n",
       "      <th>최소 상대습도(%)</th>\n",
       "      <th>평균 상대습도(%)</th>\n",
       "      <th>O3</th>\n",
       "      <th>PM10</th>\n",
       "      <th>소분류_가공란</th>\n",
       "      <th>소분류_가스온수기</th>\n",
       "      <th>...</th>\n",
       "      <th>소분류_홍어</th>\n",
       "      <th>소분류_홍차</th>\n",
       "      <th>소분류_화장 비누</th>\n",
       "      <th>소분류_화장 퍼프</th>\n",
       "      <th>소분류_환자식</th>\n",
       "      <th>소분류_황토매트</th>\n",
       "      <th>소분류_회</th>\n",
       "      <th>소분류_휴대용 선풍기</th>\n",
       "      <th>소분류_흰우유</th>\n",
       "      <th>소분류_히터</th>\n",
       "    </tr>\n",
       "  </thead>\n",
       "  <tbody>\n",
       "    <tr>\n",
       "      <th>0</th>\n",
       "      <td>2018-01-01</td>\n",
       "      <td>0.066157</td>\n",
       "      <td>-3.463993</td>\n",
       "      <td>4.734708</td>\n",
       "      <td>20.763179</td>\n",
       "      <td>41.267581</td>\n",
       "      <td>0.015544</td>\n",
       "      <td>44.032069</td>\n",
       "      <td>1</td>\n",
       "      <td>0</td>\n",
       "      <td>...</td>\n",
       "      <td>0</td>\n",
       "      <td>0</td>\n",
       "      <td>0</td>\n",
       "      <td>0</td>\n",
       "      <td>0</td>\n",
       "      <td>0</td>\n",
       "      <td>0</td>\n",
       "      <td>0</td>\n",
       "      <td>0</td>\n",
       "      <td>0</td>\n",
       "    </tr>\n",
       "    <tr>\n",
       "      <th>1</th>\n",
       "      <td>2018-01-01</td>\n",
       "      <td>0.066157</td>\n",
       "      <td>-3.463993</td>\n",
       "      <td>4.734708</td>\n",
       "      <td>20.763179</td>\n",
       "      <td>41.267581</td>\n",
       "      <td>0.015544</td>\n",
       "      <td>44.032069</td>\n",
       "      <td>0</td>\n",
       "      <td>0</td>\n",
       "      <td>...</td>\n",
       "      <td>0</td>\n",
       "      <td>0</td>\n",
       "      <td>0</td>\n",
       "      <td>0</td>\n",
       "      <td>0</td>\n",
       "      <td>0</td>\n",
       "      <td>0</td>\n",
       "      <td>0</td>\n",
       "      <td>0</td>\n",
       "      <td>0</td>\n",
       "    </tr>\n",
       "    <tr>\n",
       "      <th>2</th>\n",
       "      <td>2018-01-01</td>\n",
       "      <td>0.066157</td>\n",
       "      <td>-3.463993</td>\n",
       "      <td>4.734708</td>\n",
       "      <td>20.763179</td>\n",
       "      <td>41.267581</td>\n",
       "      <td>0.015544</td>\n",
       "      <td>44.032069</td>\n",
       "      <td>0</td>\n",
       "      <td>0</td>\n",
       "      <td>...</td>\n",
       "      <td>0</td>\n",
       "      <td>0</td>\n",
       "      <td>0</td>\n",
       "      <td>0</td>\n",
       "      <td>0</td>\n",
       "      <td>0</td>\n",
       "      <td>0</td>\n",
       "      <td>0</td>\n",
       "      <td>0</td>\n",
       "      <td>0</td>\n",
       "    </tr>\n",
       "    <tr>\n",
       "      <th>3</th>\n",
       "      <td>2018-01-01</td>\n",
       "      <td>0.066157</td>\n",
       "      <td>-3.463993</td>\n",
       "      <td>4.734708</td>\n",
       "      <td>20.763179</td>\n",
       "      <td>41.267581</td>\n",
       "      <td>0.015544</td>\n",
       "      <td>44.032069</td>\n",
       "      <td>0</td>\n",
       "      <td>0</td>\n",
       "      <td>...</td>\n",
       "      <td>0</td>\n",
       "      <td>0</td>\n",
       "      <td>0</td>\n",
       "      <td>0</td>\n",
       "      <td>0</td>\n",
       "      <td>0</td>\n",
       "      <td>0</td>\n",
       "      <td>0</td>\n",
       "      <td>0</td>\n",
       "      <td>0</td>\n",
       "    </tr>\n",
       "    <tr>\n",
       "      <th>4</th>\n",
       "      <td>2018-01-01</td>\n",
       "      <td>0.066157</td>\n",
       "      <td>-3.463993</td>\n",
       "      <td>4.734708</td>\n",
       "      <td>20.763179</td>\n",
       "      <td>41.267581</td>\n",
       "      <td>0.015544</td>\n",
       "      <td>44.032069</td>\n",
       "      <td>0</td>\n",
       "      <td>0</td>\n",
       "      <td>...</td>\n",
       "      <td>0</td>\n",
       "      <td>0</td>\n",
       "      <td>0</td>\n",
       "      <td>0</td>\n",
       "      <td>0</td>\n",
       "      <td>0</td>\n",
       "      <td>0</td>\n",
       "      <td>0</td>\n",
       "      <td>0</td>\n",
       "      <td>0</td>\n",
       "    </tr>\n",
       "  </tbody>\n",
       "</table>\n",
       "<p>5 rows × 391 columns</p>\n",
       "</div>"
      ],
      "text/plain": [
       "          날짜  평균기온(°C)  최저기온(°C)  최고기온(°C)  최소 상대습도(%)  평균 상대습도(%)        O3  \\\n",
       "0 2018-01-01  0.066157 -3.463993  4.734708   20.763179   41.267581  0.015544   \n",
       "1 2018-01-01  0.066157 -3.463993  4.734708   20.763179   41.267581  0.015544   \n",
       "2 2018-01-01  0.066157 -3.463993  4.734708   20.763179   41.267581  0.015544   \n",
       "3 2018-01-01  0.066157 -3.463993  4.734708   20.763179   41.267581  0.015544   \n",
       "4 2018-01-01  0.066157 -3.463993  4.734708   20.763179   41.267581  0.015544   \n",
       "\n",
       "        PM10  소분류_가공란  소분류_가스온수기  ...  소분류_홍어  소분류_홍차  소분류_화장 비누  소분류_화장 퍼프  \\\n",
       "0  44.032069        1          0  ...       0       0          0          0   \n",
       "1  44.032069        0          0  ...       0       0          0          0   \n",
       "2  44.032069        0          0  ...       0       0          0          0   \n",
       "3  44.032069        0          0  ...       0       0          0          0   \n",
       "4  44.032069        0          0  ...       0       0          0          0   \n",
       "\n",
       "   소분류_환자식  소분류_황토매트  소분류_회  소분류_휴대용 선풍기  소분류_흰우유  소분류_히터  \n",
       "0        0         0      0            0        0       0  \n",
       "1        0         0      0            0        0       0  \n",
       "2        0         0      0            0        0       0  \n",
       "3        0         0      0            0        0       0  \n",
       "4        0         0      0            0        0       0  \n",
       "\n",
       "[5 rows x 391 columns]"
      ]
     },
     "execution_count": 79,
     "metadata": {},
     "output_type": "execute_result"
    }
   ],
   "source": [
    "X_df.head()"
   ]
  },
  {
   "cell_type": "code",
   "execution_count": 81,
   "metadata": {
    "ExecuteTime": {
     "end_time": "2021-06-05T03:28:50.537289Z",
     "start_time": "2021-06-05T03:28:50.501288Z"
    },
    "colab": {
     "base_uri": "https://localhost:8080/",
     "height": 323
    },
    "executionInfo": {
     "elapsed": 422,
     "status": "ok",
     "timestamp": 1622370001907,
     "user": {
      "displayName": "­김도현 / 학생 / 제약학과(2+4년제)",
      "photoUrl": "",
      "userId": "09377139803227566689"
     },
     "user_tz": -540
    },
    "id": "JPtOxXyryVh8",
    "outputId": "53b4ec5a-2baa-4877-eedc-4d0783cdecf0"
   },
   "outputs": [
    {
     "data": {
      "text/html": [
       "<div>\n",
       "<style scoped>\n",
       "    .dataframe tbody tr th:only-of-type {\n",
       "        vertical-align: middle;\n",
       "    }\n",
       "\n",
       "    .dataframe tbody tr th {\n",
       "        vertical-align: top;\n",
       "    }\n",
       "\n",
       "    .dataframe thead th {\n",
       "        text-align: right;\n",
       "    }\n",
       "</style>\n",
       "<table border=\"1\" class=\"dataframe\">\n",
       "  <thead>\n",
       "    <tr style=\"text-align: right;\">\n",
       "      <th></th>\n",
       "      <th>20대 남성 판매량(개)</th>\n",
       "      <th>20대 여성 판매량(개)</th>\n",
       "      <th>30대 남성 판매량(개)</th>\n",
       "      <th>30대 여성 판매량(개)</th>\n",
       "      <th>40대 남성 판매량(개)</th>\n",
       "      <th>40대 여성 판매량(개)</th>\n",
       "      <th>50대 남성 판매량(개)</th>\n",
       "      <th>50대 여성 판매량(개)</th>\n",
       "      <th>60대 남성 판매량(개)</th>\n",
       "      <th>60대 여성 판매량(개)</th>\n",
       "      <th>...</th>\n",
       "      <th>20대 남성 선호도 점수</th>\n",
       "      <th>20대 여성 선호도 점수</th>\n",
       "      <th>30대 남성 선호도 점수</th>\n",
       "      <th>30대 여성 선호도 점수</th>\n",
       "      <th>40대 남성 선호도 점수</th>\n",
       "      <th>40대 여성 선호도 점수</th>\n",
       "      <th>50대 남성 선호도 점수</th>\n",
       "      <th>50대 여성 선호도 점수</th>\n",
       "      <th>60대 남성 선호도 점수</th>\n",
       "      <th>60대 여성 선호도 점수</th>\n",
       "    </tr>\n",
       "  </thead>\n",
       "  <tbody>\n",
       "    <tr>\n",
       "      <th>0</th>\n",
       "      <td>13.0</td>\n",
       "      <td>37.0</td>\n",
       "      <td>6.0</td>\n",
       "      <td>16.0</td>\n",
       "      <td>6.0</td>\n",
       "      <td>9.0</td>\n",
       "      <td>0.0</td>\n",
       "      <td>3.0</td>\n",
       "      <td>0.0</td>\n",
       "      <td>0.0</td>\n",
       "      <td>...</td>\n",
       "      <td>0.342493</td>\n",
       "      <td>0.329235</td>\n",
       "      <td>0.073506</td>\n",
       "      <td>0.079250</td>\n",
       "      <td>0.078651</td>\n",
       "      <td>0.054480</td>\n",
       "      <td>0.000000</td>\n",
       "      <td>0.042386</td>\n",
       "      <td>0.0</td>\n",
       "      <td>0.0</td>\n",
       "    </tr>\n",
       "    <tr>\n",
       "      <th>1</th>\n",
       "      <td>0.0</td>\n",
       "      <td>4.0</td>\n",
       "      <td>3.0</td>\n",
       "      <td>6.0</td>\n",
       "      <td>1.0</td>\n",
       "      <td>7.0</td>\n",
       "      <td>1.0</td>\n",
       "      <td>1.0</td>\n",
       "      <td>0.0</td>\n",
       "      <td>0.0</td>\n",
       "      <td>...</td>\n",
       "      <td>0.000000</td>\n",
       "      <td>0.179295</td>\n",
       "      <td>0.185138</td>\n",
       "      <td>0.149704</td>\n",
       "      <td>0.066032</td>\n",
       "      <td>0.213452</td>\n",
       "      <td>0.135208</td>\n",
       "      <td>0.071171</td>\n",
       "      <td>0.0</td>\n",
       "      <td>0.0</td>\n",
       "    </tr>\n",
       "    <tr>\n",
       "      <th>2</th>\n",
       "      <td>0.0</td>\n",
       "      <td>0.0</td>\n",
       "      <td>0.0</td>\n",
       "      <td>0.0</td>\n",
       "      <td>0.0</td>\n",
       "      <td>1.0</td>\n",
       "      <td>1.0</td>\n",
       "      <td>0.0</td>\n",
       "      <td>0.0</td>\n",
       "      <td>0.0</td>\n",
       "      <td>...</td>\n",
       "      <td>0.000000</td>\n",
       "      <td>0.000000</td>\n",
       "      <td>0.000000</td>\n",
       "      <td>0.000000</td>\n",
       "      <td>0.000000</td>\n",
       "      <td>0.184025</td>\n",
       "      <td>0.815975</td>\n",
       "      <td>0.000000</td>\n",
       "      <td>0.0</td>\n",
       "      <td>0.0</td>\n",
       "    </tr>\n",
       "    <tr>\n",
       "      <th>3</th>\n",
       "      <td>1.0</td>\n",
       "      <td>2.0</td>\n",
       "      <td>13.0</td>\n",
       "      <td>16.0</td>\n",
       "      <td>7.0</td>\n",
       "      <td>15.0</td>\n",
       "      <td>1.0</td>\n",
       "      <td>3.0</td>\n",
       "      <td>0.0</td>\n",
       "      <td>0.0</td>\n",
       "      <td>...</td>\n",
       "      <td>0.049296</td>\n",
       "      <td>0.033299</td>\n",
       "      <td>0.297998</td>\n",
       "      <td>0.148285</td>\n",
       "      <td>0.171692</td>\n",
       "      <td>0.169899</td>\n",
       "      <td>0.050223</td>\n",
       "      <td>0.079309</td>\n",
       "      <td>0.0</td>\n",
       "      <td>0.0</td>\n",
       "    </tr>\n",
       "    <tr>\n",
       "      <th>4</th>\n",
       "      <td>1.0</td>\n",
       "      <td>1.0</td>\n",
       "      <td>5.0</td>\n",
       "      <td>8.0</td>\n",
       "      <td>5.0</td>\n",
       "      <td>6.0</td>\n",
       "      <td>2.0</td>\n",
       "      <td>1.0</td>\n",
       "      <td>0.0</td>\n",
       "      <td>0.0</td>\n",
       "      <td>...</td>\n",
       "      <td>0.086154</td>\n",
       "      <td>0.029099</td>\n",
       "      <td>0.200312</td>\n",
       "      <td>0.129579</td>\n",
       "      <td>0.214333</td>\n",
       "      <td>0.118773</td>\n",
       "      <td>0.175548</td>\n",
       "      <td>0.046203</td>\n",
       "      <td>0.0</td>\n",
       "      <td>0.0</td>\n",
       "    </tr>\n",
       "  </tbody>\n",
       "</table>\n",
       "<p>5 rows × 22 columns</p>\n",
       "</div>"
      ],
      "text/plain": [
       "   20대 남성 판매량(개)  20대 여성 판매량(개)  30대 남성 판매량(개)  30대 여성 판매량(개)  40대 남성 판매량(개)  \\\n",
       "0           13.0           37.0            6.0           16.0            6.0   \n",
       "1            0.0            4.0            3.0            6.0            1.0   \n",
       "2            0.0            0.0            0.0            0.0            0.0   \n",
       "3            1.0            2.0           13.0           16.0            7.0   \n",
       "4            1.0            1.0            5.0            8.0            5.0   \n",
       "\n",
       "   40대 여성 판매량(개)  50대 남성 판매량(개)  50대 여성 판매량(개)  60대 남성 판매량(개)  60대 여성 판매량(개)  \\\n",
       "0            9.0            0.0            3.0            0.0            0.0   \n",
       "1            7.0            1.0            1.0            0.0            0.0   \n",
       "2            1.0            1.0            0.0            0.0            0.0   \n",
       "3           15.0            1.0            3.0            0.0            0.0   \n",
       "4            6.0            2.0            1.0            0.0            0.0   \n",
       "\n",
       "   ...  20대 남성 선호도 점수  20대 여성 선호도 점수  30대 남성 선호도 점수  30대 여성 선호도 점수  \\\n",
       "0  ...       0.342493       0.329235       0.073506       0.079250   \n",
       "1  ...       0.000000       0.179295       0.185138       0.149704   \n",
       "2  ...       0.000000       0.000000       0.000000       0.000000   \n",
       "3  ...       0.049296       0.033299       0.297998       0.148285   \n",
       "4  ...       0.086154       0.029099       0.200312       0.129579   \n",
       "\n",
       "   40대 남성 선호도 점수  40대 여성 선호도 점수  50대 남성 선호도 점수  50대 여성 선호도 점수  60대 남성 선호도 점수  \\\n",
       "0       0.078651       0.054480       0.000000       0.042386            0.0   \n",
       "1       0.066032       0.213452       0.135208       0.071171            0.0   \n",
       "2       0.000000       0.184025       0.815975       0.000000            0.0   \n",
       "3       0.171692       0.169899       0.050223       0.079309            0.0   \n",
       "4       0.214333       0.118773       0.175548       0.046203            0.0   \n",
       "\n",
       "   60대 여성 선호도 점수  \n",
       "0            0.0  \n",
       "1            0.0  \n",
       "2            0.0  \n",
       "3            0.0  \n",
       "4            0.0  \n",
       "\n",
       "[5 rows x 22 columns]"
      ]
     },
     "execution_count": 81,
     "metadata": {},
     "output_type": "execute_result"
    }
   ],
   "source": [
    "y_df = sale_and_weather_df.loc[:, '20대 남성 판매량(개)':]\n",
    "y_df.head()"
   ]
  },
  {
   "cell_type": "code",
   "execution_count": 82,
   "metadata": {
    "ExecuteTime": {
     "end_time": "2021-06-05T03:29:12.687703Z",
     "start_time": "2021-06-05T03:29:11.619730Z"
    },
    "executionInfo": {
     "elapsed": 2337,
     "status": "ok",
     "timestamp": 1622370393367,
     "user": {
      "displayName": "­김도현 / 학생 / 제약학과(2+4년제)",
      "photoUrl": "",
      "userId": "09377139803227566689"
     },
     "user_tz": -540
    },
    "id": "7LTQt1QgyZBj"
   },
   "outputs": [],
   "source": [
    "X_train, X_test, y_train, y_test = train_test_split(X_df, y_df, test_size = 0.3, shuffle = True, random_state = 1004)"
   ]
  },
  {
   "cell_type": "code",
   "execution_count": 83,
   "metadata": {
    "ExecuteTime": {
     "end_time": "2021-06-05T03:31:20.912314Z",
     "start_time": "2021-06-05T03:31:00.268841Z"
    },
    "executionInfo": {
     "elapsed": 32257,
     "status": "ok",
     "timestamp": 1622370508204,
     "user": {
      "displayName": "­김도현 / 학생 / 제약학과(2+4년제)",
      "photoUrl": "",
      "userId": "09377139803227566689"
     },
     "user_tz": -540
    },
    "id": "6CFFYnhLz7WF"
   },
   "outputs": [],
   "source": [
    "X_train.to_csv('../data/X_train_weather_columns_6.csv', index = False, encoding='CP949')\n",
    "X_test.to_csv('../data/X_test_weather_columns_6.csv', index = False, encoding='CP949')\n",
    "y_train.to_csv('../data/y_train_weather_columns_6.csv', index = False, encoding='CP949')\n",
    "y_test.to_csv('../data/y_test_weather_columns_6.csv', index = False, encoding='CP949')"
   ]
  }
 ],
 "metadata": {
  "colab": {
   "authorship_tag": "ABX9TyM2qwMEjyseAXXVJfDgZLpa",
   "collapsed_sections": [],
   "name": "data_merging.ipynb",
   "provenance": []
  },
  "kernelspec": {
   "display_name": "Python 3",
   "language": "python",
   "name": "python3"
  },
  "language_info": {
   "codemirror_mode": {
    "name": "ipython",
    "version": 3
   },
   "file_extension": ".py",
   "mimetype": "text/x-python",
   "name": "python",
   "nbconvert_exporter": "python",
   "pygments_lexer": "ipython3",
   "version": "3.8.5"
  },
  "toc": {
   "base_numbering": 1,
   "nav_menu": {},
   "number_sections": true,
   "sideBar": true,
   "skip_h1_title": false,
   "title_cell": "Table of Contents",
   "title_sidebar": "Contents",
   "toc_cell": false,
   "toc_position": {},
   "toc_section_display": true,
   "toc_window_display": false
  }
 },
 "nbformat": 4,
 "nbformat_minor": 1
}

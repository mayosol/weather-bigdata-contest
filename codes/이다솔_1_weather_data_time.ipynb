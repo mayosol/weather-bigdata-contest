{
  "nbformat": 4,
  "nbformat_minor": 0,
  "metadata": {
    "colab": {
      "name": "code_ver2.ipynb",
      "provenance": []
    },
    "kernelspec": {
      "name": "python3",
      "display_name": "Python 3"
    },
    "language_info": {
      "name": "python"
    }
  },
  "cells": [
    {
      "cell_type": "code",
      "metadata": {
        "id": "atEiB_ZRu8as"
      },
      "source": [
        "import numpy as np\n",
        "import pandas as pd\n",
        "import datetime"
      ],
      "execution_count": 1,
      "outputs": []
    },
    {
      "cell_type": "code",
      "metadata": {
        "colab": {
          "base_uri": "https://localhost:8080/"
        },
        "id": "SY8dYMT1vAAp",
        "outputId": "1c2eec37-e4eb-4447-b877-62d42a1d28cf"
      },
      "source": [
        "from google.colab import drive\n",
        "drive.mount('/content/drive')"
      ],
      "execution_count": 2,
      "outputs": [
        {
          "output_type": "stream",
          "text": [
            "Mounted at /content/drive\n"
          ],
          "name": "stdout"
        }
      ]
    },
    {
      "cell_type": "code",
      "metadata": {
        "colab": {
          "base_uri": "https://localhost:8080/"
        },
        "id": "cXKqC7PdvCCo",
        "outputId": "1b2c7b8d-5012-4538-c623-e4db2767863c"
      },
      "source": [
        "cd drive/MyDrive/Colab_Notebooks/weather_bigdata_contest/"
      ],
      "execution_count": 3,
      "outputs": [
        {
          "output_type": "stream",
          "text": [
            "/content/drive/MyDrive/Colab_Notebooks/weather_bigdata_contest\n"
          ],
          "name": "stdout"
        }
      ]
    },
    {
      "cell_type": "code",
      "metadata": {
        "id": "ES-9--5lvGh3"
      },
      "source": [
        "# 인구비율 데이터 불러오기\n",
        "population_ratio = pd.read_csv('Population_Ratio.csv', encoding='CP949')"
      ],
      "execution_count": 4,
      "outputs": []
    },
    {
      "cell_type": "code",
      "metadata": {
        "colab": {
          "base_uri": "https://localhost:8080/",
          "height": 297
        },
        "id": "wGJ1Zw88vH8_",
        "outputId": "96838a11-cd92-4e3e-8f25-6b52545b8176"
      },
      "source": [
        "population_ratio.head(10)"
      ],
      "execution_count": 5,
      "outputs": [
        {
          "output_type": "execute_result",
          "data": {
            "text/html": [
              "<div>\n",
              "<style scoped>\n",
              "    .dataframe tbody tr th:only-of-type {\n",
              "        vertical-align: middle;\n",
              "    }\n",
              "\n",
              "    .dataframe tbody tr th {\n",
              "        vertical-align: top;\n",
              "    }\n",
              "\n",
              "    .dataframe thead th {\n",
              "        text-align: right;\n",
              "    }\n",
              "</style>\n",
              "<table border=\"1\" class=\"dataframe\">\n",
              "  <thead>\n",
              "    <tr style=\"text-align: right;\">\n",
              "      <th></th>\n",
              "      <th>지역</th>\n",
              "      <th>2018년-2019년 평균 총 인구수(명)</th>\n",
              "      <th>2018년-2019년 8대 도시 평균 총 인구수 대비 지역의 평균 총 인구수비</th>\n",
              "    </tr>\n",
              "  </thead>\n",
              "  <tbody>\n",
              "    <tr>\n",
              "      <th>0</th>\n",
              "      <td>수원</td>\n",
              "      <td>1197815.5</td>\n",
              "      <td>0.050179</td>\n",
              "    </tr>\n",
              "    <tr>\n",
              "      <th>1</th>\n",
              "      <td>광주</td>\n",
              "      <td>1457902.0</td>\n",
              "      <td>0.061075</td>\n",
              "    </tr>\n",
              "    <tr>\n",
              "      <th>2</th>\n",
              "      <td>대구</td>\n",
              "      <td>2449900.0</td>\n",
              "      <td>0.102632</td>\n",
              "    </tr>\n",
              "    <tr>\n",
              "      <th>3</th>\n",
              "      <td>대전</td>\n",
              "      <td>1482403.0</td>\n",
              "      <td>0.062101</td>\n",
              "    </tr>\n",
              "    <tr>\n",
              "      <th>4</th>\n",
              "      <td>부산</td>\n",
              "      <td>3427647.0</td>\n",
              "      <td>0.143592</td>\n",
              "    </tr>\n",
              "    <tr>\n",
              "      <th>5</th>\n",
              "      <td>서울</td>\n",
              "      <td>9747365.0</td>\n",
              "      <td>0.408340</td>\n",
              "    </tr>\n",
              "    <tr>\n",
              "      <th>6</th>\n",
              "      <td>울산</td>\n",
              "      <td>1151821.0</td>\n",
              "      <td>0.048253</td>\n",
              "    </tr>\n",
              "    <tr>\n",
              "      <th>7</th>\n",
              "      <td>인천</td>\n",
              "      <td>2955834.0</td>\n",
              "      <td>0.123827</td>\n",
              "    </tr>\n",
              "  </tbody>\n",
              "</table>\n",
              "</div>"
            ],
            "text/plain": [
              "   지역  2018년-2019년 평균 총 인구수(명)  2018년-2019년 8대 도시 평균 총 인구수 대비 지역의 평균 총 인구수비\n",
              "0  수원                1197815.5                                     0.050179\n",
              "1  광주                1457902.0                                     0.061075\n",
              "2  대구                2449900.0                                     0.102632\n",
              "3  대전                1482403.0                                     0.062101\n",
              "4  부산                3427647.0                                     0.143592\n",
              "5  서울                9747365.0                                     0.408340\n",
              "6  울산                1151821.0                                     0.048253\n",
              "7  인천                2955834.0                                     0.123827"
            ]
          },
          "metadata": {
            "tags": []
          },
          "execution_count": 5
        }
      ]
    },
    {
      "cell_type": "code",
      "metadata": {
        "id": "XCC2NtNAvI-n"
      },
      "source": [
        "# 날씨데이터 불러오기\n",
        "weather = pd.read_csv('Weather_Data.csv', encoding='CP949')"
      ],
      "execution_count": 6,
      "outputs": []
    },
    {
      "cell_type": "code",
      "metadata": {
        "colab": {
          "base_uri": "https://localhost:8080/",
          "height": 374
        },
        "id": "DOAuqyp6vKRn",
        "outputId": "ffc0eed0-33fb-472b-aafd-5784f4b94e74"
      },
      "source": [
        "weather.head()"
      ],
      "execution_count": 7,
      "outputs": [
        {
          "output_type": "execute_result",
          "data": {
            "text/html": [
              "<div>\n",
              "<style scoped>\n",
              "    .dataframe tbody tr th:only-of-type {\n",
              "        vertical-align: middle;\n",
              "    }\n",
              "\n",
              "    .dataframe tbody tr th {\n",
              "        vertical-align: top;\n",
              "    }\n",
              "\n",
              "    .dataframe thead th {\n",
              "        text-align: right;\n",
              "    }\n",
              "</style>\n",
              "<table border=\"1\" class=\"dataframe\">\n",
              "  <thead>\n",
              "    <tr style=\"text-align: right;\">\n",
              "      <th></th>\n",
              "      <th>지점</th>\n",
              "      <th>지점명</th>\n",
              "      <th>일시</th>\n",
              "      <th>평균기온(°C)</th>\n",
              "      <th>최저기온(°C)</th>\n",
              "      <th>최저기온 시각(hhmi)</th>\n",
              "      <th>최고기온(°C)</th>\n",
              "      <th>최고기온 시각(hhmi)</th>\n",
              "      <th>강수 계속시간(hr)</th>\n",
              "      <th>1시간 최다강수량(mm)</th>\n",
              "      <th>1시간 최다 강수량 시각(hhmi)</th>\n",
              "      <th>일강수량(mm)</th>\n",
              "      <th>평균 풍속(m/s)</th>\n",
              "      <th>풍정합(100m)</th>\n",
              "      <th>최다풍향(16방위)</th>\n",
              "      <th>최소 상대습도(%)</th>\n",
              "      <th>최소 상대습도 시각(hhmi)</th>\n",
              "      <th>평균 상대습도(%)</th>\n",
              "    </tr>\n",
              "  </thead>\n",
              "  <tbody>\n",
              "    <tr>\n",
              "      <th>0</th>\n",
              "      <td>108</td>\n",
              "      <td>서울</td>\n",
              "      <td>2018-01-01</td>\n",
              "      <td>-1.3</td>\n",
              "      <td>-5.1</td>\n",
              "      <td>739</td>\n",
              "      <td>3.8</td>\n",
              "      <td>1538</td>\n",
              "      <td>NaN</td>\n",
              "      <td>NaN</td>\n",
              "      <td>NaN</td>\n",
              "      <td>NaN</td>\n",
              "      <td>1.4</td>\n",
              "      <td>1188.0</td>\n",
              "      <td>290.0</td>\n",
              "      <td>19.0</td>\n",
              "      <td>1203</td>\n",
              "      <td>39.1</td>\n",
              "    </tr>\n",
              "    <tr>\n",
              "      <th>1</th>\n",
              "      <td>108</td>\n",
              "      <td>서울</td>\n",
              "      <td>2018-01-02</td>\n",
              "      <td>-1.8</td>\n",
              "      <td>-4.3</td>\n",
              "      <td>2348</td>\n",
              "      <td>1.8</td>\n",
              "      <td>1345</td>\n",
              "      <td>NaN</td>\n",
              "      <td>NaN</td>\n",
              "      <td>NaN</td>\n",
              "      <td>NaN</td>\n",
              "      <td>1.8</td>\n",
              "      <td>1573.0</td>\n",
              "      <td>290.0</td>\n",
              "      <td>19.0</td>\n",
              "      <td>1357</td>\n",
              "      <td>42.0</td>\n",
              "    </tr>\n",
              "    <tr>\n",
              "      <th>2</th>\n",
              "      <td>108</td>\n",
              "      <td>서울</td>\n",
              "      <td>2018-01-03</td>\n",
              "      <td>-4.7</td>\n",
              "      <td>-7.1</td>\n",
              "      <td>804</td>\n",
              "      <td>-0.4</td>\n",
              "      <td>1550</td>\n",
              "      <td>NaN</td>\n",
              "      <td>NaN</td>\n",
              "      <td>NaN</td>\n",
              "      <td>NaN</td>\n",
              "      <td>2.2</td>\n",
              "      <td>1943.0</td>\n",
              "      <td>290.0</td>\n",
              "      <td>28.0</td>\n",
              "      <td>1539</td>\n",
              "      <td>42.3</td>\n",
              "    </tr>\n",
              "    <tr>\n",
              "      <th>3</th>\n",
              "      <td>108</td>\n",
              "      <td>서울</td>\n",
              "      <td>2018-01-04</td>\n",
              "      <td>-4.7</td>\n",
              "      <td>-8.7</td>\n",
              "      <td>751</td>\n",
              "      <td>-0.7</td>\n",
              "      <td>1519</td>\n",
              "      <td>NaN</td>\n",
              "      <td>NaN</td>\n",
              "      <td>NaN</td>\n",
              "      <td>NaN</td>\n",
              "      <td>1.4</td>\n",
              "      <td>1168.0</td>\n",
              "      <td>290.0</td>\n",
              "      <td>31.0</td>\n",
              "      <td>1312</td>\n",
              "      <td>43.0</td>\n",
              "    </tr>\n",
              "    <tr>\n",
              "      <th>4</th>\n",
              "      <td>108</td>\n",
              "      <td>서울</td>\n",
              "      <td>2018-01-05</td>\n",
              "      <td>-3.0</td>\n",
              "      <td>-5.6</td>\n",
              "      <td>306</td>\n",
              "      <td>1.6</td>\n",
              "      <td>1530</td>\n",
              "      <td>NaN</td>\n",
              "      <td>NaN</td>\n",
              "      <td>NaN</td>\n",
              "      <td>NaN</td>\n",
              "      <td>1.7</td>\n",
              "      <td>1450.0</td>\n",
              "      <td>290.0</td>\n",
              "      <td>32.0</td>\n",
              "      <td>1504</td>\n",
              "      <td>48.4</td>\n",
              "    </tr>\n",
              "  </tbody>\n",
              "</table>\n",
              "</div>"
            ],
            "text/plain": [
              "    지점 지점명          일시  ...  최소 상대습도(%)  최소 상대습도 시각(hhmi)  평균 상대습도(%)\n",
              "0  108  서울  2018-01-01  ...        19.0              1203        39.1\n",
              "1  108  서울  2018-01-02  ...        19.0              1357        42.0\n",
              "2  108  서울  2018-01-03  ...        28.0              1539        42.3\n",
              "3  108  서울  2018-01-04  ...        31.0              1312        43.0\n",
              "4  108  서울  2018-01-05  ...        32.0              1504        48.4\n",
              "\n",
              "[5 rows x 18 columns]"
            ]
          },
          "metadata": {
            "tags": []
          },
          "execution_count": 7
        }
      ]
    },
    {
      "cell_type": "code",
      "metadata": {
        "colab": {
          "base_uri": "https://localhost:8080/"
        },
        "id": "HptMdp5mvLrf",
        "outputId": "08218a02-1eed-4a20-cf28-a0be21c6475e"
      },
      "source": [
        "weather.info()"
      ],
      "execution_count": 8,
      "outputs": [
        {
          "output_type": "stream",
          "text": [
            "<class 'pandas.core.frame.DataFrame'>\n",
            "RangeIndex: 5840 entries, 0 to 5839\n",
            "Data columns (total 18 columns):\n",
            " #   Column               Non-Null Count  Dtype  \n",
            "---  ------               --------------  -----  \n",
            " 0   지점                   5840 non-null   int64  \n",
            " 1   지점명                  5840 non-null   object \n",
            " 2   일시                   5840 non-null   object \n",
            " 3   평균기온(°C)             5840 non-null   float64\n",
            " 4   최저기온(°C)             5840 non-null   float64\n",
            " 5   최저기온 시각(hhmi)        5840 non-null   int64  \n",
            " 6   최고기온(°C)             5840 non-null   float64\n",
            " 7   최고기온 시각(hhmi)        5840 non-null   int64  \n",
            " 8   강수 계속시간(hr)          2072 non-null   float64\n",
            " 9   1시간 최다강수량(mm)        1359 non-null   float64\n",
            " 10  1시간 최다 강수량 시각(hhmi)  928 non-null    float64\n",
            " 11  일강수량(mm)             2079 non-null   float64\n",
            " 12  평균 풍속(m/s)           5835 non-null   float64\n",
            " 13  풍정합(100m)            5831 non-null   float64\n",
            " 14  최다풍향(16방위)           5838 non-null   float64\n",
            " 15  최소 상대습도(%)           5840 non-null   float64\n",
            " 16  최소 상대습도 시각(hhmi)     5840 non-null   int64  \n",
            " 17  평균 상대습도(%)           5840 non-null   float64\n",
            "dtypes: float64(12), int64(4), object(2)\n",
            "memory usage: 821.4+ KB\n"
          ],
          "name": "stdout"
        }
      ]
    },
    {
      "cell_type": "markdown",
      "metadata": {
        "id": "--FsmneyvQ-u"
      },
      "source": [
        "## **전달 사항 !!**\n",
        "### 1. 일 강수량은 0인데 강수 계속시간에 대한 데이터는 있는 경우가 있어 찾아보았습니다.\n",
        "답변 :\n",
        "\n",
        "종관기상관측지점 일강수량의 경우 강수가 없는 날 또는 결측인 경우에는 강수량 값이 없으며,\n",
        "\n",
        "강수량이 0.1mm 미만이거나 관측할 수 없는 정도의 양은 0으로 기입합니다.\n",
        "\n",
        "**눈, 비 오지 않음 = NaN**\n",
        "\n",
        "**0.1mm 미만 눈, 비 = 0**\n",
        "\n",
        "### 2. 11 ~ 3월의 데이터에 1시간 최다강수량과 1시간 최다 강수량 시각이 기입되어있지 않은 것도 찾아보았습니다.\n",
        "답변 :\n",
        "\n",
        "11월에서 3월까지는 1시간 및 10분 최다강수량과 시각은 기입하지 않습니다.\n",
        "\n",
        "간행물>지침>'8. 기후통계지침' 73쪽 세번째 문단을 참고하시기 바랍니다.\n",
        "\n",
        "참고 : **2.1.1.3 강수량은 11월 ~ 다음 해 3월까지는 3시간 단위로 4~10월까지는 매시간 단위로 기입한다.**\n",
        "\n",
        "이러한 이유때문이라고 합니다.\n",
        "\n",
        "### 3. 4 ~ 10월이라도 일 강수량이 0.1인 경우 1시간 최다 강수량 시각이 기록되어있지 않습니다.\n",
        "2019-10-29 서울의 경우를 제외한 모든 데이터에 해당합니다.\n",
        "\n",
        "### 4. 강수 관련 데이터 말고도 평균 풍속, 풍정합, 최다풍향에 결측치가 존재합니다.\n",
        "측정기기나 전산 등에 문제가 생긴 경우 발생한다고 합니다.\n",
        "\n",
        "### 5. 시각데이터가 음수인 경우가 있습니다.\n",
        "대체로 23시 **분일 때 적용됩니다.\n",
        "\n",
        "가시성을 위해 추가되었다고 합니다."
      ]
    },
    {
      "cell_type": "code",
      "metadata": {
        "id": "ym_YpZ81vc3-"
      },
      "source": [
        "# 지점 칼럼 없애기\n",
        "del weather['지점']"
      ],
      "execution_count": 9,
      "outputs": []
    },
    {
      "cell_type": "code",
      "metadata": {
        "id": "0A_iSaLYvoxe"
      },
      "source": [
        "# 컬럼명 바꾸기\n",
        "weather = weather.rename({'지점명' : '지역', '일시' : '날짜'}, axis='columns')"
      ],
      "execution_count": 10,
      "outputs": []
    },
    {
      "cell_type": "code",
      "metadata": {
        "colab": {
          "base_uri": "https://localhost:8080/"
        },
        "id": "Quv0qU--vqP1",
        "outputId": "36681c81-c0af-4311-cc94-87ff591daa85"
      },
      "source": [
        "weather.info()"
      ],
      "execution_count": 11,
      "outputs": [
        {
          "output_type": "stream",
          "text": [
            "<class 'pandas.core.frame.DataFrame'>\n",
            "RangeIndex: 5840 entries, 0 to 5839\n",
            "Data columns (total 17 columns):\n",
            " #   Column               Non-Null Count  Dtype  \n",
            "---  ------               --------------  -----  \n",
            " 0   지역                   5840 non-null   object \n",
            " 1   날짜                   5840 non-null   object \n",
            " 2   평균기온(°C)             5840 non-null   float64\n",
            " 3   최저기온(°C)             5840 non-null   float64\n",
            " 4   최저기온 시각(hhmi)        5840 non-null   int64  \n",
            " 5   최고기온(°C)             5840 non-null   float64\n",
            " 6   최고기온 시각(hhmi)        5840 non-null   int64  \n",
            " 7   강수 계속시간(hr)          2072 non-null   float64\n",
            " 8   1시간 최다강수량(mm)        1359 non-null   float64\n",
            " 9   1시간 최다 강수량 시각(hhmi)  928 non-null    float64\n",
            " 10  일강수량(mm)             2079 non-null   float64\n",
            " 11  평균 풍속(m/s)           5835 non-null   float64\n",
            " 12  풍정합(100m)            5831 non-null   float64\n",
            " 13  최다풍향(16방위)           5838 non-null   float64\n",
            " 14  최소 상대습도(%)           5840 non-null   float64\n",
            " 15  최소 상대습도 시각(hhmi)     5840 non-null   int64  \n",
            " 16  평균 상대습도(%)           5840 non-null   float64\n",
            "dtypes: float64(12), int64(3), object(2)\n",
            "memory usage: 775.8+ KB\n"
          ],
          "name": "stdout"
        }
      ]
    },
    {
      "cell_type": "markdown",
      "metadata": {
        "id": "bqEiSltXwDx5"
      },
      "source": [
        "### 날짜 추출\n",
        "\n",
        "1.   날짜 : YYYY-DD-MM datetime 객체\n",
        "2.   최저기온시각(hhmi) : 널값 x\n",
        "3.   최고기온 시각(hhmi) : 널값 x\n",
        "4.   1시간 최다 강수량 시각(hhmi) : 널값 o\n",
        "5.   최소 상대습도 시각(hhmi) : 널값 x"
      ]
    },
    {
      "cell_type": "markdown",
      "metadata": {
        "id": "4ZNYPTBdwGx1"
      },
      "source": [
        "날짜는 YYYY-DD-MM 형태의 datetime 객체로 추출한다."
      ]
    },
    {
      "cell_type": "code",
      "metadata": {
        "id": "8amP5aBZvrWd"
      },
      "source": [
        "# 1. 날짜\n",
        "# datetime 추출을 위해 날짜의 타입을 스트링으로 바꾸기\n",
        "weather['날짜'] = weather['날짜'].astype('str')"
      ],
      "execution_count": 12,
      "outputs": []
    },
    {
      "cell_type": "code",
      "metadata": {
        "id": "KOE6VFrQwIlL"
      },
      "source": [
        "# 연-월-일의 형태로 날짜 추출\n",
        "weather['날짜'] = weather['날짜'].apply(lambda _ : datetime.datetime.strptime(_,'%Y-%m-%d'))"
      ],
      "execution_count": 13,
      "outputs": []
    },
    {
      "cell_type": "markdown",
      "metadata": {
        "id": "d92vPgJ4wMEM"
      },
      "source": [
        "최저기온시각(hhmi), 최고기온 시각(hhmi), 최소 상대습도 시각(hhmi)은 널값이 없기 때문에 같은 함수로 처리한다."
      ]
    },
    {
      "cell_type": "code",
      "metadata": {
        "id": "tf96YL3awKi7"
      },
      "source": [
        "# hhmi = 만약 2020이라면 20:22, 842라면 08:42, 1이라면 00:01를 의미\n",
        "# 따라서 데이터가 4자리수가 아니라면 앞에서부터 차례로 0을 채워주어야 함.\n",
        "def hhmi(x) :\n",
        "  if 0 <= int(x) < 10 :\n",
        "    return '000' + x\n",
        "\n",
        "  elif 10 <= int(x) < 100 :\n",
        "    return '00' + x\n",
        "\n",
        "  elif 100 <= int(x) < 1000 :\n",
        "    return '0' + x\n",
        "\n",
        "  elif 1000 <= int(x) < 2400 :\n",
        "    return x\n",
        "  # 데이터가 음수인 경우 -를 빼고 그대로 추출.\n",
        "  elif int(x) < 0 :\n",
        "    return x[1:]\n",
        "\n",
        "# datetime 모듈의 %H가 0부터 23까지만 시간으로 인식하기 때문에 2400인 경우 0000으로 바꾼다.\n",
        "  elif int(x) == 2400 :\n",
        "    return '00' + x[2:]"
      ],
      "execution_count": 14,
      "outputs": []
    },
    {
      "cell_type": "code",
      "metadata": {
        "id": "nCt4P00rwOBc"
      },
      "source": [
        "# 데이터가 int형이기 때문에 str로 변환한 뒤 hhmi 함수 적용\n",
        "weather['최저기온 시각(hhmi)'] = weather['최저기온 시각(hhmi)'].astype('str')\n",
        "weather['최저기온 시각(hhmi)'] = weather['최저기온 시각(hhmi)'].apply(hhmi)\n",
        "\n",
        "weather['최고기온 시각(hhmi)'] = weather['최고기온 시각(hhmi)'].astype('str')\n",
        "weather['최고기온 시각(hhmi)'] = weather['최고기온 시각(hhmi)'].apply(hhmi)\n",
        "\n",
        "weather['최소 상대습도 시각(hhmi)'] = weather['최소 상대습도 시각(hhmi)'].astype('str')\n",
        "weather['최소 상대습도 시각(hhmi)'] = weather['최소 상대습도 시각(hhmi)'].apply(hhmi)"
      ],
      "execution_count": 15,
      "outputs": []
    },
    {
      "cell_type": "code",
      "metadata": {
        "id": "5YHwj_PuwPc0"
      },
      "source": [
        "# 시간 객체로 바꾸면 연월일 데이터가 추가되기 때문에 시간:분 만 문자열로 추출한다.\n",
        "weather['최저기온 시각(hhmi)'] = weather['최저기온 시각(hhmi)'].apply(lambda _ : datetime.datetime.strptime(_,'%H%M'))\n",
        "weather['최저기온 시각(hhmi)'] = weather['최저기온 시각(hhmi)'].apply(lambda _ : datetime.datetime.strftime(_,'%H:%M'))\n",
        "\n",
        "weather['최고기온 시각(hhmi)'] = weather['최고기온 시각(hhmi)'].apply(lambda _ : datetime.datetime.strptime(_,'%H%M'))\n",
        "weather['최고기온 시각(hhmi)'] = weather['최고기온 시각(hhmi)'].apply(lambda _ : datetime.datetime.strftime(_,'%H:%M'))\n",
        "\n",
        "weather['최소 상대습도 시각(hhmi)'] = weather['최소 상대습도 시각(hhmi)'].apply(lambda _ : datetime.datetime.strptime(_,'%H%M'))\n",
        "weather['최소 상대습도 시각(hhmi)'] = weather['최소 상대습도 시각(hhmi)'].apply(lambda _ : datetime.datetime.strftime(_,'%H:%M'))"
      ],
      "execution_count": 16,
      "outputs": []
    },
    {
      "cell_type": "markdown",
      "metadata": {
        "id": "q2J_NpsOwSFi"
      },
      "source": [
        "1시간 최다 강수량 시각(hhmi)는 float형이고, 결측치가 존재하므로 따로 처리한다."
      ]
    },
    {
      "cell_type": "code",
      "metadata": {
        "id": "xepM_CEnwQuk"
      },
      "source": [
        "def rain(x) :\n",
        "    if 0 < int(x) < 10 :\n",
        "      return '000' + x\n",
        "\n",
        "    elif 10 <= int(x) < 100 :\n",
        "      return '00' + x\n",
        "\n",
        "    elif 100 <= int(x) < 1000 :\n",
        "      return '0' + x\n",
        "\n",
        "    elif 1000 <= int(x) < 2400 :\n",
        "      return x\n",
        "\n",
        "    elif int(x) < 0 :\n",
        "      return x[1:]\n",
        "      \n",
        "    # 0으로 바꾸었던 NaN을 0000으로 또 바꾸기\n",
        "    elif int(x) == 0 :\n",
        "      return '0000'"
      ],
      "execution_count": 17,
      "outputs": []
    },
    {
      "cell_type": "code",
      "metadata": {
        "id": "Ryq9RQhrwT0E"
      },
      "source": [
        "# 결측치 NaN을 0으로 바꾸어주고, float을 int로 바꾼 다음 다시 str으로 형변환한다.\n",
        "weather['1시간 최다 강수량 시각(hhmi)'] = weather['1시간 최다 강수량 시각(hhmi)'].fillna(0)\n",
        "weather['1시간 최다 강수량 시각(hhmi)'] = weather['1시간 최다 강수량 시각(hhmi)'].astype(int)\n",
        "weather['1시간 최다 강수량 시각(hhmi)'] = weather['1시간 최다 강수량 시각(hhmi)'].astype('str')\n",
        "\n",
        "weather['1시간 최다 강수량 시각(hhmi)'] = weather['1시간 최다 강수량 시각(hhmi)'].apply(rain)"
      ],
      "execution_count": 18,
      "outputs": []
    },
    {
      "cell_type": "code",
      "metadata": {
        "id": "Kt2r1MPRwVZb"
      },
      "source": [
        "# 시간 객체로 바꾸면 연월일 데이터가 추가되기 때문에 시간:분 만 문자열로 추출한다.\n",
        "weather['1시간 최다 강수량 시각(hhmi)'] = weather['1시간 최다 강수량 시각(hhmi)'].apply(lambda _ : datetime.datetime.strptime(_,'%H%M'))\n",
        "weather['1시간 최다 강수량 시각(hhmi)'] = weather['1시간 최다 강수량 시각(hhmi)'].apply(lambda _ : datetime.datetime.strftime(_,'%H:%M'))"
      ],
      "execution_count": 19,
      "outputs": []
    },
    {
      "cell_type": "code",
      "metadata": {
        "id": "nsReXWmYwWz7"
      },
      "source": [
        "# NaN -> 0 -> 0000 -> 00:00 순으로 바뀌었던 결측치를 다시 NaN으로 변환한다.\n",
        "weather['1시간 최다 강수량 시각(hhmi)'] = weather['1시간 최다 강수량 시각(hhmi)'].replace('00:00', np.NaN)"
      ],
      "execution_count": 20,
      "outputs": []
    },
    {
      "cell_type": "markdown",
      "metadata": {
        "id": "crnNcPNLwYdC"
      },
      "source": [
        "210528 금 오후 5시 - HH:MM가 아닌 HH만 가지고 시각데이터를 1시간 단위로 카테고리화 하기로 했습니다 !! \n",
        "\n",
        "HH:MM의 앞 두자리만 반환하여 시간만 저장하는 함수를 새로 만들었습니다."
      ]
    },
    {
      "cell_type": "code",
      "metadata": {
        "id": "ujw9aWj2wX1D"
      },
      "source": [
        "def onlyhour(x) :\n",
        "    return x[:2]\n",
        "\n",
        "weather['최저기온 시각(hhmi)'] = weather['최저기온 시각(hhmi)'].apply(onlyhour)\n",
        "weather['최고기온 시각(hhmi)'] = weather['최고기온 시각(hhmi)'].apply(onlyhour)\n",
        "weather['최소 상대습도 시각(hhmi)'] = weather['최소 상대습도 시각(hhmi)'].apply(onlyhour)"
      ],
      "execution_count": 21,
      "outputs": []
    },
    {
      "cell_type": "code",
      "metadata": {
        "id": "dhNLdZ4-wbTL"
      },
      "source": [
        "weather['1시간 최다 강수량 시각(hhmi)'] = weather['1시간 최다 강수량 시각(hhmi)'].fillna('00:00')\n",
        "weather['1시간 최다 강수량 시각(hhmi)'] = weather['1시간 최다 강수량 시각(hhmi)'].apply(onlyhour)\n",
        "weather['1시간 최다 강수량 시각(hhmi)'] = weather['1시간 최다 강수량 시각(hhmi)'].replace('00', np.NaN)"
      ],
      "execution_count": 22,
      "outputs": []
    },
    {
      "cell_type": "code",
      "metadata": {
        "colab": {
          "base_uri": "https://localhost:8080/",
          "height": 665
        },
        "id": "_vw8kQvIwcXD",
        "outputId": "9805fde0-e392-457c-a8fd-5c9b4afddc9e"
      },
      "source": [
        "weather.head(10)"
      ],
      "execution_count": 23,
      "outputs": [
        {
          "output_type": "execute_result",
          "data": {
            "text/html": [
              "<div>\n",
              "<style scoped>\n",
              "    .dataframe tbody tr th:only-of-type {\n",
              "        vertical-align: middle;\n",
              "    }\n",
              "\n",
              "    .dataframe tbody tr th {\n",
              "        vertical-align: top;\n",
              "    }\n",
              "\n",
              "    .dataframe thead th {\n",
              "        text-align: right;\n",
              "    }\n",
              "</style>\n",
              "<table border=\"1\" class=\"dataframe\">\n",
              "  <thead>\n",
              "    <tr style=\"text-align: right;\">\n",
              "      <th></th>\n",
              "      <th>지역</th>\n",
              "      <th>날짜</th>\n",
              "      <th>평균기온(°C)</th>\n",
              "      <th>최저기온(°C)</th>\n",
              "      <th>최저기온 시각(hhmi)</th>\n",
              "      <th>최고기온(°C)</th>\n",
              "      <th>최고기온 시각(hhmi)</th>\n",
              "      <th>강수 계속시간(hr)</th>\n",
              "      <th>1시간 최다강수량(mm)</th>\n",
              "      <th>1시간 최다 강수량 시각(hhmi)</th>\n",
              "      <th>일강수량(mm)</th>\n",
              "      <th>평균 풍속(m/s)</th>\n",
              "      <th>풍정합(100m)</th>\n",
              "      <th>최다풍향(16방위)</th>\n",
              "      <th>최소 상대습도(%)</th>\n",
              "      <th>최소 상대습도 시각(hhmi)</th>\n",
              "      <th>평균 상대습도(%)</th>\n",
              "    </tr>\n",
              "  </thead>\n",
              "  <tbody>\n",
              "    <tr>\n",
              "      <th>0</th>\n",
              "      <td>서울</td>\n",
              "      <td>2018-01-01</td>\n",
              "      <td>-1.3</td>\n",
              "      <td>-5.1</td>\n",
              "      <td>07</td>\n",
              "      <td>3.8</td>\n",
              "      <td>15</td>\n",
              "      <td>NaN</td>\n",
              "      <td>NaN</td>\n",
              "      <td>NaN</td>\n",
              "      <td>NaN</td>\n",
              "      <td>1.4</td>\n",
              "      <td>1188.0</td>\n",
              "      <td>290.0</td>\n",
              "      <td>19.0</td>\n",
              "      <td>12</td>\n",
              "      <td>39.1</td>\n",
              "    </tr>\n",
              "    <tr>\n",
              "      <th>1</th>\n",
              "      <td>서울</td>\n",
              "      <td>2018-01-02</td>\n",
              "      <td>-1.8</td>\n",
              "      <td>-4.3</td>\n",
              "      <td>23</td>\n",
              "      <td>1.8</td>\n",
              "      <td>13</td>\n",
              "      <td>NaN</td>\n",
              "      <td>NaN</td>\n",
              "      <td>NaN</td>\n",
              "      <td>NaN</td>\n",
              "      <td>1.8</td>\n",
              "      <td>1573.0</td>\n",
              "      <td>290.0</td>\n",
              "      <td>19.0</td>\n",
              "      <td>13</td>\n",
              "      <td>42.0</td>\n",
              "    </tr>\n",
              "    <tr>\n",
              "      <th>2</th>\n",
              "      <td>서울</td>\n",
              "      <td>2018-01-03</td>\n",
              "      <td>-4.7</td>\n",
              "      <td>-7.1</td>\n",
              "      <td>08</td>\n",
              "      <td>-0.4</td>\n",
              "      <td>15</td>\n",
              "      <td>NaN</td>\n",
              "      <td>NaN</td>\n",
              "      <td>NaN</td>\n",
              "      <td>NaN</td>\n",
              "      <td>2.2</td>\n",
              "      <td>1943.0</td>\n",
              "      <td>290.0</td>\n",
              "      <td>28.0</td>\n",
              "      <td>15</td>\n",
              "      <td>42.3</td>\n",
              "    </tr>\n",
              "    <tr>\n",
              "      <th>3</th>\n",
              "      <td>서울</td>\n",
              "      <td>2018-01-04</td>\n",
              "      <td>-4.7</td>\n",
              "      <td>-8.7</td>\n",
              "      <td>07</td>\n",
              "      <td>-0.7</td>\n",
              "      <td>15</td>\n",
              "      <td>NaN</td>\n",
              "      <td>NaN</td>\n",
              "      <td>NaN</td>\n",
              "      <td>NaN</td>\n",
              "      <td>1.4</td>\n",
              "      <td>1168.0</td>\n",
              "      <td>290.0</td>\n",
              "      <td>31.0</td>\n",
              "      <td>13</td>\n",
              "      <td>43.0</td>\n",
              "    </tr>\n",
              "    <tr>\n",
              "      <th>4</th>\n",
              "      <td>서울</td>\n",
              "      <td>2018-01-05</td>\n",
              "      <td>-3.0</td>\n",
              "      <td>-5.6</td>\n",
              "      <td>03</td>\n",
              "      <td>1.6</td>\n",
              "      <td>15</td>\n",
              "      <td>NaN</td>\n",
              "      <td>NaN</td>\n",
              "      <td>NaN</td>\n",
              "      <td>NaN</td>\n",
              "      <td>1.7</td>\n",
              "      <td>1450.0</td>\n",
              "      <td>290.0</td>\n",
              "      <td>32.0</td>\n",
              "      <td>15</td>\n",
              "      <td>48.4</td>\n",
              "    </tr>\n",
              "    <tr>\n",
              "      <th>5</th>\n",
              "      <td>서울</td>\n",
              "      <td>2018-01-06</td>\n",
              "      <td>-2.8</td>\n",
              "      <td>-6.8</td>\n",
              "      <td>06</td>\n",
              "      <td>2.9</td>\n",
              "      <td>15</td>\n",
              "      <td>NaN</td>\n",
              "      <td>NaN</td>\n",
              "      <td>NaN</td>\n",
              "      <td>NaN</td>\n",
              "      <td>1.5</td>\n",
              "      <td>1304.0</td>\n",
              "      <td>290.0</td>\n",
              "      <td>26.0</td>\n",
              "      <td>13</td>\n",
              "      <td>45.8</td>\n",
              "    </tr>\n",
              "    <tr>\n",
              "      <th>6</th>\n",
              "      <td>서울</td>\n",
              "      <td>2018-01-07</td>\n",
              "      <td>-0.8</td>\n",
              "      <td>-5.7</td>\n",
              "      <td>05</td>\n",
              "      <td>2.8</td>\n",
              "      <td>15</td>\n",
              "      <td>NaN</td>\n",
              "      <td>NaN</td>\n",
              "      <td>NaN</td>\n",
              "      <td>NaN</td>\n",
              "      <td>0.8</td>\n",
              "      <td>732.0</td>\n",
              "      <td>90.0</td>\n",
              "      <td>30.0</td>\n",
              "      <td>14</td>\n",
              "      <td>42.1</td>\n",
              "    </tr>\n",
              "    <tr>\n",
              "      <th>7</th>\n",
              "      <td>서울</td>\n",
              "      <td>2018-01-08</td>\n",
              "      <td>1.3</td>\n",
              "      <td>-1.2</td>\n",
              "      <td>23</td>\n",
              "      <td>4.0</td>\n",
              "      <td>15</td>\n",
              "      <td>4.50</td>\n",
              "      <td>NaN</td>\n",
              "      <td>NaN</td>\n",
              "      <td>0.9</td>\n",
              "      <td>1.8</td>\n",
              "      <td>1540.0</td>\n",
              "      <td>270.0</td>\n",
              "      <td>30.0</td>\n",
              "      <td>11</td>\n",
              "      <td>51.9</td>\n",
              "    </tr>\n",
              "    <tr>\n",
              "      <th>8</th>\n",
              "      <td>서울</td>\n",
              "      <td>2018-01-09</td>\n",
              "      <td>-4.2</td>\n",
              "      <td>-6.1</td>\n",
              "      <td>08</td>\n",
              "      <td>-1.2</td>\n",
              "      <td>00</td>\n",
              "      <td>5.58</td>\n",
              "      <td>NaN</td>\n",
              "      <td>NaN</td>\n",
              "      <td>0.5</td>\n",
              "      <td>2.9</td>\n",
              "      <td>2503.0</td>\n",
              "      <td>290.0</td>\n",
              "      <td>43.0</td>\n",
              "      <td>12</td>\n",
              "      <td>59.4</td>\n",
              "    </tr>\n",
              "    <tr>\n",
              "      <th>9</th>\n",
              "      <td>서울</td>\n",
              "      <td>2018-01-10</td>\n",
              "      <td>-7.5</td>\n",
              "      <td>-10.3</td>\n",
              "      <td>23</td>\n",
              "      <td>-4.8</td>\n",
              "      <td>14</td>\n",
              "      <td>2.08</td>\n",
              "      <td>NaN</td>\n",
              "      <td>NaN</td>\n",
              "      <td>0.3</td>\n",
              "      <td>3.0</td>\n",
              "      <td>2554.0</td>\n",
              "      <td>290.0</td>\n",
              "      <td>29.0</td>\n",
              "      <td>15</td>\n",
              "      <td>52.0</td>\n",
              "    </tr>\n",
              "  </tbody>\n",
              "</table>\n",
              "</div>"
            ],
            "text/plain": [
              "   지역         날짜  평균기온(°C)  ...  최소 상대습도(%) 최소 상대습도 시각(hhmi)  평균 상대습도(%)\n",
              "0  서울 2018-01-01      -1.3  ...        19.0               12        39.1\n",
              "1  서울 2018-01-02      -1.8  ...        19.0               13        42.0\n",
              "2  서울 2018-01-03      -4.7  ...        28.0               15        42.3\n",
              "3  서울 2018-01-04      -4.7  ...        31.0               13        43.0\n",
              "4  서울 2018-01-05      -3.0  ...        32.0               15        48.4\n",
              "5  서울 2018-01-06      -2.8  ...        26.0               13        45.8\n",
              "6  서울 2018-01-07      -0.8  ...        30.0               14        42.1\n",
              "7  서울 2018-01-08       1.3  ...        30.0               11        51.9\n",
              "8  서울 2018-01-09      -4.2  ...        43.0               12        59.4\n",
              "9  서울 2018-01-10      -7.5  ...        29.0               15        52.0\n",
              "\n",
              "[10 rows x 17 columns]"
            ]
          },
          "metadata": {
            "tags": []
          },
          "execution_count": 23
        }
      ]
    },
    {
      "cell_type": "code",
      "metadata": {
        "id": "s7jsVNsrwfHz"
      },
      "source": [
        "# 데이터 저장 csv\n",
        "weather.to_csv('weather_time.csv', encoding='CP949')"
      ],
      "execution_count": 24,
      "outputs": []
    },
    {
      "cell_type": "code",
      "metadata": {
        "id": "HXEmHMG9x2NX"
      },
      "source": [
        "# 데이터 저장 피클\n",
        "weather.to_pickle('weather_time.plk')"
      ],
      "execution_count": 25,
      "outputs": []
    }
  ]
}

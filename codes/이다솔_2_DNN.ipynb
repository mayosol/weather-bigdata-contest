{
  "nbformat": 4,
  "nbformat_minor": 0,
  "metadata": {
    "colab": {
      "name": "이다솔_2_DNN",
      "provenance": [],
      "collapsed_sections": []
    },
    "kernelspec": {
      "name": "python3",
      "display_name": "Python 3"
    },
    "language_info": {
      "name": "python"
    }
  },
  "cells": [
    {
      "cell_type": "code",
      "metadata": {
        "id": "PHAVwO4p70UA"
      },
      "source": [
        "import tensorflow as tf\n",
        "from tensorflow import keras\n",
        "from sklearn.metrics import mean_squared_error\n",
        "\n",
        "import numpy as np\n",
        "import pandas as pd"
      ],
      "execution_count": null,
      "outputs": []
    },
    {
      "cell_type": "code",
      "metadata": {
        "colab": {
          "base_uri": "https://localhost:8080/"
        },
        "id": "d3p_VzDX73eV",
        "outputId": "0cbc9e62-6b97-4e16-cfbe-87d5cf37244b"
      },
      "source": [
        "from google.colab import drive\n",
        "drive.mount('/content/drive')"
      ],
      "execution_count": null,
      "outputs": [
        {
          "output_type": "stream",
          "text": [
            "Mounted at /content/drive\n"
          ],
          "name": "stdout"
        }
      ]
    },
    {
      "cell_type": "code",
      "metadata": {
        "colab": {
          "base_uri": "https://localhost:8080/",
          "height": 35
        },
        "id": "sdIjTRQ8dldN",
        "outputId": "ea2e8780-1958-428b-a0f4-52e76dc36a70"
      },
      "source": [
        "pwd"
      ],
      "execution_count": 1,
      "outputs": [
        {
          "output_type": "execute_result",
          "data": {
            "application/vnd.google.colaboratory.intrinsic+json": {
              "type": "string"
            },
            "text/plain": [
              "'/content'"
            ]
          },
          "metadata": {
            "tags": []
          },
          "execution_count": 1
        }
      ]
    },
    {
      "cell_type": "code",
      "metadata": {
        "colab": {
          "base_uri": "https://localhost:8080/"
        },
        "id": "SJxWY8Yh74kG",
        "outputId": "abcf75f3-bf5d-4bcf-eaee-6a7b77a18007"
      },
      "source": [
        "cd drive/MyDrive/Colab_Notebooks/weather_bigdata_contest/data"
      ],
      "execution_count": null,
      "outputs": [
        {
          "output_type": "stream",
          "text": [
            "/content/drive/MyDrive/Colab_Notebooks/weather_bigdata_contest/data\n"
          ],
          "name": "stdout"
        }
      ]
    },
    {
      "cell_type": "code",
      "metadata": {
        "id": "ZF-G7YeqRkDx"
      },
      "source": [
        "X_train = pd.read_csv('../data/X_train_weather_columns_6.csv', encoding='CP949')\n",
        "X_test = pd.read_csv('../data/X_test_weather_columns_6.csv', encoding='CP949')\n",
        "y_train = pd.read_csv('../data/y_train_weather_columns_6.csv', encoding='CP949')\n",
        "y_test = pd.read_csv('../data/y_test_weather_columns_6.csv', encoding='CP949')"
      ],
      "execution_count": null,
      "outputs": []
    },
    {
      "cell_type": "markdown",
      "metadata": {
        "id": "tfVoxdCVTkoF"
      },
      "source": [
        "# 판매량 회귀 예측"
      ]
    },
    {
      "cell_type": "code",
      "metadata": {
        "id": "qUfsDvvBc4-h"
      },
      "source": [
        "del X_train['날짜']\n",
        "del X_test['날짜']"
      ],
      "execution_count": null,
      "outputs": []
    },
    {
      "cell_type": "code",
      "metadata": {
        "colab": {
          "base_uri": "https://localhost:8080/",
          "height": 496
        },
        "id": "TmMNYidjTqzt",
        "outputId": "dc5c8382-62ac-4dd6-f441-b79aeece9b70"
      },
      "source": [
        "X_train.head()"
      ],
      "execution_count": null,
      "outputs": [
        {
          "output_type": "execute_result",
          "data": {
            "text/html": [
              "<div>\n",
              "<style scoped>\n",
              "    .dataframe tbody tr th:only-of-type {\n",
              "        vertical-align: middle;\n",
              "    }\n",
              "\n",
              "    .dataframe tbody tr th {\n",
              "        vertical-align: top;\n",
              "    }\n",
              "\n",
              "    .dataframe thead th {\n",
              "        text-align: right;\n",
              "    }\n",
              "</style>\n",
              "<table border=\"1\" class=\"dataframe\">\n",
              "  <thead>\n",
              "    <tr style=\"text-align: right;\">\n",
              "      <th></th>\n",
              "      <th>소분류_가스온수기</th>\n",
              "      <th>소분류_가열식 가습기</th>\n",
              "      <th>소분류_감/홍시</th>\n",
              "      <th>소분류_감귤/한라봉/오렌지</th>\n",
              "      <th>소분류_감말랭이</th>\n",
              "      <th>소분류_감자</th>\n",
              "      <th>소분류_건대추</th>\n",
              "      <th>소분류_건포도</th>\n",
              "      <th>소분류_견과류 밤</th>\n",
              "      <th>소분류_계란</th>\n",
              "      <th>소분류_고추/피망/파프리카</th>\n",
              "      <th>소분류_곡물차</th>\n",
              "      <th>소분류_공기정화 용품</th>\n",
              "      <th>소분류_공기청정기</th>\n",
              "      <th>소분류_과일류</th>\n",
              "      <th>소분류_과일채소 분말/분태</th>\n",
              "      <th>소분류_굴 생물</th>\n",
              "      <th>소분류_기능성 아이케어 화장품</th>\n",
              "      <th>소분류_기능성 화이트닝 화장품</th>\n",
              "      <th>소분류_기초 화장용 로션</th>\n",
              "      <th>소분류_기초 화장용 크림</th>\n",
              "      <th>소분류_기타 주스류</th>\n",
              "      <th>소분류_김치류</th>\n",
              "      <th>소분류_난방용 열풍기</th>\n",
              "      <th>소분류_남성 로션</th>\n",
              "      <th>소분류_남성 선케어</th>\n",
              "      <th>소분류_남성 세트</th>\n",
              "      <th>소분류_남성향수</th>\n",
              "      <th>소분류_냉풍기</th>\n",
              "      <th>소분류_네일 메이크업 용품</th>\n",
              "      <th>소분류_다이어트용 헬스보충식품</th>\n",
              "      <th>소분류_대게/킹크랩</th>\n",
              "      <th>소분류_더치커피</th>\n",
              "      <th>소분류_데오드란트</th>\n",
              "      <th>소분류_돈풍기</th>\n",
              "      <th>소분류_둥굴레차</th>\n",
              "      <th>소분류_딸기/복분자/블루베리</th>\n",
              "      <th>소분류_라디에이터</th>\n",
              "      <th>소분류_레몬/자몽</th>\n",
              "      <th>소분류_마/야콘</th>\n",
              "      <th>...</th>\n",
              "      <th>소분류_입욕제</th>\n",
              "      <th>소분류_자연식 가습기</th>\n",
              "      <th>소분류_장어</th>\n",
              "      <th>소분류_전기온수기</th>\n",
              "      <th>소분류_전기장판</th>\n",
              "      <th>소분류_전통차</th>\n",
              "      <th>소분류_절임배추/김치속</th>\n",
              "      <th>소분류_제습기</th>\n",
              "      <th>소분류_조개</th>\n",
              "      <th>소분류_중대형 에어컨</th>\n",
              "      <th>소분류_참외/메론/수박</th>\n",
              "      <th>소분류_천장형 에어컨</th>\n",
              "      <th>소분류_초음파식 가습기</th>\n",
              "      <th>소분류_카페 푸드</th>\n",
              "      <th>소분류_카페트매트</th>\n",
              "      <th>소분류_컨벡터</th>\n",
              "      <th>소분류_코코아/핫초코</th>\n",
              "      <th>소분류_키위/참다래</th>\n",
              "      <th>소분류_탁상/USB 선풍기</th>\n",
              "      <th>소분류_탄산수</th>\n",
              "      <th>소분류_탄산음료</th>\n",
              "      <th>소분류_토마토</th>\n",
              "      <th>소분류_풋크림</th>\n",
              "      <th>소분류_해초류</th>\n",
              "      <th>소분류_핸드크림</th>\n",
              "      <th>소분류_향수세트</th>\n",
              "      <th>소분류_허브차</th>\n",
              "      <th>소분류_헤어스타일링용 흑채</th>\n",
              "      <th>소분류_홍차</th>\n",
              "      <th>소분류_황토매트</th>\n",
              "      <th>소분류_회</th>\n",
              "      <th>소분류_휴대용 선풍기</th>\n",
              "      <th>소분류_히터</th>\n",
              "      <th>평균기온(°C)</th>\n",
              "      <th>최저기온(°C)</th>\n",
              "      <th>최고기온(°C)</th>\n",
              "      <th>최소 상대습도(%)</th>\n",
              "      <th>평균 상대습도(%)</th>\n",
              "      <th>O3</th>\n",
              "      <th>PM10</th>\n",
              "    </tr>\n",
              "  </thead>\n",
              "  <tbody>\n",
              "    <tr>\n",
              "      <th>0</th>\n",
              "      <td>0</td>\n",
              "      <td>0</td>\n",
              "      <td>0</td>\n",
              "      <td>0</td>\n",
              "      <td>0</td>\n",
              "      <td>0</td>\n",
              "      <td>0</td>\n",
              "      <td>0</td>\n",
              "      <td>0</td>\n",
              "      <td>0</td>\n",
              "      <td>0</td>\n",
              "      <td>0</td>\n",
              "      <td>0</td>\n",
              "      <td>0</td>\n",
              "      <td>0</td>\n",
              "      <td>0</td>\n",
              "      <td>0</td>\n",
              "      <td>0</td>\n",
              "      <td>0</td>\n",
              "      <td>0</td>\n",
              "      <td>0</td>\n",
              "      <td>0</td>\n",
              "      <td>0</td>\n",
              "      <td>0</td>\n",
              "      <td>0</td>\n",
              "      <td>0</td>\n",
              "      <td>0</td>\n",
              "      <td>0</td>\n",
              "      <td>0</td>\n",
              "      <td>0</td>\n",
              "      <td>0</td>\n",
              "      <td>0</td>\n",
              "      <td>0</td>\n",
              "      <td>0</td>\n",
              "      <td>0</td>\n",
              "      <td>0</td>\n",
              "      <td>0</td>\n",
              "      <td>0</td>\n",
              "      <td>0</td>\n",
              "      <td>0</td>\n",
              "      <td>...</td>\n",
              "      <td>0</td>\n",
              "      <td>0</td>\n",
              "      <td>0</td>\n",
              "      <td>0</td>\n",
              "      <td>0</td>\n",
              "      <td>0</td>\n",
              "      <td>0</td>\n",
              "      <td>0</td>\n",
              "      <td>0</td>\n",
              "      <td>0</td>\n",
              "      <td>0</td>\n",
              "      <td>0</td>\n",
              "      <td>0</td>\n",
              "      <td>0</td>\n",
              "      <td>0</td>\n",
              "      <td>0</td>\n",
              "      <td>0</td>\n",
              "      <td>0</td>\n",
              "      <td>0</td>\n",
              "      <td>0</td>\n",
              "      <td>0</td>\n",
              "      <td>0</td>\n",
              "      <td>0</td>\n",
              "      <td>0</td>\n",
              "      <td>0</td>\n",
              "      <td>0</td>\n",
              "      <td>0</td>\n",
              "      <td>0</td>\n",
              "      <td>0</td>\n",
              "      <td>1</td>\n",
              "      <td>0</td>\n",
              "      <td>0</td>\n",
              "      <td>0</td>\n",
              "      <td>0.168558</td>\n",
              "      <td>-3.043045</td>\n",
              "      <td>4.291429</td>\n",
              "      <td>20.648492</td>\n",
              "      <td>33.037917</td>\n",
              "      <td>0.018290</td>\n",
              "      <td>48.410017</td>\n",
              "    </tr>\n",
              "    <tr>\n",
              "      <th>1</th>\n",
              "      <td>0</td>\n",
              "      <td>0</td>\n",
              "      <td>0</td>\n",
              "      <td>0</td>\n",
              "      <td>0</td>\n",
              "      <td>0</td>\n",
              "      <td>0</td>\n",
              "      <td>0</td>\n",
              "      <td>0</td>\n",
              "      <td>0</td>\n",
              "      <td>0</td>\n",
              "      <td>0</td>\n",
              "      <td>0</td>\n",
              "      <td>0</td>\n",
              "      <td>0</td>\n",
              "      <td>0</td>\n",
              "      <td>0</td>\n",
              "      <td>0</td>\n",
              "      <td>0</td>\n",
              "      <td>0</td>\n",
              "      <td>0</td>\n",
              "      <td>0</td>\n",
              "      <td>0</td>\n",
              "      <td>0</td>\n",
              "      <td>0</td>\n",
              "      <td>0</td>\n",
              "      <td>0</td>\n",
              "      <td>0</td>\n",
              "      <td>0</td>\n",
              "      <td>0</td>\n",
              "      <td>0</td>\n",
              "      <td>0</td>\n",
              "      <td>0</td>\n",
              "      <td>0</td>\n",
              "      <td>0</td>\n",
              "      <td>0</td>\n",
              "      <td>0</td>\n",
              "      <td>0</td>\n",
              "      <td>0</td>\n",
              "      <td>0</td>\n",
              "      <td>...</td>\n",
              "      <td>0</td>\n",
              "      <td>0</td>\n",
              "      <td>0</td>\n",
              "      <td>0</td>\n",
              "      <td>0</td>\n",
              "      <td>0</td>\n",
              "      <td>0</td>\n",
              "      <td>0</td>\n",
              "      <td>0</td>\n",
              "      <td>0</td>\n",
              "      <td>0</td>\n",
              "      <td>0</td>\n",
              "      <td>0</td>\n",
              "      <td>0</td>\n",
              "      <td>0</td>\n",
              "      <td>0</td>\n",
              "      <td>0</td>\n",
              "      <td>0</td>\n",
              "      <td>0</td>\n",
              "      <td>0</td>\n",
              "      <td>0</td>\n",
              "      <td>0</td>\n",
              "      <td>0</td>\n",
              "      <td>0</td>\n",
              "      <td>0</td>\n",
              "      <td>0</td>\n",
              "      <td>0</td>\n",
              "      <td>0</td>\n",
              "      <td>0</td>\n",
              "      <td>0</td>\n",
              "      <td>0</td>\n",
              "      <td>0</td>\n",
              "      <td>0</td>\n",
              "      <td>4.345490</td>\n",
              "      <td>0.750749</td>\n",
              "      <td>7.807743</td>\n",
              "      <td>53.989922</td>\n",
              "      <td>73.183486</td>\n",
              "      <td>0.014360</td>\n",
              "      <td>51.295243</td>\n",
              "    </tr>\n",
              "    <tr>\n",
              "      <th>2</th>\n",
              "      <td>0</td>\n",
              "      <td>0</td>\n",
              "      <td>0</td>\n",
              "      <td>0</td>\n",
              "      <td>0</td>\n",
              "      <td>0</td>\n",
              "      <td>0</td>\n",
              "      <td>0</td>\n",
              "      <td>0</td>\n",
              "      <td>0</td>\n",
              "      <td>0</td>\n",
              "      <td>0</td>\n",
              "      <td>0</td>\n",
              "      <td>0</td>\n",
              "      <td>0</td>\n",
              "      <td>0</td>\n",
              "      <td>0</td>\n",
              "      <td>0</td>\n",
              "      <td>0</td>\n",
              "      <td>0</td>\n",
              "      <td>0</td>\n",
              "      <td>0</td>\n",
              "      <td>0</td>\n",
              "      <td>0</td>\n",
              "      <td>0</td>\n",
              "      <td>0</td>\n",
              "      <td>0</td>\n",
              "      <td>0</td>\n",
              "      <td>0</td>\n",
              "      <td>0</td>\n",
              "      <td>0</td>\n",
              "      <td>0</td>\n",
              "      <td>0</td>\n",
              "      <td>0</td>\n",
              "      <td>0</td>\n",
              "      <td>0</td>\n",
              "      <td>0</td>\n",
              "      <td>0</td>\n",
              "      <td>0</td>\n",
              "      <td>0</td>\n",
              "      <td>...</td>\n",
              "      <td>0</td>\n",
              "      <td>0</td>\n",
              "      <td>0</td>\n",
              "      <td>0</td>\n",
              "      <td>0</td>\n",
              "      <td>0</td>\n",
              "      <td>0</td>\n",
              "      <td>0</td>\n",
              "      <td>0</td>\n",
              "      <td>0</td>\n",
              "      <td>0</td>\n",
              "      <td>0</td>\n",
              "      <td>0</td>\n",
              "      <td>0</td>\n",
              "      <td>0</td>\n",
              "      <td>0</td>\n",
              "      <td>0</td>\n",
              "      <td>0</td>\n",
              "      <td>0</td>\n",
              "      <td>0</td>\n",
              "      <td>0</td>\n",
              "      <td>0</td>\n",
              "      <td>0</td>\n",
              "      <td>0</td>\n",
              "      <td>0</td>\n",
              "      <td>0</td>\n",
              "      <td>0</td>\n",
              "      <td>0</td>\n",
              "      <td>0</td>\n",
              "      <td>0</td>\n",
              "      <td>0</td>\n",
              "      <td>0</td>\n",
              "      <td>0</td>\n",
              "      <td>11.396927</td>\n",
              "      <td>6.466180</td>\n",
              "      <td>15.715189</td>\n",
              "      <td>21.954886</td>\n",
              "      <td>43.799624</td>\n",
              "      <td>0.024148</td>\n",
              "      <td>69.525672</td>\n",
              "    </tr>\n",
              "    <tr>\n",
              "      <th>3</th>\n",
              "      <td>0</td>\n",
              "      <td>0</td>\n",
              "      <td>0</td>\n",
              "      <td>0</td>\n",
              "      <td>0</td>\n",
              "      <td>0</td>\n",
              "      <td>0</td>\n",
              "      <td>0</td>\n",
              "      <td>0</td>\n",
              "      <td>0</td>\n",
              "      <td>0</td>\n",
              "      <td>0</td>\n",
              "      <td>0</td>\n",
              "      <td>0</td>\n",
              "      <td>0</td>\n",
              "      <td>0</td>\n",
              "      <td>0</td>\n",
              "      <td>0</td>\n",
              "      <td>0</td>\n",
              "      <td>0</td>\n",
              "      <td>0</td>\n",
              "      <td>0</td>\n",
              "      <td>0</td>\n",
              "      <td>0</td>\n",
              "      <td>0</td>\n",
              "      <td>0</td>\n",
              "      <td>0</td>\n",
              "      <td>0</td>\n",
              "      <td>0</td>\n",
              "      <td>0</td>\n",
              "      <td>0</td>\n",
              "      <td>0</td>\n",
              "      <td>0</td>\n",
              "      <td>0</td>\n",
              "      <td>0</td>\n",
              "      <td>0</td>\n",
              "      <td>0</td>\n",
              "      <td>0</td>\n",
              "      <td>0</td>\n",
              "      <td>0</td>\n",
              "      <td>...</td>\n",
              "      <td>0</td>\n",
              "      <td>0</td>\n",
              "      <td>0</td>\n",
              "      <td>0</td>\n",
              "      <td>0</td>\n",
              "      <td>0</td>\n",
              "      <td>0</td>\n",
              "      <td>0</td>\n",
              "      <td>0</td>\n",
              "      <td>0</td>\n",
              "      <td>0</td>\n",
              "      <td>0</td>\n",
              "      <td>0</td>\n",
              "      <td>0</td>\n",
              "      <td>0</td>\n",
              "      <td>0</td>\n",
              "      <td>0</td>\n",
              "      <td>0</td>\n",
              "      <td>0</td>\n",
              "      <td>0</td>\n",
              "      <td>0</td>\n",
              "      <td>0</td>\n",
              "      <td>0</td>\n",
              "      <td>0</td>\n",
              "      <td>0</td>\n",
              "      <td>0</td>\n",
              "      <td>0</td>\n",
              "      <td>0</td>\n",
              "      <td>0</td>\n",
              "      <td>0</td>\n",
              "      <td>0</td>\n",
              "      <td>0</td>\n",
              "      <td>0</td>\n",
              "      <td>20.914224</td>\n",
              "      <td>17.248788</td>\n",
              "      <td>25.692136</td>\n",
              "      <td>44.011245</td>\n",
              "      <td>62.992631</td>\n",
              "      <td>0.031252</td>\n",
              "      <td>20.653887</td>\n",
              "    </tr>\n",
              "    <tr>\n",
              "      <th>4</th>\n",
              "      <td>0</td>\n",
              "      <td>0</td>\n",
              "      <td>0</td>\n",
              "      <td>0</td>\n",
              "      <td>0</td>\n",
              "      <td>0</td>\n",
              "      <td>0</td>\n",
              "      <td>0</td>\n",
              "      <td>0</td>\n",
              "      <td>0</td>\n",
              "      <td>0</td>\n",
              "      <td>0</td>\n",
              "      <td>0</td>\n",
              "      <td>0</td>\n",
              "      <td>0</td>\n",
              "      <td>0</td>\n",
              "      <td>0</td>\n",
              "      <td>0</td>\n",
              "      <td>0</td>\n",
              "      <td>0</td>\n",
              "      <td>0</td>\n",
              "      <td>0</td>\n",
              "      <td>0</td>\n",
              "      <td>0</td>\n",
              "      <td>0</td>\n",
              "      <td>0</td>\n",
              "      <td>0</td>\n",
              "      <td>0</td>\n",
              "      <td>0</td>\n",
              "      <td>0</td>\n",
              "      <td>0</td>\n",
              "      <td>0</td>\n",
              "      <td>0</td>\n",
              "      <td>0</td>\n",
              "      <td>0</td>\n",
              "      <td>0</td>\n",
              "      <td>0</td>\n",
              "      <td>0</td>\n",
              "      <td>0</td>\n",
              "      <td>0</td>\n",
              "      <td>...</td>\n",
              "      <td>0</td>\n",
              "      <td>0</td>\n",
              "      <td>0</td>\n",
              "      <td>0</td>\n",
              "      <td>0</td>\n",
              "      <td>0</td>\n",
              "      <td>0</td>\n",
              "      <td>0</td>\n",
              "      <td>0</td>\n",
              "      <td>0</td>\n",
              "      <td>0</td>\n",
              "      <td>0</td>\n",
              "      <td>0</td>\n",
              "      <td>0</td>\n",
              "      <td>0</td>\n",
              "      <td>0</td>\n",
              "      <td>0</td>\n",
              "      <td>0</td>\n",
              "      <td>0</td>\n",
              "      <td>0</td>\n",
              "      <td>0</td>\n",
              "      <td>0</td>\n",
              "      <td>0</td>\n",
              "      <td>0</td>\n",
              "      <td>0</td>\n",
              "      <td>0</td>\n",
              "      <td>0</td>\n",
              "      <td>0</td>\n",
              "      <td>0</td>\n",
              "      <td>0</td>\n",
              "      <td>0</td>\n",
              "      <td>0</td>\n",
              "      <td>0</td>\n",
              "      <td>5.053617</td>\n",
              "      <td>1.243982</td>\n",
              "      <td>10.115745</td>\n",
              "      <td>23.253489</td>\n",
              "      <td>44.816831</td>\n",
              "      <td>0.034980</td>\n",
              "      <td>42.917136</td>\n",
              "    </tr>\n",
              "  </tbody>\n",
              "</table>\n",
              "<p>5 rows × 135 columns</p>\n",
              "</div>"
            ],
            "text/plain": [
              "   소분류_가스온수기  소분류_가열식 가습기  소분류_감/홍시  ...  평균 상대습도(%)        O3       PM10\n",
              "0          0            0         0  ...   33.037917  0.018290  48.410017\n",
              "1          0            0         0  ...   73.183486  0.014360  51.295243\n",
              "2          0            0         0  ...   43.799624  0.024148  69.525672\n",
              "3          0            0         0  ...   62.992631  0.031252  20.653887\n",
              "4          0            0         0  ...   44.816831  0.034980  42.917136\n",
              "\n",
              "[5 rows x 135 columns]"
            ]
          },
          "metadata": {
            "tags": []
          },
          "execution_count": 8
        }
      ]
    },
    {
      "cell_type": "code",
      "metadata": {
        "colab": {
          "base_uri": "https://localhost:8080/",
          "height": 511
        },
        "id": "Np7z1P_sTurF",
        "outputId": "c0ea27ac-2e44-43a1-add5-bfd775c485c3"
      },
      "source": [
        "y_train"
      ],
      "execution_count": null,
      "outputs": [
        {
          "output_type": "execute_result",
          "data": {
            "text/html": [
              "<div>\n",
              "<style scoped>\n",
              "    .dataframe tbody tr th:only-of-type {\n",
              "        vertical-align: middle;\n",
              "    }\n",
              "\n",
              "    .dataframe tbody tr th {\n",
              "        vertical-align: top;\n",
              "    }\n",
              "\n",
              "    .dataframe thead th {\n",
              "        text-align: right;\n",
              "    }\n",
              "</style>\n",
              "<table border=\"1\" class=\"dataframe\">\n",
              "  <thead>\n",
              "    <tr style=\"text-align: right;\">\n",
              "      <th></th>\n",
              "      <th>20대 남성 판매량(개)</th>\n",
              "      <th>20대 여성 판매량(개)</th>\n",
              "      <th>30대 남성 판매량(개)</th>\n",
              "      <th>30대 여성 판매량(개)</th>\n",
              "      <th>40대 남성 판매량(개)</th>\n",
              "      <th>40대 여성 판매량(개)</th>\n",
              "      <th>50대 남성 판매량(개)</th>\n",
              "      <th>50대 여성 판매량(개)</th>\n",
              "      <th>60대 남성 판매량(개)</th>\n",
              "      <th>60대 여성 판매량(개)</th>\n",
              "      <th>합계</th>\n",
              "      <th>일별 물품 선호도 점수</th>\n",
              "      <th>20대 남성 선호도 점수</th>\n",
              "      <th>20대 여성 선호도 점수</th>\n",
              "      <th>30대 남성 선호도 점수</th>\n",
              "      <th>30대 여성 선호도 점수</th>\n",
              "      <th>40대 남성 선호도 점수</th>\n",
              "      <th>40대 여성 선호도 점수</th>\n",
              "      <th>50대 남성 선호도 점수</th>\n",
              "      <th>50대 여성 선호도 점수</th>\n",
              "      <th>60대 남성 선호도 점수</th>\n",
              "      <th>60대 여성 선호도 점수</th>\n",
              "    </tr>\n",
              "  </thead>\n",
              "  <tbody>\n",
              "    <tr>\n",
              "      <th>0</th>\n",
              "      <td>0.0</td>\n",
              "      <td>1.0</td>\n",
              "      <td>2.0</td>\n",
              "      <td>0.0</td>\n",
              "      <td>1.0</td>\n",
              "      <td>4.0</td>\n",
              "      <td>1.0</td>\n",
              "      <td>4.0</td>\n",
              "      <td>0.0</td>\n",
              "      <td>1.0</td>\n",
              "      <td>14.0</td>\n",
              "      <td>0.000005</td>\n",
              "      <td>0.000000</td>\n",
              "      <td>0.041312</td>\n",
              "      <td>0.113754</td>\n",
              "      <td>0.000000</td>\n",
              "      <td>0.060858</td>\n",
              "      <td>0.112415</td>\n",
              "      <td>0.124614</td>\n",
              "      <td>0.262377</td>\n",
              "      <td>0.000000</td>\n",
              "      <td>0.284671</td>\n",
              "    </tr>\n",
              "    <tr>\n",
              "      <th>1</th>\n",
              "      <td>6.0</td>\n",
              "      <td>20.0</td>\n",
              "      <td>10.0</td>\n",
              "      <td>38.0</td>\n",
              "      <td>12.0</td>\n",
              "      <td>30.0</td>\n",
              "      <td>8.0</td>\n",
              "      <td>7.0</td>\n",
              "      <td>2.0</td>\n",
              "      <td>4.0</td>\n",
              "      <td>137.0</td>\n",
              "      <td>0.000037</td>\n",
              "      <td>0.092382</td>\n",
              "      <td>0.104007</td>\n",
              "      <td>0.071597</td>\n",
              "      <td>0.109999</td>\n",
              "      <td>0.091931</td>\n",
              "      <td>0.106132</td>\n",
              "      <td>0.125492</td>\n",
              "      <td>0.057800</td>\n",
              "      <td>0.097320</td>\n",
              "      <td>0.143339</td>\n",
              "    </tr>\n",
              "    <tr>\n",
              "      <th>2</th>\n",
              "      <td>0.0</td>\n",
              "      <td>0.0</td>\n",
              "      <td>1.0</td>\n",
              "      <td>7.0</td>\n",
              "      <td>1.0</td>\n",
              "      <td>7.0</td>\n",
              "      <td>0.0</td>\n",
              "      <td>0.0</td>\n",
              "      <td>0.0</td>\n",
              "      <td>0.0</td>\n",
              "      <td>16.0</td>\n",
              "      <td>0.000002</td>\n",
              "      <td>0.000000</td>\n",
              "      <td>0.000000</td>\n",
              "      <td>0.119632</td>\n",
              "      <td>0.338576</td>\n",
              "      <td>0.128006</td>\n",
              "      <td>0.413786</td>\n",
              "      <td>0.000000</td>\n",
              "      <td>0.000000</td>\n",
              "      <td>0.000000</td>\n",
              "      <td>0.000000</td>\n",
              "    </tr>\n",
              "    <tr>\n",
              "      <th>3</th>\n",
              "      <td>3.0</td>\n",
              "      <td>0.0</td>\n",
              "      <td>1.0</td>\n",
              "      <td>4.0</td>\n",
              "      <td>2.0</td>\n",
              "      <td>1.0</td>\n",
              "      <td>0.0</td>\n",
              "      <td>0.0</td>\n",
              "      <td>1.0</td>\n",
              "      <td>0.0</td>\n",
              "      <td>12.0</td>\n",
              "      <td>0.000005</td>\n",
              "      <td>0.348746</td>\n",
              "      <td>0.000000</td>\n",
              "      <td>0.054057</td>\n",
              "      <td>0.087421</td>\n",
              "      <td>0.115681</td>\n",
              "      <td>0.026710</td>\n",
              "      <td>0.000000</td>\n",
              "      <td>0.000000</td>\n",
              "      <td>0.367385</td>\n",
              "      <td>0.000000</td>\n",
              "    </tr>\n",
              "    <tr>\n",
              "      <th>4</th>\n",
              "      <td>7.0</td>\n",
              "      <td>88.0</td>\n",
              "      <td>30.0</td>\n",
              "      <td>142.0</td>\n",
              "      <td>43.0</td>\n",
              "      <td>188.0</td>\n",
              "      <td>25.0</td>\n",
              "      <td>76.0</td>\n",
              "      <td>3.0</td>\n",
              "      <td>13.0</td>\n",
              "      <td>615.0</td>\n",
              "      <td>0.000140</td>\n",
              "      <td>0.028234</td>\n",
              "      <td>0.119883</td>\n",
              "      <td>0.056268</td>\n",
              "      <td>0.107681</td>\n",
              "      <td>0.086296</td>\n",
              "      <td>0.174232</td>\n",
              "      <td>0.102733</td>\n",
              "      <td>0.164393</td>\n",
              "      <td>0.038242</td>\n",
              "      <td>0.122037</td>\n",
              "    </tr>\n",
              "    <tr>\n",
              "      <th>...</th>\n",
              "      <td>...</td>\n",
              "      <td>...</td>\n",
              "      <td>...</td>\n",
              "      <td>...</td>\n",
              "      <td>...</td>\n",
              "      <td>...</td>\n",
              "      <td>...</td>\n",
              "      <td>...</td>\n",
              "      <td>...</td>\n",
              "      <td>...</td>\n",
              "      <td>...</td>\n",
              "      <td>...</td>\n",
              "      <td>...</td>\n",
              "      <td>...</td>\n",
              "      <td>...</td>\n",
              "      <td>...</td>\n",
              "      <td>...</td>\n",
              "      <td>...</td>\n",
              "      <td>...</td>\n",
              "      <td>...</td>\n",
              "      <td>...</td>\n",
              "      <td>...</td>\n",
              "    </tr>\n",
              "    <tr>\n",
              "      <th>56263</th>\n",
              "      <td>1.0</td>\n",
              "      <td>1.0</td>\n",
              "      <td>1.0</td>\n",
              "      <td>1.0</td>\n",
              "      <td>1.0</td>\n",
              "      <td>1.0</td>\n",
              "      <td>0.0</td>\n",
              "      <td>0.0</td>\n",
              "      <td>0.0</td>\n",
              "      <td>0.0</td>\n",
              "      <td>6.0</td>\n",
              "      <td>0.000002</td>\n",
              "      <td>0.367905</td>\n",
              "      <td>0.124260</td>\n",
              "      <td>0.171079</td>\n",
              "      <td>0.069168</td>\n",
              "      <td>0.183054</td>\n",
              "      <td>0.084533</td>\n",
              "      <td>0.000000</td>\n",
              "      <td>0.000000</td>\n",
              "      <td>0.000000</td>\n",
              "      <td>0.000000</td>\n",
              "    </tr>\n",
              "    <tr>\n",
              "      <th>56264</th>\n",
              "      <td>8.0</td>\n",
              "      <td>18.0</td>\n",
              "      <td>18.0</td>\n",
              "      <td>57.0</td>\n",
              "      <td>20.0</td>\n",
              "      <td>22.0</td>\n",
              "      <td>5.0</td>\n",
              "      <td>5.0</td>\n",
              "      <td>4.0</td>\n",
              "      <td>2.0</td>\n",
              "      <td>159.0</td>\n",
              "      <td>0.000041</td>\n",
              "      <td>0.109225</td>\n",
              "      <td>0.083004</td>\n",
              "      <td>0.114278</td>\n",
              "      <td>0.146310</td>\n",
              "      <td>0.135864</td>\n",
              "      <td>0.069015</td>\n",
              "      <td>0.069549</td>\n",
              "      <td>0.036609</td>\n",
              "      <td>0.172594</td>\n",
              "      <td>0.063552</td>\n",
              "    </tr>\n",
              "    <tr>\n",
              "      <th>56265</th>\n",
              "      <td>1.0</td>\n",
              "      <td>9.0</td>\n",
              "      <td>7.0</td>\n",
              "      <td>18.0</td>\n",
              "      <td>9.0</td>\n",
              "      <td>17.0</td>\n",
              "      <td>1.0</td>\n",
              "      <td>10.0</td>\n",
              "      <td>0.0</td>\n",
              "      <td>4.0</td>\n",
              "      <td>76.0</td>\n",
              "      <td>0.000020</td>\n",
              "      <td>0.028774</td>\n",
              "      <td>0.087465</td>\n",
              "      <td>0.093660</td>\n",
              "      <td>0.097373</td>\n",
              "      <td>0.128849</td>\n",
              "      <td>0.112391</td>\n",
              "      <td>0.029315</td>\n",
              "      <td>0.154307</td>\n",
              "      <td>0.000000</td>\n",
              "      <td>0.267868</td>\n",
              "    </tr>\n",
              "    <tr>\n",
              "      <th>56266</th>\n",
              "      <td>6.0</td>\n",
              "      <td>59.0</td>\n",
              "      <td>7.0</td>\n",
              "      <td>47.0</td>\n",
              "      <td>4.0</td>\n",
              "      <td>22.0</td>\n",
              "      <td>6.0</td>\n",
              "      <td>6.0</td>\n",
              "      <td>1.0</td>\n",
              "      <td>5.0</td>\n",
              "      <td>163.0</td>\n",
              "      <td>0.000039</td>\n",
              "      <td>0.086716</td>\n",
              "      <td>0.288002</td>\n",
              "      <td>0.047044</td>\n",
              "      <td>0.127707</td>\n",
              "      <td>0.028764</td>\n",
              "      <td>0.073057</td>\n",
              "      <td>0.088346</td>\n",
              "      <td>0.046504</td>\n",
              "      <td>0.045675</td>\n",
              "      <td>0.168184</td>\n",
              "    </tr>\n",
              "    <tr>\n",
              "      <th>56267</th>\n",
              "      <td>10.0</td>\n",
              "      <td>22.0</td>\n",
              "      <td>34.0</td>\n",
              "      <td>70.0</td>\n",
              "      <td>55.0</td>\n",
              "      <td>152.0</td>\n",
              "      <td>47.0</td>\n",
              "      <td>124.0</td>\n",
              "      <td>22.0</td>\n",
              "      <td>46.0</td>\n",
              "      <td>582.0</td>\n",
              "      <td>0.000226</td>\n",
              "      <td>0.025021</td>\n",
              "      <td>0.018592</td>\n",
              "      <td>0.039559</td>\n",
              "      <td>0.032929</td>\n",
              "      <td>0.068472</td>\n",
              "      <td>0.087386</td>\n",
              "      <td>0.119811</td>\n",
              "      <td>0.166387</td>\n",
              "      <td>0.173966</td>\n",
              "      <td>0.267876</td>\n",
              "    </tr>\n",
              "  </tbody>\n",
              "</table>\n",
              "<p>56268 rows × 22 columns</p>\n",
              "</div>"
            ],
            "text/plain": [
              "       20대 남성 판매량(개)  20대 여성 판매량(개)  ...  60대 남성 선호도 점수  60대 여성 선호도 점수\n",
              "0                0.0            1.0  ...       0.000000       0.284671\n",
              "1                6.0           20.0  ...       0.097320       0.143339\n",
              "2                0.0            0.0  ...       0.000000       0.000000\n",
              "3                3.0            0.0  ...       0.367385       0.000000\n",
              "4                7.0           88.0  ...       0.038242       0.122037\n",
              "...              ...            ...  ...            ...            ...\n",
              "56263            1.0            1.0  ...       0.000000       0.000000\n",
              "56264            8.0           18.0  ...       0.172594       0.063552\n",
              "56265            1.0            9.0  ...       0.000000       0.267868\n",
              "56266            6.0           59.0  ...       0.045675       0.168184\n",
              "56267           10.0           22.0  ...       0.173966       0.267876\n",
              "\n",
              "[56268 rows x 22 columns]"
            ]
          },
          "metadata": {
            "tags": []
          },
          "execution_count": 9
        }
      ]
    },
    {
      "cell_type": "code",
      "metadata": {
        "id": "emhkiRvITxR_"
      },
      "source": [
        "# 총판매량을 y데이터로 만들기\n",
        "y_train = y_train['합계']\n",
        "y_test = y_test['합계']"
      ],
      "execution_count": null,
      "outputs": []
    },
    {
      "cell_type": "markdown",
      "metadata": {
        "id": "eLVr3gA0-mjC"
      },
      "source": [
        "### 정규화 _ StandardScaler"
      ]
    },
    {
      "cell_type": "code",
      "metadata": {
        "id": "5yF5TH46-mN0"
      },
      "source": [
        "from sklearn.preprocessing import StandardScaler\n",
        "\n",
        "ss = StandardScaler()\n",
        "ss.fit(X_train)\n",
        "\n",
        "X_standard_train = ss.transform(X_train)\n",
        "X_standard_test = ss.transform(X_test)"
      ],
      "execution_count": null,
      "outputs": []
    },
    {
      "cell_type": "markdown",
      "metadata": {
        "id": "Itcc6JMwb1gS"
      },
      "source": [
        "### Optimizer _ adam"
      ]
    },
    {
      "cell_type": "code",
      "metadata": {
        "id": "sP4mCvQuAd6t"
      },
      "source": [
        "model_1 = keras.Sequential([\n",
        "              keras.layers.Dense(64, activation='relu', input_shape=[135]),\n",
        "              keras.layers.Dense(64, activation='relu'),\n",
        "              keras.layers.Dense(1)\n",
        "])\n",
        "\n",
        "model_1.compile(loss='mse',\n",
        "              optimizer='adam')"
      ],
      "execution_count": null,
      "outputs": []
    },
    {
      "cell_type": "code",
      "metadata": {
        "id": "XTmeiA2pAn1C",
        "colab": {
          "base_uri": "https://localhost:8080/"
        },
        "outputId": "ea5c8ad0-7dc1-47b9-a0d0-113a06246b83"
      },
      "source": [
        "model_1.fit(X_standard_train, y_train, epochs=100)"
      ],
      "execution_count": null,
      "outputs": [
        {
          "output_type": "stream",
          "text": [
            "Epoch 1/100\n",
            "1759/1759 [==============================] - 3s 1ms/step - loss: 39395.1836\n",
            "Epoch 2/100\n",
            "1759/1759 [==============================] - 2s 1ms/step - loss: 19927.9727\n",
            "Epoch 3/100\n",
            "1759/1759 [==============================] - 2s 1ms/step - loss: 18363.0664\n",
            "Epoch 4/100\n",
            "1759/1759 [==============================] - 2s 1ms/step - loss: 17709.2832\n",
            "Epoch 5/100\n",
            "1759/1759 [==============================] - 2s 1ms/step - loss: 17353.3984\n",
            "Epoch 6/100\n",
            "1759/1759 [==============================] - 2s 1ms/step - loss: 17169.0898\n",
            "Epoch 7/100\n",
            "1759/1759 [==============================] - 2s 1ms/step - loss: 17022.8633\n",
            "Epoch 8/100\n",
            "1759/1759 [==============================] - 3s 1ms/step - loss: 16906.2148\n",
            "Epoch 9/100\n",
            "1759/1759 [==============================] - 2s 1ms/step - loss: 16783.1758\n",
            "Epoch 10/100\n",
            "1759/1759 [==============================] - 2s 1ms/step - loss: 16700.3418\n",
            "Epoch 11/100\n",
            "1759/1759 [==============================] - 3s 1ms/step - loss: 16646.2949\n",
            "Epoch 12/100\n",
            "1759/1759 [==============================] - 2s 1ms/step - loss: 16536.0527\n",
            "Epoch 13/100\n",
            "1759/1759 [==============================] - 3s 1ms/step - loss: 16431.4043\n",
            "Epoch 14/100\n",
            "1759/1759 [==============================] - 3s 1ms/step - loss: 16505.4082\n",
            "Epoch 15/100\n",
            "1759/1759 [==============================] - 3s 1ms/step - loss: 16380.3096\n",
            "Epoch 16/100\n",
            "1759/1759 [==============================] - 2s 1ms/step - loss: 16344.9551\n",
            "Epoch 17/100\n",
            "1759/1759 [==============================] - 2s 1ms/step - loss: 16303.4111\n",
            "Epoch 18/100\n",
            "1759/1759 [==============================] - 3s 1ms/step - loss: 16275.0791\n",
            "Epoch 19/100\n",
            "1759/1759 [==============================] - 3s 1ms/step - loss: 16273.8574\n",
            "Epoch 20/100\n",
            "1759/1759 [==============================] - 3s 1ms/step - loss: 16167.4238\n",
            "Epoch 21/100\n",
            "1759/1759 [==============================] - 3s 1ms/step - loss: 16165.0957\n",
            "Epoch 22/100\n",
            "1759/1759 [==============================] - 3s 1ms/step - loss: 16121.8018\n",
            "Epoch 23/100\n",
            "1759/1759 [==============================] - 3s 1ms/step - loss: 16215.6484\n",
            "Epoch 24/100\n",
            "1759/1759 [==============================] - 3s 1ms/step - loss: 16137.8291\n",
            "Epoch 25/100\n",
            "1759/1759 [==============================] - 3s 1ms/step - loss: 16071.5850\n",
            "Epoch 26/100\n",
            "1759/1759 [==============================] - 3s 1ms/step - loss: 16089.2422\n",
            "Epoch 27/100\n",
            "1759/1759 [==============================] - 3s 1ms/step - loss: 16034.4473\n",
            "Epoch 28/100\n",
            "1759/1759 [==============================] - 3s 1ms/step - loss: 16070.1807\n",
            "Epoch 29/100\n",
            "1759/1759 [==============================] - 2s 1ms/step - loss: 16002.8330\n",
            "Epoch 30/100\n",
            "1759/1759 [==============================] - 3s 1ms/step - loss: 15985.6826\n",
            "Epoch 31/100\n",
            "1759/1759 [==============================] - 2s 1ms/step - loss: 15981.3340\n",
            "Epoch 32/100\n",
            "1759/1759 [==============================] - 3s 1ms/step - loss: 15903.2998\n",
            "Epoch 33/100\n",
            "1759/1759 [==============================] - 2s 1ms/step - loss: 15931.7607\n",
            "Epoch 34/100\n",
            "1759/1759 [==============================] - 2s 1ms/step - loss: 15894.0713\n",
            "Epoch 35/100\n",
            "1759/1759 [==============================] - 3s 1ms/step - loss: 15825.7197\n",
            "Epoch 36/100\n",
            "1759/1759 [==============================] - 2s 1ms/step - loss: 15848.9092\n",
            "Epoch 37/100\n",
            "1759/1759 [==============================] - 2s 1ms/step - loss: 15789.5332\n",
            "Epoch 38/100\n",
            "1759/1759 [==============================] - 2s 1ms/step - loss: 15791.8018\n",
            "Epoch 39/100\n",
            "1759/1759 [==============================] - 2s 1ms/step - loss: 15839.8291\n",
            "Epoch 40/100\n",
            "1759/1759 [==============================] - 2s 1ms/step - loss: 15737.7979\n",
            "Epoch 41/100\n",
            "1759/1759 [==============================] - 2s 1ms/step - loss: 15766.0791\n",
            "Epoch 42/100\n",
            "1759/1759 [==============================] - 2s 1ms/step - loss: 15753.1143\n",
            "Epoch 43/100\n",
            "1759/1759 [==============================] - 2s 1ms/step - loss: 15744.4482\n",
            "Epoch 44/100\n",
            "1759/1759 [==============================] - 2s 1ms/step - loss: 15728.0889\n",
            "Epoch 45/100\n",
            "1759/1759 [==============================] - 2s 1ms/step - loss: 15696.6553\n",
            "Epoch 46/100\n",
            "1759/1759 [==============================] - 2s 1ms/step - loss: 15690.9619\n",
            "Epoch 47/100\n",
            "1759/1759 [==============================] - 2s 1ms/step - loss: 15699.6270\n",
            "Epoch 48/100\n",
            "1759/1759 [==============================] - 2s 1ms/step - loss: 15658.6572\n",
            "Epoch 49/100\n",
            "1759/1759 [==============================] - 2s 1ms/step - loss: 15638.1367\n",
            "Epoch 50/100\n",
            "1759/1759 [==============================] - 2s 1ms/step - loss: 15599.2822\n",
            "Epoch 51/100\n",
            "1759/1759 [==============================] - 2s 1ms/step - loss: 15625.4248\n",
            "Epoch 52/100\n",
            "1759/1759 [==============================] - 2s 1ms/step - loss: 15581.9160\n",
            "Epoch 53/100\n",
            "1759/1759 [==============================] - 2s 1ms/step - loss: 15552.0693\n",
            "Epoch 54/100\n",
            "1759/1759 [==============================] - 2s 1ms/step - loss: 15525.2646\n",
            "Epoch 55/100\n",
            "1759/1759 [==============================] - 2s 1ms/step - loss: 15554.6475\n",
            "Epoch 56/100\n",
            "1759/1759 [==============================] - 3s 1ms/step - loss: 15568.2822\n",
            "Epoch 57/100\n",
            "1759/1759 [==============================] - 3s 1ms/step - loss: 15471.0498\n",
            "Epoch 58/100\n",
            "1759/1759 [==============================] - 3s 1ms/step - loss: 15543.6523\n",
            "Epoch 59/100\n",
            "1759/1759 [==============================] - 2s 1ms/step - loss: 15498.8701\n",
            "Epoch 60/100\n",
            "1759/1759 [==============================] - 2s 1ms/step - loss: 15492.7607\n",
            "Epoch 61/100\n",
            "1759/1759 [==============================] - 2s 1ms/step - loss: 15462.4287\n",
            "Epoch 62/100\n",
            "1759/1759 [==============================] - 2s 1ms/step - loss: 15428.9248\n",
            "Epoch 63/100\n",
            "1759/1759 [==============================] - 2s 1ms/step - loss: 15469.7822\n",
            "Epoch 64/100\n",
            "1759/1759 [==============================] - 2s 1ms/step - loss: 15448.5713\n",
            "Epoch 65/100\n",
            "1759/1759 [==============================] - 3s 1ms/step - loss: 15402.7744\n",
            "Epoch 66/100\n",
            "1759/1759 [==============================] - 2s 1ms/step - loss: 15427.9746\n",
            "Epoch 67/100\n",
            "1759/1759 [==============================] - 3s 1ms/step - loss: 15458.4609\n",
            "Epoch 68/100\n",
            "1759/1759 [==============================] - 3s 1ms/step - loss: 15403.0566\n",
            "Epoch 69/100\n",
            "1759/1759 [==============================] - 2s 1ms/step - loss: 15380.4805\n",
            "Epoch 70/100\n",
            "1759/1759 [==============================] - 3s 1ms/step - loss: 15370.0674\n",
            "Epoch 71/100\n",
            "1759/1759 [==============================] - 3s 1ms/step - loss: 15364.5488\n",
            "Epoch 72/100\n",
            "1759/1759 [==============================] - 3s 1ms/step - loss: 15334.6514\n",
            "Epoch 73/100\n",
            "1759/1759 [==============================] - 3s 1ms/step - loss: 15382.1211\n",
            "Epoch 74/100\n",
            "1759/1759 [==============================] - 3s 1ms/step - loss: 15298.6875\n",
            "Epoch 75/100\n",
            "1759/1759 [==============================] - 2s 1ms/step - loss: 15268.9189\n",
            "Epoch 76/100\n",
            "1759/1759 [==============================] - 2s 1ms/step - loss: 15296.7881\n",
            "Epoch 77/100\n",
            "1759/1759 [==============================] - 2s 1ms/step - loss: 15307.5000\n",
            "Epoch 78/100\n",
            "1759/1759 [==============================] - 3s 1ms/step - loss: 15229.9766\n",
            "Epoch 79/100\n",
            "1759/1759 [==============================] - 2s 1ms/step - loss: 15261.9902\n",
            "Epoch 80/100\n",
            "1759/1759 [==============================] - 2s 1ms/step - loss: 15317.1289\n",
            "Epoch 81/100\n",
            "1759/1759 [==============================] - 3s 1ms/step - loss: 15317.9473\n",
            "Epoch 82/100\n",
            "1759/1759 [==============================] - 3s 1ms/step - loss: 15264.1904\n",
            "Epoch 83/100\n",
            "1759/1759 [==============================] - 2s 1ms/step - loss: 15276.1113\n",
            "Epoch 84/100\n",
            "1759/1759 [==============================] - 2s 1ms/step - loss: 15241.8936\n",
            "Epoch 85/100\n",
            "1759/1759 [==============================] - 2s 1ms/step - loss: 15180.4727\n",
            "Epoch 86/100\n",
            "1759/1759 [==============================] - 3s 1ms/step - loss: 15219.5000\n",
            "Epoch 87/100\n",
            "1759/1759 [==============================] - 2s 1ms/step - loss: 15243.6504\n",
            "Epoch 88/100\n",
            "1759/1759 [==============================] - 2s 1ms/step - loss: 15172.8008\n",
            "Epoch 89/100\n",
            "1759/1759 [==============================] - 2s 1ms/step - loss: 15166.0684\n",
            "Epoch 90/100\n",
            "1759/1759 [==============================] - 3s 1ms/step - loss: 15151.9766\n",
            "Epoch 91/100\n",
            "1759/1759 [==============================] - 2s 1ms/step - loss: 15169.5879\n",
            "Epoch 92/100\n",
            "1759/1759 [==============================] - 2s 1ms/step - loss: 15171.4473\n",
            "Epoch 93/100\n",
            "1759/1759 [==============================] - 2s 1ms/step - loss: 15195.1924\n",
            "Epoch 94/100\n",
            "1759/1759 [==============================] - 3s 1ms/step - loss: 15183.9082\n",
            "Epoch 95/100\n",
            "1759/1759 [==============================] - 3s 1ms/step - loss: 15129.0391\n",
            "Epoch 96/100\n",
            "1759/1759 [==============================] - 3s 1ms/step - loss: 15130.9922\n",
            "Epoch 97/100\n",
            "1759/1759 [==============================] - 3s 1ms/step - loss: 15123.9092\n",
            "Epoch 98/100\n",
            "1759/1759 [==============================] - 2s 1ms/step - loss: 15084.8350\n",
            "Epoch 99/100\n",
            "1759/1759 [==============================] - 2s 1ms/step - loss: 15082.3291\n",
            "Epoch 100/100\n",
            "1759/1759 [==============================] - 3s 1ms/step - loss: 15081.0850\n"
          ],
          "name": "stdout"
        },
        {
          "output_type": "execute_result",
          "data": {
            "text/plain": [
              "<tensorflow.python.keras.callbacks.History at 0x7f97c8a53690>"
            ]
          },
          "metadata": {
            "tags": []
          },
          "execution_count": 13
        }
      ]
    },
    {
      "cell_type": "code",
      "metadata": {
        "id": "eDrHfNWMAqkj"
      },
      "source": [
        "predict_1 = model_1.predict(X_standard_test)"
      ],
      "execution_count": null,
      "outputs": []
    },
    {
      "cell_type": "code",
      "metadata": {
        "id": "eAM9YSoTAtTA",
        "colab": {
          "base_uri": "https://localhost:8080/"
        },
        "outputId": "40f64112-d42b-4cd1-e658-e6ecf0c29059"
      },
      "source": [
        "mse = mean_squared_error(predict_1, y_test)\n",
        "print('MSE  : ', mse)\n",
        "print('RMSE : ', np.sqrt(mse))"
      ],
      "execution_count": null,
      "outputs": [
        {
          "output_type": "stream",
          "text": [
            "MSE  :  17984.69122592514\n",
            "RMSE :  134.10701408175913\n"
          ],
          "name": "stdout"
        }
      ]
    },
    {
      "cell_type": "markdown",
      "metadata": {
        "id": "dMs1R6vqVJvV"
      },
      "source": [
        "# 선호도 점수 회귀 예측"
      ]
    },
    {
      "cell_type": "code",
      "metadata": {
        "id": "9ftpAE_CIqVX"
      },
      "source": [
        "y_train = pd.read_csv('../data/y_train_weather_columns_6.csv', encoding='CP949')\n",
        "y_test = pd.read_csv('../data/y_test_weather_columns_6.csv', encoding='CP949')"
      ],
      "execution_count": null,
      "outputs": []
    },
    {
      "cell_type": "markdown",
      "metadata": {
        "id": "bWzlp_dRZ83F"
      },
      "source": [
        "## 일별 물품 선호도 점수"
      ]
    },
    {
      "cell_type": "code",
      "metadata": {
        "id": "fuFTDNUHZQqM"
      },
      "source": [
        "# 일별 물품 선호도 점수를 y데이터로 만들기\n",
        "y_train_day_prefer = y_train['일별 물품 선호도 점수']\n",
        "y_test_day_prefer = y_test['일별 물품 선호도 점수']"
      ],
      "execution_count": null,
      "outputs": []
    },
    {
      "cell_type": "code",
      "metadata": {
        "colab": {
          "base_uri": "https://localhost:8080/"
        },
        "id": "NZuVt0YbZebQ",
        "outputId": "4f66e81d-be27-4949-9f6d-0efead3ec1f9"
      },
      "source": [
        "y_train_day_prefer"
      ],
      "execution_count": null,
      "outputs": [
        {
          "output_type": "execute_result",
          "data": {
            "text/plain": [
              "0        0.000005\n",
              "1        0.000037\n",
              "2        0.000002\n",
              "3        0.000005\n",
              "4        0.000140\n",
              "           ...   \n",
              "56263    0.000002\n",
              "56264    0.000041\n",
              "56265    0.000020\n",
              "56266    0.000039\n",
              "56267    0.000226\n",
              "Name: 일별 물품 선호도 점수, Length: 56268, dtype: float64"
            ]
          },
          "metadata": {
            "tags": []
          },
          "execution_count": 26
        }
      ]
    },
    {
      "cell_type": "code",
      "metadata": {
        "colab": {
          "base_uri": "https://localhost:8080/"
        },
        "id": "HViLHgngZjH1",
        "outputId": "b7a92ca4-cc75-4e51-a1cc-a1b2777471b3"
      },
      "source": [
        "model_day_prefer = keras.Sequential([\n",
        "                   keras.layers.Dense(64, activation='relu', input_shape=[135]),\n",
        "                   keras.layers.Dense(64, activation='relu'),\n",
        "                   keras.layers.Dense(1)\n",
        "])\n",
        "\n",
        "model_day_prefer.compile(loss='mse', optimizer='adam')\n",
        "\n",
        "model_day_prefer.fit(X_standard_train, y_train_day_prefer, epochs=50)"
      ],
      "execution_count": null,
      "outputs": [
        {
          "output_type": "stream",
          "text": [
            "Epoch 1/50\n",
            "1759/1759 [==============================] - 3s 1ms/step - loss: 0.0148\n",
            "Epoch 2/50\n",
            "1759/1759 [==============================] - 3s 1ms/step - loss: 0.0011\n",
            "Epoch 3/50\n",
            "1759/1759 [==============================] - 3s 1ms/step - loss: 4.5151e-04\n",
            "Epoch 4/50\n",
            "1759/1759 [==============================] - 3s 1ms/step - loss: 3.2652e-04\n",
            "Epoch 5/50\n",
            "1759/1759 [==============================] - 2s 1ms/step - loss: 1.6764e-04\n",
            "Epoch 6/50\n",
            "1759/1759 [==============================] - 2s 1ms/step - loss: 3.9214e-05\n",
            "Epoch 7/50\n",
            "1759/1759 [==============================] - 2s 1ms/step - loss: 2.5488e-05\n",
            "Epoch 8/50\n",
            "1759/1759 [==============================] - 3s 1ms/step - loss: 5.7811e-06\n",
            "Epoch 9/50\n",
            "1759/1759 [==============================] - 3s 1ms/step - loss: 3.2455e-06\n",
            "Epoch 10/50\n",
            "1759/1759 [==============================] - 2s 1ms/step - loss: 1.2842e-06\n",
            "Epoch 11/50\n",
            "1759/1759 [==============================] - 2s 1ms/step - loss: 2.0620e-07\n",
            "Epoch 12/50\n",
            "1759/1759 [==============================] - 2s 1ms/step - loss: 4.7793e-08\n",
            "Epoch 13/50\n",
            "1759/1759 [==============================] - 3s 1ms/step - loss: 3.0404e-08\n",
            "Epoch 14/50\n",
            "1759/1759 [==============================] - 3s 1ms/step - loss: 1.5643e-08\n",
            "Epoch 15/50\n",
            "1759/1759 [==============================] - 3s 1ms/step - loss: 1.3438e-08\n",
            "Epoch 16/50\n",
            "1759/1759 [==============================] - 2s 1ms/step - loss: 7.2366e-09\n",
            "Epoch 17/50\n",
            "1759/1759 [==============================] - 3s 1ms/step - loss: 5.0183e-09\n",
            "Epoch 18/50\n",
            "1759/1759 [==============================] - 3s 1ms/step - loss: 4.3535e-09\n",
            "Epoch 19/50\n",
            "1759/1759 [==============================] - 2s 1ms/step - loss: 1.8608e-07\n",
            "Epoch 20/50\n",
            "1759/1759 [==============================] - 2s 1ms/step - loss: 9.2356e-09\n",
            "Epoch 21/50\n",
            "1759/1759 [==============================] - 3s 1ms/step - loss: 5.6862e-09\n",
            "Epoch 22/50\n",
            "1759/1759 [==============================] - 2s 1ms/step - loss: 7.2215e-09\n",
            "Epoch 23/50\n",
            "1759/1759 [==============================] - 3s 1ms/step - loss: 7.2169e-09\n",
            "Epoch 24/50\n",
            "1759/1759 [==============================] - 2s 1ms/step - loss: 9.7101e-09\n",
            "Epoch 25/50\n",
            "1759/1759 [==============================] - 3s 1ms/step - loss: 9.6568e-09\n",
            "Epoch 26/50\n",
            "1759/1759 [==============================] - 3s 1ms/step - loss: 9.7109e-09\n",
            "Epoch 27/50\n",
            "1759/1759 [==============================] - 3s 1ms/step - loss: 1.1158e-08\n",
            "Epoch 28/50\n",
            "1759/1759 [==============================] - 2s 1ms/step - loss: 1.2610e-08\n",
            "Epoch 29/50\n",
            "1759/1759 [==============================] - 3s 1ms/step - loss: 1.1675e-08\n",
            "Epoch 30/50\n",
            "1759/1759 [==============================] - 3s 1ms/step - loss: 1.1669e-08\n",
            "Epoch 31/50\n",
            "1759/1759 [==============================] - 3s 1ms/step - loss: 1.1730e-08\n",
            "Epoch 32/50\n",
            "1759/1759 [==============================] - 3s 1ms/step - loss: 1.1803e-08\n",
            "Epoch 33/50\n",
            "1759/1759 [==============================] - 2s 1ms/step - loss: 1.1946e-08\n",
            "Epoch 34/50\n",
            "1759/1759 [==============================] - 3s 1ms/step - loss: 1.1789e-08\n",
            "Epoch 35/50\n",
            "1759/1759 [==============================] - 3s 1ms/step - loss: 1.2112e-08\n",
            "Epoch 36/50\n",
            "1759/1759 [==============================] - 3s 1ms/step - loss: 1.1654e-08\n",
            "Epoch 37/50\n",
            "1759/1759 [==============================] - 3s 1ms/step - loss: 1.1889e-08\n",
            "Epoch 38/50\n",
            "1759/1759 [==============================] - 3s 1ms/step - loss: 1.1825e-08\n",
            "Epoch 39/50\n",
            "1759/1759 [==============================] - 3s 1ms/step - loss: 1.2140e-08\n",
            "Epoch 40/50\n",
            "1759/1759 [==============================] - 3s 1ms/step - loss: 1.1939e-08\n",
            "Epoch 41/50\n",
            "1759/1759 [==============================] - 3s 1ms/step - loss: 1.1594e-08\n",
            "Epoch 42/50\n",
            "1759/1759 [==============================] - 3s 1ms/step - loss: 1.1832e-08\n",
            "Epoch 43/50\n",
            "1759/1759 [==============================] - 3s 1ms/step - loss: 1.1816e-08\n",
            "Epoch 44/50\n",
            "1759/1759 [==============================] - 3s 1ms/step - loss: 1.1821e-08\n",
            "Epoch 45/50\n",
            "1759/1759 [==============================] - 3s 1ms/step - loss: 1.2327e-08\n",
            "Epoch 46/50\n",
            "1759/1759 [==============================] - 3s 1ms/step - loss: 1.2242e-08\n",
            "Epoch 47/50\n",
            "1759/1759 [==============================] - 3s 1ms/step - loss: 1.2074e-08\n",
            "Epoch 48/50\n",
            "1759/1759 [==============================] - 2s 1ms/step - loss: 1.2087e-08\n",
            "Epoch 49/50\n",
            "1759/1759 [==============================] - 3s 1ms/step - loss: 1.1503e-08\n",
            "Epoch 50/50\n",
            "1759/1759 [==============================] - 3s 1ms/step - loss: 1.1876e-08\n"
          ],
          "name": "stdout"
        },
        {
          "output_type": "execute_result",
          "data": {
            "text/plain": [
              "<tensorflow.python.keras.callbacks.History at 0x7f97c0536c10>"
            ]
          },
          "metadata": {
            "tags": []
          },
          "execution_count": 27
        }
      ]
    },
    {
      "cell_type": "code",
      "metadata": {
        "colab": {
          "base_uri": "https://localhost:8080/"
        },
        "id": "sQ88loi0ZtF8",
        "outputId": "69b01a28-69e0-4151-a03d-b30d04899a82"
      },
      "source": [
        "predict_day_prefer = model_day_prefer.predict(X_standard_test)\n",
        "\n",
        "mse = mean_squared_error(predict_day_prefer, y_test_day_prefer)\n",
        "print('MSE  : ', mse)\n",
        "print('RMSE : ', np.sqrt(mse))"
      ],
      "execution_count": null,
      "outputs": [
        {
          "output_type": "stream",
          "text": [
            "MSE  :  1.8451211147804793e-08\n",
            "RMSE :  0.0001358352352955771\n"
          ],
          "name": "stdout"
        }
      ]
    },
    {
      "cell_type": "markdown",
      "metadata": {
        "id": "2mOs4HdfZ22A"
      },
      "source": [
        "## 연령 성별별 선호도 점수 예측"
      ]
    },
    {
      "cell_type": "code",
      "metadata": {
        "id": "ncCxI5OLVb59"
      },
      "source": [
        "# 연령 성별별로 10개의 모델을 위한 y데이터 10개 만들기\n",
        "y_train_20m = y_train['20대 남성 선호도 점수']\n",
        "y_test_20m = y_test['20대 남성 선호도 점수']\n",
        "y_train_20f = y_train['20대 여성 선호도 점수']\n",
        "y_test_20f = y_test['20대 여성 선호도 점수']\n",
        "\n",
        "y_train_30m = y_train['30대 남성 선호도 점수']\n",
        "y_test_30m = y_test['30대 남성 선호도 점수']\n",
        "y_train_30f = y_train['30대 여성 선호도 점수']\n",
        "y_test_30f = y_test['30대 여성 선호도 점수']\n",
        "\n",
        "y_train_40m = y_train['40대 남성 선호도 점수']\n",
        "y_test_40m = y_test['40대 남성 선호도 점수']\n",
        "y_train_40f = y_train['40대 여성 선호도 점수']\n",
        "y_test_40f = y_test['40대 여성 선호도 점수']\n",
        "\n",
        "y_train_50m = y_train['50대 남성 선호도 점수']\n",
        "y_test_50m = y_test['50대 남성 선호도 점수']\n",
        "y_train_50f = y_train['50대 여성 선호도 점수']\n",
        "y_test_50f = y_test['50대 여성 선호도 점수']\n",
        "\n",
        "y_train_60m = y_train['60대 남성 선호도 점수']\n",
        "y_test_60m = y_test['60대 남성 선호도 점수']\n",
        "y_train_60f = y_train['60대 여성 선호도 점수']\n",
        "y_test_60f = y_test['60대 여성 선호도 점수']"
      ],
      "execution_count": null,
      "outputs": []
    },
    {
      "cell_type": "markdown",
      "metadata": {
        "id": "-29OlI7AXpUI"
      },
      "source": [
        "### 20대 남성"
      ]
    },
    {
      "cell_type": "code",
      "metadata": {
        "colab": {
          "base_uri": "https://localhost:8080/"
        },
        "id": "Sq3fvZ0jYBZS",
        "outputId": "a38fc840-b16c-4ed7-ff7b-45f4cf09a4e6"
      },
      "source": [
        "y_train_20m"
      ],
      "execution_count": null,
      "outputs": [
        {
          "output_type": "execute_result",
          "data": {
            "text/plain": [
              "0        0.000000\n",
              "1        0.092382\n",
              "2        0.000000\n",
              "3        0.348746\n",
              "4        0.028234\n",
              "           ...   \n",
              "56263    0.367905\n",
              "56264    0.109225\n",
              "56265    0.028774\n",
              "56266    0.086716\n",
              "56267    0.025021\n",
              "Name: 20대 남성 선호도 점수, Length: 56268, dtype: float64"
            ]
          },
          "metadata": {
            "tags": []
          },
          "execution_count": 20
        }
      ]
    },
    {
      "cell_type": "code",
      "metadata": {
        "colab": {
          "base_uri": "https://localhost:8080/"
        },
        "id": "K1EELaExVcC4",
        "outputId": "d347c48b-33f7-4fb8-d2b1-d70c782e5b60"
      },
      "source": [
        "model_20m = keras.Sequential([\n",
        "              keras.layers.Dense(64, activation='relu', input_shape=[135]),\n",
        "              keras.layers.Dense(64, activation='relu'),\n",
        "              keras.layers.Dense(1)\n",
        "])\n",
        "\n",
        "model_20m.compile(loss='mse', optimizer='adam')\n",
        "\n",
        "model_20m.fit(X_standard_train, y_train_20m, epochs=50)"
      ],
      "execution_count": null,
      "outputs": [
        {
          "output_type": "stream",
          "text": [
            "Epoch 1/50\n",
            "1759/1759 [==============================] - 3s 1ms/step - loss: 0.0198\n",
            "Epoch 2/50\n",
            "1759/1759 [==============================] - 3s 1ms/step - loss: 0.0117\n",
            "Epoch 3/50\n",
            "1759/1759 [==============================] - 3s 1ms/step - loss: 0.0111\n",
            "Epoch 4/50\n",
            "1759/1759 [==============================] - 3s 1ms/step - loss: 0.0100\n",
            "Epoch 5/50\n",
            "1759/1759 [==============================] - 3s 1ms/step - loss: 0.0097\n",
            "Epoch 6/50\n",
            "1759/1759 [==============================] - 3s 1ms/step - loss: 0.0096\n",
            "Epoch 7/50\n",
            "1759/1759 [==============================] - 2s 1ms/step - loss: 0.0096\n",
            "Epoch 8/50\n",
            "1759/1759 [==============================] - 2s 1ms/step - loss: 0.0096\n",
            "Epoch 9/50\n",
            "1759/1759 [==============================] - 3s 1ms/step - loss: 0.0096\n",
            "Epoch 10/50\n",
            "1759/1759 [==============================] - 3s 1ms/step - loss: 0.0095\n",
            "Epoch 11/50\n",
            "1759/1759 [==============================] - 3s 1ms/step - loss: 0.0095\n",
            "Epoch 12/50\n",
            "1759/1759 [==============================] - 3s 1ms/step - loss: 0.0095\n",
            "Epoch 13/50\n",
            "1759/1759 [==============================] - 3s 1ms/step - loss: 0.0095\n",
            "Epoch 14/50\n",
            "1759/1759 [==============================] - 3s 1ms/step - loss: 0.0095\n",
            "Epoch 15/50\n",
            "1759/1759 [==============================] - 3s 1ms/step - loss: 0.0095\n",
            "Epoch 16/50\n",
            "1759/1759 [==============================] - 3s 1ms/step - loss: 0.0095\n",
            "Epoch 17/50\n",
            "1759/1759 [==============================] - 3s 1ms/step - loss: 0.0094\n",
            "Epoch 18/50\n",
            "1759/1759 [==============================] - 3s 1ms/step - loss: 0.0094\n",
            "Epoch 19/50\n",
            "1759/1759 [==============================] - 3s 1ms/step - loss: 0.0094\n",
            "Epoch 20/50\n",
            "1759/1759 [==============================] - 3s 1ms/step - loss: 0.0094\n",
            "Epoch 21/50\n",
            "1759/1759 [==============================] - 3s 1ms/step - loss: 0.0094\n",
            "Epoch 22/50\n",
            "1759/1759 [==============================] - 3s 1ms/step - loss: 0.0094\n",
            "Epoch 23/50\n",
            "1759/1759 [==============================] - 3s 1ms/step - loss: 0.0094\n",
            "Epoch 24/50\n",
            "1759/1759 [==============================] - 3s 1ms/step - loss: 0.0093\n",
            "Epoch 25/50\n",
            "1759/1759 [==============================] - 3s 1ms/step - loss: 0.0093\n",
            "Epoch 26/50\n",
            "1759/1759 [==============================] - 3s 1ms/step - loss: 0.0093\n",
            "Epoch 27/50\n",
            "1759/1759 [==============================] - 3s 1ms/step - loss: 0.0093\n",
            "Epoch 28/50\n",
            "1759/1759 [==============================] - 3s 1ms/step - loss: 0.0093\n",
            "Epoch 29/50\n",
            "1759/1759 [==============================] - 3s 1ms/step - loss: 0.0093\n",
            "Epoch 30/50\n",
            "1759/1759 [==============================] - 3s 1ms/step - loss: 0.0093\n",
            "Epoch 31/50\n",
            "1759/1759 [==============================] - 3s 1ms/step - loss: 0.0093\n",
            "Epoch 32/50\n",
            "1759/1759 [==============================] - 3s 1ms/step - loss: 0.0092\n",
            "Epoch 33/50\n",
            "1759/1759 [==============================] - 3s 1ms/step - loss: 0.0092\n",
            "Epoch 34/50\n",
            "1759/1759 [==============================] - 3s 1ms/step - loss: 0.0092\n",
            "Epoch 35/50\n",
            "1759/1759 [==============================] - 3s 1ms/step - loss: 0.0092\n",
            "Epoch 36/50\n",
            "1759/1759 [==============================] - 3s 1ms/step - loss: 0.0092\n",
            "Epoch 37/50\n",
            "1759/1759 [==============================] - 3s 1ms/step - loss: 0.0092\n",
            "Epoch 38/50\n",
            "1759/1759 [==============================] - 3s 1ms/step - loss: 0.0092\n",
            "Epoch 39/50\n",
            "1759/1759 [==============================] - 3s 1ms/step - loss: 0.0092\n",
            "Epoch 40/50\n",
            "1759/1759 [==============================] - 3s 1ms/step - loss: 0.0091\n",
            "Epoch 41/50\n",
            "1759/1759 [==============================] - 3s 1ms/step - loss: 0.0091\n",
            "Epoch 42/50\n",
            "1759/1759 [==============================] - 3s 1ms/step - loss: 0.0091\n",
            "Epoch 43/50\n",
            "1759/1759 [==============================] - 3s 1ms/step - loss: 0.0091\n",
            "Epoch 44/50\n",
            "1759/1759 [==============================] - 3s 1ms/step - loss: 0.0091\n",
            "Epoch 45/50\n",
            "1759/1759 [==============================] - 3s 1ms/step - loss: 0.0091\n",
            "Epoch 46/50\n",
            "1759/1759 [==============================] - 3s 1ms/step - loss: 0.0091\n",
            "Epoch 47/50\n",
            "1759/1759 [==============================] - 3s 1ms/step - loss: 0.0091\n",
            "Epoch 48/50\n",
            "1759/1759 [==============================] - 3s 1ms/step - loss: 0.0090\n",
            "Epoch 49/50\n",
            "1759/1759 [==============================] - 3s 1ms/step - loss: 0.0090\n",
            "Epoch 50/50\n",
            "1759/1759 [==============================] - 3s 1ms/step - loss: 0.0090\n"
          ],
          "name": "stdout"
        },
        {
          "output_type": "execute_result",
          "data": {
            "text/plain": [
              "<tensorflow.python.keras.callbacks.History at 0x7f97c8d5c510>"
            ]
          },
          "metadata": {
            "tags": []
          },
          "execution_count": 18
        }
      ]
    },
    {
      "cell_type": "code",
      "metadata": {
        "colab": {
          "base_uri": "https://localhost:8080/"
        },
        "id": "vxCDi_j0VcJV",
        "outputId": "152d49d8-a018-4136-dbe2-abb931253669"
      },
      "source": [
        "predict_20m = model_20m.predict(X_standard_test)\n",
        "\n",
        "mse = mean_squared_error(predict_20m, y_test_20m)\n",
        "print('MSE  : ', mse)\n",
        "print('RMSE : ', np.sqrt(mse))"
      ],
      "execution_count": null,
      "outputs": [
        {
          "output_type": "stream",
          "text": [
            "MSE  :  0.010575713616248313\n",
            "RMSE :  0.1028382886684153\n"
          ],
          "name": "stdout"
        }
      ]
    },
    {
      "cell_type": "code",
      "metadata": {
        "colab": {
          "base_uri": "https://localhost:8080/"
        },
        "id": "QE_yUQymYUvh",
        "outputId": "e51bb207-2035-4044-f6cc-52c4e771f65a"
      },
      "source": [
        "predict_20m"
      ],
      "execution_count": null,
      "outputs": [
        {
          "output_type": "execute_result",
          "data": {
            "text/plain": [
              "array([[0.06266151],\n",
              "       [0.09883453],\n",
              "       [0.09400901],\n",
              "       ...,\n",
              "       [0.08344326],\n",
              "       [0.0604971 ],\n",
              "       [0.04961798]], dtype=float32)"
            ]
          },
          "metadata": {
            "tags": []
          },
          "execution_count": 21
        }
      ]
    },
    {
      "cell_type": "markdown",
      "metadata": {
        "id": "pqM2S-n9XtyN"
      },
      "source": [
        "### 20대 여성"
      ]
    },
    {
      "cell_type": "code",
      "metadata": {
        "colab": {
          "base_uri": "https://localhost:8080/"
        },
        "id": "IcS-d_2lVcMA",
        "outputId": "22f24b79-db1c-4545-9e9e-f9a733a8fe2b"
      },
      "source": [
        "model_20f = keras.Sequential([\n",
        "              keras.layers.Dense(64, activation='relu', input_shape=[135]),\n",
        "              keras.layers.Dense(64, activation='relu'),\n",
        "              keras.layers.Dense(1)\n",
        "])\n",
        "\n",
        "model_20f.compile(loss='mse', optimizer='adam')\n",
        "\n",
        "model_20f.fit(X_standard_train, y_train_20f, epochs=50)"
      ],
      "execution_count": null,
      "outputs": [
        {
          "output_type": "stream",
          "text": [
            "Epoch 1/50\n",
            "1759/1759 [==============================] - 3s 1ms/step - loss: 0.0144\n",
            "Epoch 2/50\n",
            "1759/1759 [==============================] - 2s 1ms/step - loss: 0.0092\n",
            "Epoch 3/50\n",
            "1759/1759 [==============================] - 2s 1ms/step - loss: 0.0085\n",
            "Epoch 4/50\n",
            "1759/1759 [==============================] - 3s 1ms/step - loss: 0.0082\n",
            "Epoch 5/50\n",
            "1759/1759 [==============================] - 2s 1ms/step - loss: 0.0080\n",
            "Epoch 6/50\n",
            "1759/1759 [==============================] - 3s 1ms/step - loss: 0.0080\n",
            "Epoch 7/50\n",
            "1759/1759 [==============================] - 3s 1ms/step - loss: 0.0080\n",
            "Epoch 8/50\n",
            "1759/1759 [==============================] - 3s 1ms/step - loss: 0.0079\n",
            "Epoch 9/50\n",
            "1759/1759 [==============================] - 2s 1ms/step - loss: 0.0079\n",
            "Epoch 10/50\n",
            "1759/1759 [==============================] - 3s 1ms/step - loss: 0.0079\n",
            "Epoch 11/50\n",
            "1759/1759 [==============================] - 2s 1ms/step - loss: 0.0078\n",
            "Epoch 12/50\n",
            "1759/1759 [==============================] - 3s 1ms/step - loss: 0.0079\n",
            "Epoch 13/50\n",
            "1759/1759 [==============================] - 3s 1ms/step - loss: 0.0078\n",
            "Epoch 14/50\n",
            "1759/1759 [==============================] - 3s 1ms/step - loss: 0.0078\n",
            "Epoch 15/50\n",
            "1759/1759 [==============================] - 2s 1ms/step - loss: 0.0078\n",
            "Epoch 16/50\n",
            "1759/1759 [==============================] - 3s 1ms/step - loss: 0.0078\n",
            "Epoch 17/50\n",
            "1759/1759 [==============================] - 3s 1ms/step - loss: 0.0078\n",
            "Epoch 18/50\n",
            "1759/1759 [==============================] - 3s 1ms/step - loss: 0.0077\n",
            "Epoch 19/50\n",
            "1759/1759 [==============================] - 2s 1ms/step - loss: 0.0078\n",
            "Epoch 20/50\n",
            "1759/1759 [==============================] - 3s 1ms/step - loss: 0.0077\n",
            "Epoch 21/50\n",
            "1759/1759 [==============================] - 2s 1ms/step - loss: 0.0077\n",
            "Epoch 22/50\n",
            "1759/1759 [==============================] - 3s 1ms/step - loss: 0.0077\n",
            "Epoch 23/50\n",
            "1759/1759 [==============================] - 2s 1ms/step - loss: 0.0077\n",
            "Epoch 24/50\n",
            "1759/1759 [==============================] - 3s 1ms/step - loss: 0.0077\n",
            "Epoch 25/50\n",
            "1759/1759 [==============================] - 3s 1ms/step - loss: 0.0077\n",
            "Epoch 26/50\n",
            "1759/1759 [==============================] - 3s 1ms/step - loss: 0.0077\n",
            "Epoch 27/50\n",
            "1759/1759 [==============================] - 3s 1ms/step - loss: 0.0077\n",
            "Epoch 28/50\n",
            "1759/1759 [==============================] - 3s 1ms/step - loss: 0.0077\n",
            "Epoch 29/50\n",
            "1759/1759 [==============================] - 3s 1ms/step - loss: 0.0077\n",
            "Epoch 30/50\n",
            "1759/1759 [==============================] - 3s 1ms/step - loss: 0.0076\n",
            "Epoch 31/50\n",
            "1759/1759 [==============================] - 3s 1ms/step - loss: 0.0076\n",
            "Epoch 32/50\n",
            "1759/1759 [==============================] - 3s 1ms/step - loss: 0.0076\n",
            "Epoch 33/50\n",
            "1759/1759 [==============================] - 3s 1ms/step - loss: 0.0076\n",
            "Epoch 34/50\n",
            "1759/1759 [==============================] - 3s 1ms/step - loss: 0.0076\n",
            "Epoch 35/50\n",
            "1759/1759 [==============================] - 2s 1ms/step - loss: 0.0076\n",
            "Epoch 36/50\n",
            "1759/1759 [==============================] - 3s 1ms/step - loss: 0.0076\n",
            "Epoch 37/50\n",
            "1759/1759 [==============================] - 3s 1ms/step - loss: 0.0076\n",
            "Epoch 38/50\n",
            "1759/1759 [==============================] - 3s 1ms/step - loss: 0.0076\n",
            "Epoch 39/50\n",
            "1759/1759 [==============================] - 3s 1ms/step - loss: 0.0075\n",
            "Epoch 40/50\n",
            "1759/1759 [==============================] - 3s 1ms/step - loss: 0.0075\n",
            "Epoch 41/50\n",
            "1759/1759 [==============================] - 3s 1ms/step - loss: 0.0075\n",
            "Epoch 42/50\n",
            "1759/1759 [==============================] - 3s 1ms/step - loss: 0.0075\n",
            "Epoch 43/50\n",
            "1759/1759 [==============================] - 3s 1ms/step - loss: 0.0075\n",
            "Epoch 44/50\n",
            "1759/1759 [==============================] - 2s 1ms/step - loss: 0.0075\n",
            "Epoch 45/50\n",
            "1759/1759 [==============================] - 2s 1ms/step - loss: 0.0075\n",
            "Epoch 46/50\n",
            "1759/1759 [==============================] - 3s 1ms/step - loss: 0.0074\n",
            "Epoch 47/50\n",
            "1759/1759 [==============================] - 3s 1ms/step - loss: 0.0075\n",
            "Epoch 48/50\n",
            "1759/1759 [==============================] - 2s 1ms/step - loss: 0.0074\n",
            "Epoch 49/50\n",
            "1759/1759 [==============================] - 3s 1ms/step - loss: 0.0075\n",
            "Epoch 50/50\n",
            "1759/1759 [==============================] - 3s 1ms/step - loss: 0.0074\n"
          ],
          "name": "stdout"
        },
        {
          "output_type": "execute_result",
          "data": {
            "text/plain": [
              "<tensorflow.python.keras.callbacks.History at 0x7f97c0d8afd0>"
            ]
          },
          "metadata": {
            "tags": []
          },
          "execution_count": 22
        }
      ]
    },
    {
      "cell_type": "code",
      "metadata": {
        "colab": {
          "base_uri": "https://localhost:8080/"
        },
        "id": "qWdwwzqzVcOd",
        "outputId": "cb7ebdbd-1ae7-403e-a07e-f0ce7b763046"
      },
      "source": [
        "predict_20f = model_20f.predict(X_standard_test)\n",
        "\n",
        "mse = mean_squared_error(predict_20f, y_test_20f)\n",
        "print('MSE  : ', mse)\n",
        "print('RMSE : ', np.sqrt(mse))"
      ],
      "execution_count": null,
      "outputs": [
        {
          "output_type": "stream",
          "text": [
            "MSE  :  0.008736307627544716\n",
            "RMSE :  0.09346821720534053\n"
          ],
          "name": "stdout"
        }
      ]
    },
    {
      "cell_type": "markdown",
      "metadata": {
        "id": "kH8OnjMeaX2t"
      },
      "source": [
        "### 30대 남성"
      ]
    },
    {
      "cell_type": "code",
      "metadata": {
        "colab": {
          "base_uri": "https://localhost:8080/"
        },
        "id": "_sSEc8iSVcRO",
        "outputId": "a064eb68-c7fd-4b66-acc0-a25bfaa4756f"
      },
      "source": [
        "model_30m = keras.Sequential([\n",
        "              keras.layers.Dense(64, activation='relu', input_shape=[135]),\n",
        "              keras.layers.Dense(64, activation='relu'),\n",
        "              keras.layers.Dense(1)\n",
        "])\n",
        "\n",
        "model_30m.compile(loss='mse', optimizer='adam')\n",
        "\n",
        "model_30m.fit(X_standard_train, y_train_30m, epochs=50)"
      ],
      "execution_count": null,
      "outputs": [
        {
          "output_type": "stream",
          "text": [
            "Epoch 1/50\n",
            "1759/1759 [==============================] - 3s 1ms/step - loss: 0.0205\n",
            "Epoch 2/50\n",
            "1759/1759 [==============================] - 3s 1ms/step - loss: 0.0148\n",
            "Epoch 3/50\n",
            "1759/1759 [==============================] - 3s 1ms/step - loss: 0.0141\n",
            "Epoch 4/50\n",
            "1759/1759 [==============================] - 3s 1ms/step - loss: 0.0137\n",
            "Epoch 5/50\n",
            "1759/1759 [==============================] - 3s 1ms/step - loss: 0.0136\n",
            "Epoch 6/50\n",
            "1759/1759 [==============================] - 3s 1ms/step - loss: 0.0135\n",
            "Epoch 7/50\n",
            "1759/1759 [==============================] - 3s 1ms/step - loss: 0.0134\n",
            "Epoch 8/50\n",
            "1759/1759 [==============================] - 2s 1ms/step - loss: 0.0134\n",
            "Epoch 9/50\n",
            "1759/1759 [==============================] - 3s 1ms/step - loss: 0.0134\n",
            "Epoch 10/50\n",
            "1759/1759 [==============================] - 3s 1ms/step - loss: 0.0133\n",
            "Epoch 11/50\n",
            "1759/1759 [==============================] - 3s 1ms/step - loss: 0.0133\n",
            "Epoch 12/50\n",
            "1759/1759 [==============================] - 2s 1ms/step - loss: 0.0133\n",
            "Epoch 13/50\n",
            "1759/1759 [==============================] - 2s 1ms/step - loss: 0.0133\n",
            "Epoch 14/50\n",
            "1759/1759 [==============================] - 2s 1ms/step - loss: 0.0133\n",
            "Epoch 15/50\n",
            "1759/1759 [==============================] - 3s 1ms/step - loss: 0.0133\n",
            "Epoch 16/50\n",
            "1759/1759 [==============================] - 2s 1ms/step - loss: 0.0133\n",
            "Epoch 17/50\n",
            "1759/1759 [==============================] - 3s 1ms/step - loss: 0.0132\n",
            "Epoch 18/50\n",
            "1759/1759 [==============================] - 3s 1ms/step - loss: 0.0132\n",
            "Epoch 19/50\n",
            "1759/1759 [==============================] - 3s 1ms/step - loss: 0.0132\n",
            "Epoch 20/50\n",
            "1759/1759 [==============================] - 3s 1ms/step - loss: 0.0132\n",
            "Epoch 21/50\n",
            "1759/1759 [==============================] - 3s 1ms/step - loss: 0.0132\n",
            "Epoch 22/50\n",
            "1759/1759 [==============================] - 3s 1ms/step - loss: 0.0131\n",
            "Epoch 23/50\n",
            "1759/1759 [==============================] - 3s 1ms/step - loss: 0.0131\n",
            "Epoch 24/50\n",
            "1759/1759 [==============================] - 2s 1ms/step - loss: 0.0131\n",
            "Epoch 25/50\n",
            "1759/1759 [==============================] - 3s 1ms/step - loss: 0.0131\n",
            "Epoch 26/50\n",
            "1759/1759 [==============================] - 3s 1ms/step - loss: 0.0131\n",
            "Epoch 27/50\n",
            "1759/1759 [==============================] - 3s 1ms/step - loss: 0.0130\n",
            "Epoch 28/50\n",
            "1759/1759 [==============================] - 3s 1ms/step - loss: 0.0130\n",
            "Epoch 29/50\n",
            "1759/1759 [==============================] - 3s 1ms/step - loss: 0.0130\n",
            "Epoch 30/50\n",
            "1759/1759 [==============================] - 3s 1ms/step - loss: 0.0130\n",
            "Epoch 31/50\n",
            "1759/1759 [==============================] - 3s 1ms/step - loss: 0.0130\n",
            "Epoch 32/50\n",
            "1759/1759 [==============================] - 3s 1ms/step - loss: 0.0129\n",
            "Epoch 33/50\n",
            "1759/1759 [==============================] - 3s 1ms/step - loss: 0.0129\n",
            "Epoch 34/50\n",
            "1759/1759 [==============================] - 3s 1ms/step - loss: 0.0129\n",
            "Epoch 35/50\n",
            "1759/1759 [==============================] - 3s 1ms/step - loss: 0.0129\n",
            "Epoch 36/50\n",
            "1759/1759 [==============================] - 2s 1ms/step - loss: 0.0129\n",
            "Epoch 37/50\n",
            "1759/1759 [==============================] - 3s 1ms/step - loss: 0.0128\n",
            "Epoch 38/50\n",
            "1759/1759 [==============================] - 2s 1ms/step - loss: 0.0128\n",
            "Epoch 39/50\n",
            "1759/1759 [==============================] - 3s 1ms/step - loss: 0.0128\n",
            "Epoch 40/50\n",
            "1759/1759 [==============================] - 3s 1ms/step - loss: 0.0128\n",
            "Epoch 41/50\n",
            "1759/1759 [==============================] - 3s 1ms/step - loss: 0.0128\n",
            "Epoch 42/50\n",
            "1759/1759 [==============================] - 3s 1ms/step - loss: 0.0127\n",
            "Epoch 43/50\n",
            "1759/1759 [==============================] - 3s 1ms/step - loss: 0.0127\n",
            "Epoch 44/50\n",
            "1759/1759 [==============================] - 3s 1ms/step - loss: 0.0127\n",
            "Epoch 45/50\n",
            "1759/1759 [==============================] - 3s 1ms/step - loss: 0.0127\n",
            "Epoch 46/50\n",
            "1759/1759 [==============================] - 3s 1ms/step - loss: 0.0126\n",
            "Epoch 47/50\n",
            "1759/1759 [==============================] - 3s 1ms/step - loss: 0.0127\n",
            "Epoch 48/50\n",
            "1759/1759 [==============================] - 3s 1ms/step - loss: 0.0126\n",
            "Epoch 49/50\n",
            "1759/1759 [==============================] - 3s 1ms/step - loss: 0.0126\n",
            "Epoch 50/50\n",
            "1759/1759 [==============================] - 3s 1ms/step - loss: 0.0126\n"
          ],
          "name": "stdout"
        },
        {
          "output_type": "execute_result",
          "data": {
            "text/plain": [
              "<tensorflow.python.keras.callbacks.History at 0x7f97beba5690>"
            ]
          },
          "metadata": {
            "tags": []
          },
          "execution_count": 30
        }
      ]
    },
    {
      "cell_type": "code",
      "metadata": {
        "colab": {
          "base_uri": "https://localhost:8080/"
        },
        "id": "N2WKc2z1ahEa",
        "outputId": "d1b6a02d-8655-4d0b-d8bb-ce147c98d2ce"
      },
      "source": [
        "predict_30m = model_30m.predict(X_standard_test)\n",
        "\n",
        "mse = mean_squared_error(predict_30m, y_test_30m)\n",
        "print('MSE  : ', mse)\n",
        "print('RMSE : ', np.sqrt(mse))"
      ],
      "execution_count": null,
      "outputs": [
        {
          "output_type": "stream",
          "text": [
            "MSE  :  0.01430601254168109\n",
            "RMSE :  0.11960774448872903\n"
          ],
          "name": "stdout"
        }
      ]
    },
    {
      "cell_type": "markdown",
      "metadata": {
        "id": "lP-t3333b_iD"
      },
      "source": [
        "### 30대 여성"
      ]
    },
    {
      "cell_type": "code",
      "metadata": {
        "colab": {
          "base_uri": "https://localhost:8080/"
        },
        "id": "6x8SSG_dcOS0",
        "outputId": "25b3ff17-0af9-4de0-95e4-ef5fdf3d0efb"
      },
      "source": [
        "model_30f = keras.Sequential([\n",
        "              keras.layers.Dense(64, activation='relu', input_shape=[135]),\n",
        "              keras.layers.Dense(64, activation='relu'),\n",
        "              keras.layers.Dense(1)\n",
        "])\n",
        "\n",
        "model_30f.compile(loss='mse', optimizer='adam')\n",
        "\n",
        "model_30f.fit(X_standard_train, y_train_30f, epochs=50)"
      ],
      "execution_count": null,
      "outputs": [
        {
          "output_type": "stream",
          "text": [
            "Epoch 1/50\n",
            "1759/1759 [==============================] - 3s 1ms/step - loss: 0.0270\n",
            "Epoch 2/50\n",
            "1759/1759 [==============================] - 3s 1ms/step - loss: 0.0163\n",
            "Epoch 3/50\n",
            "1759/1759 [==============================] - 3s 1ms/step - loss: 0.0126\n",
            "Epoch 4/50\n",
            "1759/1759 [==============================] - 3s 1ms/step - loss: 0.0125\n",
            "Epoch 5/50\n",
            "1759/1759 [==============================] - 3s 1ms/step - loss: 0.0120\n",
            "Epoch 6/50\n",
            "1759/1759 [==============================] - 3s 1ms/step - loss: 0.0118\n",
            "Epoch 7/50\n",
            "1759/1759 [==============================] - 3s 1ms/step - loss: 0.0117\n",
            "Epoch 8/50\n",
            "1759/1759 [==============================] - 3s 1ms/step - loss: 0.0117\n",
            "Epoch 9/50\n",
            "1759/1759 [==============================] - 3s 1ms/step - loss: 0.0116\n",
            "Epoch 10/50\n",
            "1759/1759 [==============================] - 3s 1ms/step - loss: 0.0116\n",
            "Epoch 11/50\n",
            "1759/1759 [==============================] - 3s 1ms/step - loss: 0.0116\n",
            "Epoch 12/50\n",
            "1759/1759 [==============================] - 3s 1ms/step - loss: 0.0116\n",
            "Epoch 13/50\n",
            "1759/1759 [==============================] - 3s 1ms/step - loss: 0.0115\n",
            "Epoch 14/50\n",
            "1759/1759 [==============================] - 3s 1ms/step - loss: 0.0115\n",
            "Epoch 15/50\n",
            "1759/1759 [==============================] - 3s 1ms/step - loss: 0.0115\n",
            "Epoch 16/50\n",
            "1759/1759 [==============================] - 3s 1ms/step - loss: 0.0115\n",
            "Epoch 17/50\n",
            "1759/1759 [==============================] - 3s 1ms/step - loss: 0.0115\n",
            "Epoch 18/50\n",
            "1759/1759 [==============================] - 3s 1ms/step - loss: 0.0115\n",
            "Epoch 19/50\n",
            "1759/1759 [==============================] - 3s 1ms/step - loss: 0.0114\n",
            "Epoch 20/50\n",
            "1759/1759 [==============================] - 3s 1ms/step - loss: 0.0114\n",
            "Epoch 21/50\n",
            "1759/1759 [==============================] - 3s 1ms/step - loss: 0.0114\n",
            "Epoch 22/50\n",
            "1759/1759 [==============================] - 3s 1ms/step - loss: 0.0114\n",
            "Epoch 23/50\n",
            "1759/1759 [==============================] - 3s 1ms/step - loss: 0.0114\n",
            "Epoch 24/50\n",
            "1759/1759 [==============================] - 3s 1ms/step - loss: 0.0114\n",
            "Epoch 25/50\n",
            "1759/1759 [==============================] - 3s 1ms/step - loss: 0.0114\n",
            "Epoch 26/50\n",
            "1759/1759 [==============================] - 3s 1ms/step - loss: 0.0114\n",
            "Epoch 27/50\n",
            "1759/1759 [==============================] - 3s 1ms/step - loss: 0.0113\n",
            "Epoch 28/50\n",
            "1759/1759 [==============================] - 3s 1ms/step - loss: 0.0113\n",
            "Epoch 29/50\n",
            "1759/1759 [==============================] - 3s 1ms/step - loss: 0.0113\n",
            "Epoch 30/50\n",
            "1759/1759 [==============================] - 3s 1ms/step - loss: 0.0113\n",
            "Epoch 31/50\n",
            "1759/1759 [==============================] - 3s 1ms/step - loss: 0.0113\n",
            "Epoch 32/50\n",
            "1759/1759 [==============================] - 3s 1ms/step - loss: 0.0113\n",
            "Epoch 33/50\n",
            "1759/1759 [==============================] - 3s 1ms/step - loss: 0.0113\n",
            "Epoch 34/50\n",
            "1759/1759 [==============================] - 3s 1ms/step - loss: 0.0112\n",
            "Epoch 35/50\n",
            "1759/1759 [==============================] - 3s 1ms/step - loss: 0.0113\n",
            "Epoch 36/50\n",
            "1759/1759 [==============================] - 3s 1ms/step - loss: 0.0112\n",
            "Epoch 37/50\n",
            "1759/1759 [==============================] - 3s 1ms/step - loss: 0.0112\n",
            "Epoch 38/50\n",
            "1759/1759 [==============================] - 3s 1ms/step - loss: 0.0112\n",
            "Epoch 39/50\n",
            "1759/1759 [==============================] - 3s 1ms/step - loss: 0.0112\n",
            "Epoch 40/50\n",
            "1759/1759 [==============================] - 3s 1ms/step - loss: 0.0112\n",
            "Epoch 41/50\n",
            "1759/1759 [==============================] - 3s 1ms/step - loss: 0.0112\n",
            "Epoch 42/50\n",
            "1759/1759 [==============================] - 3s 1ms/step - loss: 0.0111\n",
            "Epoch 43/50\n",
            "1759/1759 [==============================] - 3s 1ms/step - loss: 0.0111\n",
            "Epoch 44/50\n",
            "1759/1759 [==============================] - 3s 1ms/step - loss: 0.0111\n",
            "Epoch 45/50\n",
            "1759/1759 [==============================] - 3s 1ms/step - loss: 0.0111\n",
            "Epoch 46/50\n",
            "1759/1759 [==============================] - 3s 1ms/step - loss: 0.0111\n",
            "Epoch 47/50\n",
            "1759/1759 [==============================] - 3s 1ms/step - loss: 0.0111\n",
            "Epoch 48/50\n",
            "1759/1759 [==============================] - 3s 1ms/step - loss: 0.0110\n",
            "Epoch 49/50\n",
            "1759/1759 [==============================] - 3s 1ms/step - loss: 0.0110\n",
            "Epoch 50/50\n",
            "1759/1759 [==============================] - 3s 1ms/step - loss: 0.0110\n"
          ],
          "name": "stdout"
        },
        {
          "output_type": "execute_result",
          "data": {
            "text/plain": [
              "<tensorflow.python.keras.callbacks.History at 0x7f97bcf9a210>"
            ]
          },
          "metadata": {
            "tags": []
          },
          "execution_count": 39
        }
      ]
    },
    {
      "cell_type": "code",
      "metadata": {
        "id": "uizk-mmScOhL"
      },
      "source": [
        "predict_30f = model_30f.predict(X_standard_test)\n",
        "\n",
        "mse = mean_squared_error(predict_30f, y_test_30f)\n",
        "print('MSE  : ', mse)\n",
        "print('RMSE : ', np.sqrt(mse))"
      ],
      "execution_count": null,
      "outputs": []
    },
    {
      "cell_type": "markdown",
      "metadata": {
        "id": "rhLD6PBicBle"
      },
      "source": [
        "### 40대 남성"
      ]
    },
    {
      "cell_type": "code",
      "metadata": {
        "colab": {
          "base_uri": "https://localhost:8080/"
        },
        "id": "XlgBqeLiconY",
        "outputId": "a2f0f53d-92d1-46dd-e6d7-82d8db82c058"
      },
      "source": [
        "model_40m = keras.Sequential([\n",
        "              keras.layers.Dense(64, activation='relu', input_shape=[135]),\n",
        "              keras.layers.Dense(64, activation='relu'),\n",
        "              keras.layers.Dense(1)\n",
        "])\n",
        "\n",
        "model_40m.compile(loss='mse', optimizer='adam')\n",
        "\n",
        "model_40m.fit(X_standard_train, y_train_40m, epochs=50)"
      ],
      "execution_count": null,
      "outputs": [
        {
          "output_type": "stream",
          "text": [
            "Epoch 1/50\n",
            "1759/1759 [==============================] - 3s 1ms/step - loss: 0.0258\n",
            "Epoch 2/50\n",
            "1759/1759 [==============================] - 2s 1ms/step - loss: 0.0172\n",
            "Epoch 3/50\n",
            "1759/1759 [==============================] - 3s 1ms/step - loss: 0.0161\n",
            "Epoch 4/50\n",
            "1759/1759 [==============================] - 3s 1ms/step - loss: 0.0156\n",
            "Epoch 5/50\n",
            "1759/1759 [==============================] - 3s 1ms/step - loss: 0.0153\n",
            "Epoch 6/50\n",
            "1759/1759 [==============================] - 3s 1ms/step - loss: 0.0152\n",
            "Epoch 7/50\n",
            "1759/1759 [==============================] - 3s 1ms/step - loss: 0.0152\n",
            "Epoch 8/50\n",
            "1759/1759 [==============================] - 2s 1ms/step - loss: 0.0152\n",
            "Epoch 9/50\n",
            "1759/1759 [==============================] - 3s 1ms/step - loss: 0.0152\n",
            "Epoch 10/50\n",
            "1759/1759 [==============================] - 3s 1ms/step - loss: 0.0151\n",
            "Epoch 11/50\n",
            "1759/1759 [==============================] - 3s 1ms/step - loss: 0.0151\n",
            "Epoch 12/50\n",
            "1759/1759 [==============================] - 3s 1ms/step - loss: 0.0151\n",
            "Epoch 13/50\n",
            "1759/1759 [==============================] - 3s 1ms/step - loss: 0.0151\n",
            "Epoch 14/50\n",
            "1759/1759 [==============================] - 3s 1ms/step - loss: 0.0150\n",
            "Epoch 15/50\n",
            "1759/1759 [==============================] - 3s 1ms/step - loss: 0.0150\n",
            "Epoch 16/50\n",
            "1759/1759 [==============================] - 3s 1ms/step - loss: 0.0150\n",
            "Epoch 17/50\n",
            "1759/1759 [==============================] - 3s 1ms/step - loss: 0.0149\n",
            "Epoch 18/50\n",
            "1759/1759 [==============================] - 3s 1ms/step - loss: 0.0149\n",
            "Epoch 19/50\n",
            "1759/1759 [==============================] - 3s 1ms/step - loss: 0.0149\n",
            "Epoch 20/50\n",
            "1759/1759 [==============================] - 3s 1ms/step - loss: 0.0149\n",
            "Epoch 21/50\n",
            "1759/1759 [==============================] - 3s 1ms/step - loss: 0.0149\n",
            "Epoch 22/50\n",
            "1759/1759 [==============================] - 3s 1ms/step - loss: 0.0148\n",
            "Epoch 23/50\n",
            "1759/1759 [==============================] - 3s 2ms/step - loss: 0.0148\n",
            "Epoch 24/50\n",
            "1759/1759 [==============================] - 3s 1ms/step - loss: 0.0148\n",
            "Epoch 25/50\n",
            "1759/1759 [==============================] - 3s 1ms/step - loss: 0.0148\n",
            "Epoch 26/50\n",
            "1759/1759 [==============================] - 3s 1ms/step - loss: 0.0147\n",
            "Epoch 27/50\n",
            "1759/1759 [==============================] - 3s 1ms/step - loss: 0.0147\n",
            "Epoch 28/50\n",
            "1759/1759 [==============================] - 3s 1ms/step - loss: 0.0147\n",
            "Epoch 29/50\n",
            "1759/1759 [==============================] - 3s 1ms/step - loss: 0.0147\n",
            "Epoch 30/50\n",
            "1759/1759 [==============================] - 3s 1ms/step - loss: 0.0146\n",
            "Epoch 31/50\n",
            "1759/1759 [==============================] - 3s 1ms/step - loss: 0.0146\n",
            "Epoch 32/50\n",
            "1759/1759 [==============================] - 3s 1ms/step - loss: 0.0145\n",
            "Epoch 33/50\n",
            "1759/1759 [==============================] - 3s 1ms/step - loss: 0.0146\n",
            "Epoch 34/50\n",
            "1759/1759 [==============================] - 3s 1ms/step - loss: 0.0145\n",
            "Epoch 35/50\n",
            "1759/1759 [==============================] - 3s 1ms/step - loss: 0.0145\n",
            "Epoch 36/50\n",
            "1759/1759 [==============================] - 3s 1ms/step - loss: 0.0144\n",
            "Epoch 37/50\n",
            "1759/1759 [==============================] - 3s 1ms/step - loss: 0.0144\n",
            "Epoch 38/50\n",
            "1759/1759 [==============================] - 3s 1ms/step - loss: 0.0144\n",
            "Epoch 39/50\n",
            "1759/1759 [==============================] - 3s 1ms/step - loss: 0.0144\n",
            "Epoch 40/50\n",
            "1759/1759 [==============================] - 3s 1ms/step - loss: 0.0143\n",
            "Epoch 41/50\n",
            "1759/1759 [==============================] - 3s 1ms/step - loss: 0.0143\n",
            "Epoch 42/50\n",
            "1759/1759 [==============================] - 3s 1ms/step - loss: 0.0143\n",
            "Epoch 43/50\n",
            "1759/1759 [==============================] - 3s 1ms/step - loss: 0.0142\n",
            "Epoch 44/50\n",
            "1759/1759 [==============================] - 3s 1ms/step - loss: 0.0142\n",
            "Epoch 45/50\n",
            "1759/1759 [==============================] - 3s 1ms/step - loss: 0.0142\n",
            "Epoch 46/50\n",
            "1759/1759 [==============================] - 3s 1ms/step - loss: 0.0142\n",
            "Epoch 47/50\n",
            "1759/1759 [==============================] - 3s 1ms/step - loss: 0.0142\n",
            "Epoch 48/50\n",
            "1759/1759 [==============================] - 3s 1ms/step - loss: 0.0141\n",
            "Epoch 49/50\n",
            "1759/1759 [==============================] - 3s 2ms/step - loss: 0.0140\n",
            "Epoch 50/50\n",
            "1759/1759 [==============================] - 3s 2ms/step - loss: 0.0140\n"
          ],
          "name": "stdout"
        },
        {
          "output_type": "execute_result",
          "data": {
            "text/plain": [
              "<tensorflow.python.keras.callbacks.History at 0x7f97bc6b9bd0>"
            ]
          },
          "metadata": {
            "tags": []
          },
          "execution_count": 40
        }
      ]
    },
    {
      "cell_type": "code",
      "metadata": {
        "colab": {
          "base_uri": "https://localhost:8080/"
        },
        "id": "IQW0Vj9XconZ",
        "outputId": "84785354-fd0a-4a6e-958a-0ff91d9a5510"
      },
      "source": [
        "predict_40m = model_40m.predict(X_standard_test)\n",
        "\n",
        "mse = mean_squared_error(predict_40m, y_test_40m)\n",
        "print('MSE  : ', mse)\n",
        "print('RMSE : ', np.sqrt(mse))"
      ],
      "execution_count": null,
      "outputs": [
        {
          "output_type": "stream",
          "text": [
            "MSE  :  0.01652334224939087\n",
            "RMSE :  0.12854315325753787\n"
          ],
          "name": "stdout"
        }
      ]
    },
    {
      "cell_type": "markdown",
      "metadata": {
        "id": "dk-lhHxXcBtm"
      },
      "source": [
        "### 40대 여성"
      ]
    },
    {
      "cell_type": "code",
      "metadata": {
        "colab": {
          "base_uri": "https://localhost:8080/"
        },
        "id": "mGe1UZMicYUU",
        "outputId": "2119b664-aa97-45cb-d780-a55e929473b2"
      },
      "source": [
        "model_40f = keras.Sequential([\n",
        "              keras.layers.Dense(64, activation='relu', input_shape=[135]),\n",
        "              keras.layers.Dense(64, activation='relu'),\n",
        "              keras.layers.Dense(1)\n",
        "])\n",
        "\n",
        "model_40f.compile(loss='mse', optimizer='adam')\n",
        "\n",
        "model_40f.fit(X_standard_train, y_train_40f, epochs=50)"
      ],
      "execution_count": null,
      "outputs": [
        {
          "output_type": "stream",
          "text": [
            "Epoch 1/50\n",
            "1759/1759 [==============================] - 3s 1ms/step - loss: 0.0260\n",
            "Epoch 2/50\n",
            "1759/1759 [==============================] - 3s 1ms/step - loss: 0.0146\n",
            "Epoch 3/50\n",
            "1759/1759 [==============================] - 3s 2ms/step - loss: 0.0133\n",
            "Epoch 4/50\n",
            "1759/1759 [==============================] - 3s 1ms/step - loss: 0.0126\n",
            "Epoch 5/50\n",
            "1759/1759 [==============================] - 3s 1ms/step - loss: 0.0122\n",
            "Epoch 6/50\n",
            "1759/1759 [==============================] - 3s 1ms/step - loss: 0.0120\n",
            "Epoch 7/50\n",
            "1759/1759 [==============================] - 3s 1ms/step - loss: 0.0119\n",
            "Epoch 8/50\n",
            "1759/1759 [==============================] - 3s 1ms/step - loss: 0.0119\n",
            "Epoch 9/50\n",
            "1759/1759 [==============================] - 3s 1ms/step - loss: 0.0118\n",
            "Epoch 10/50\n",
            "1759/1759 [==============================] - 3s 1ms/step - loss: 0.0118\n",
            "Epoch 11/50\n",
            "1759/1759 [==============================] - 3s 1ms/step - loss: 0.0118\n",
            "Epoch 12/50\n",
            "1759/1759 [==============================] - 3s 1ms/step - loss: 0.0118\n",
            "Epoch 13/50\n",
            "1759/1759 [==============================] - 3s 1ms/step - loss: 0.0118\n",
            "Epoch 14/50\n",
            "1759/1759 [==============================] - 3s 1ms/step - loss: 0.0117\n",
            "Epoch 15/50\n",
            "1759/1759 [==============================] - 3s 1ms/step - loss: 0.0117\n",
            "Epoch 16/50\n",
            "1759/1759 [==============================] - 3s 1ms/step - loss: 0.0117\n",
            "Epoch 17/50\n",
            "1759/1759 [==============================] - 3s 1ms/step - loss: 0.0117\n",
            "Epoch 18/50\n",
            "1759/1759 [==============================] - 3s 1ms/step - loss: 0.0117\n",
            "Epoch 19/50\n",
            "1759/1759 [==============================] - 3s 1ms/step - loss: 0.0116\n",
            "Epoch 20/50\n",
            "1759/1759 [==============================] - 3s 1ms/step - loss: 0.0116\n",
            "Epoch 21/50\n",
            "1759/1759 [==============================] - 2s 1ms/step - loss: 0.0116\n",
            "Epoch 22/50\n",
            "1759/1759 [==============================] - 3s 1ms/step - loss: 0.0116\n",
            "Epoch 23/50\n",
            "1759/1759 [==============================] - 3s 1ms/step - loss: 0.0116\n",
            "Epoch 24/50\n",
            "1759/1759 [==============================] - 3s 2ms/step - loss: 0.0116\n",
            "Epoch 25/50\n",
            "1759/1759 [==============================] - 3s 2ms/step - loss: 0.0116\n",
            "Epoch 26/50\n",
            "1759/1759 [==============================] - 3s 1ms/step - loss: 0.0115\n",
            "Epoch 27/50\n",
            "1759/1759 [==============================] - 3s 1ms/step - loss: 0.0115\n",
            "Epoch 28/50\n",
            "1759/1759 [==============================] - 3s 1ms/step - loss: 0.0115\n",
            "Epoch 29/50\n",
            "1759/1759 [==============================] - 3s 1ms/step - loss: 0.0115\n",
            "Epoch 30/50\n",
            "1759/1759 [==============================] - 3s 1ms/step - loss: 0.0115\n",
            "Epoch 31/50\n",
            "1759/1759 [==============================] - 3s 1ms/step - loss: 0.0115\n",
            "Epoch 32/50\n",
            "1759/1759 [==============================] - 3s 1ms/step - loss: 0.0114\n",
            "Epoch 33/50\n",
            "1759/1759 [==============================] - 3s 1ms/step - loss: 0.0114\n",
            "Epoch 34/50\n",
            "1759/1759 [==============================] - 3s 1ms/step - loss: 0.0114\n",
            "Epoch 35/50\n",
            "1759/1759 [==============================] - 3s 1ms/step - loss: 0.0114\n",
            "Epoch 36/50\n",
            "1759/1759 [==============================] - 3s 1ms/step - loss: 0.0114\n",
            "Epoch 37/50\n",
            "1759/1759 [==============================] - 3s 1ms/step - loss: 0.0113\n",
            "Epoch 38/50\n",
            "1759/1759 [==============================] - 3s 1ms/step - loss: 0.0113\n",
            "Epoch 39/50\n",
            "1759/1759 [==============================] - 3s 1ms/step - loss: 0.0113\n",
            "Epoch 40/50\n",
            "1759/1759 [==============================] - 3s 1ms/step - loss: 0.0113\n",
            "Epoch 41/50\n",
            "1759/1759 [==============================] - 3s 1ms/step - loss: 0.0113\n",
            "Epoch 42/50\n",
            "1759/1759 [==============================] - 3s 1ms/step - loss: 0.0112\n",
            "Epoch 43/50\n",
            "1759/1759 [==============================] - 3s 1ms/step - loss: 0.0112\n",
            "Epoch 44/50\n",
            "1759/1759 [==============================] - 3s 1ms/step - loss: 0.0112\n",
            "Epoch 45/50\n",
            "1759/1759 [==============================] - 3s 1ms/step - loss: 0.0111\n",
            "Epoch 46/50\n",
            "1759/1759 [==============================] - 3s 1ms/step - loss: 0.0112\n",
            "Epoch 47/50\n",
            "1759/1759 [==============================] - 3s 1ms/step - loss: 0.0111\n",
            "Epoch 48/50\n",
            "1759/1759 [==============================] - 3s 1ms/step - loss: 0.0111\n",
            "Epoch 49/50\n",
            "1759/1759 [==============================] - 3s 1ms/step - loss: 0.0111\n",
            "Epoch 50/50\n",
            "1759/1759 [==============================] - 3s 1ms/step - loss: 0.0111\n"
          ],
          "name": "stdout"
        },
        {
          "output_type": "execute_result",
          "data": {
            "text/plain": [
              "<tensorflow.python.keras.callbacks.History at 0x7f97bad0bb90>"
            ]
          },
          "metadata": {
            "tags": []
          },
          "execution_count": 42
        }
      ]
    },
    {
      "cell_type": "code",
      "metadata": {
        "colab": {
          "base_uri": "https://localhost:8080/"
        },
        "id": "__gLMuABcYUV",
        "outputId": "cf7fdeb8-3169-45e8-d849-0c6a7c769c76"
      },
      "source": [
        "predict_40f = model_40f.predict(X_standard_test)\n",
        "\n",
        "mse = mean_squared_error(predict_40f, y_test_40f)\n",
        "print('MSE  : ', mse)\n",
        "print('RMSE : ', np.sqrt(mse))"
      ],
      "execution_count": null,
      "outputs": [
        {
          "output_type": "stream",
          "text": [
            "MSE  :  0.012202516138275207\n",
            "RMSE :  0.11046499960745579\n"
          ],
          "name": "stdout"
        }
      ]
    },
    {
      "cell_type": "markdown",
      "metadata": {
        "id": "Y-dLBx3HcLB3"
      },
      "source": [
        "### 50대 남성"
      ]
    },
    {
      "cell_type": "code",
      "metadata": {
        "colab": {
          "base_uri": "https://localhost:8080/"
        },
        "id": "v6AQTJDPcwjW",
        "outputId": "047ff691-a89f-4b0b-fc60-998442ded131"
      },
      "source": [
        "model_50m = keras.Sequential([\n",
        "              keras.layers.Dense(64, activation='relu', input_shape=[135]),\n",
        "              keras.layers.Dense(64, activation='relu'),\n",
        "              keras.layers.Dense(1)\n",
        "])\n",
        "\n",
        "model_50m.compile(loss='mse', optimizer='adam')\n",
        "\n",
        "model_50m.fit(X_standard_train, y_train_50m, epochs=50)"
      ],
      "execution_count": null,
      "outputs": [
        {
          "output_type": "stream",
          "text": [
            "Epoch 1/50\n",
            "1759/1759 [==============================] - 3s 1ms/step - loss: 0.0269\n",
            "Epoch 2/50\n",
            "1759/1759 [==============================] - 3s 1ms/step - loss: 0.0168\n",
            "Epoch 3/50\n",
            "1759/1759 [==============================] - 3s 1ms/step - loss: 0.0166\n",
            "Epoch 4/50\n",
            "1759/1759 [==============================] - 3s 1ms/step - loss: 0.0158\n",
            "Epoch 5/50\n",
            "1759/1759 [==============================] - 3s 1ms/step - loss: 0.0155\n",
            "Epoch 6/50\n",
            "1759/1759 [==============================] - 3s 1ms/step - loss: 0.0154\n",
            "Epoch 7/50\n",
            "1759/1759 [==============================] - 3s 1ms/step - loss: 0.0154\n",
            "Epoch 8/50\n",
            "1759/1759 [==============================] - 3s 1ms/step - loss: 0.0154\n",
            "Epoch 9/50\n",
            "1759/1759 [==============================] - 3s 1ms/step - loss: 0.0153\n",
            "Epoch 10/50\n",
            "1759/1759 [==============================] - 3s 1ms/step - loss: 0.0153\n",
            "Epoch 11/50\n",
            "1759/1759 [==============================] - 3s 1ms/step - loss: 0.0153\n",
            "Epoch 12/50\n",
            "1759/1759 [==============================] - 3s 1ms/step - loss: 0.0152\n",
            "Epoch 13/50\n",
            "1759/1759 [==============================] - 3s 1ms/step - loss: 0.0152\n",
            "Epoch 14/50\n",
            "1759/1759 [==============================] - 3s 1ms/step - loss: 0.0152\n",
            "Epoch 15/50\n",
            "1759/1759 [==============================] - 3s 1ms/step - loss: 0.0152\n",
            "Epoch 16/50\n",
            "1759/1759 [==============================] - 3s 1ms/step - loss: 0.0152\n",
            "Epoch 17/50\n",
            "1759/1759 [==============================] - 3s 1ms/step - loss: 0.0151\n",
            "Epoch 18/50\n",
            "1759/1759 [==============================] - 3s 1ms/step - loss: 0.0151\n",
            "Epoch 19/50\n",
            "1759/1759 [==============================] - 3s 1ms/step - loss: 0.0151\n",
            "Epoch 20/50\n",
            "1759/1759 [==============================] - 3s 1ms/step - loss: 0.0151\n",
            "Epoch 21/50\n",
            "1759/1759 [==============================] - 3s 1ms/step - loss: 0.0150\n",
            "Epoch 22/50\n",
            "1759/1759 [==============================] - 3s 1ms/step - loss: 0.0150\n",
            "Epoch 23/50\n",
            "1759/1759 [==============================] - 3s 1ms/step - loss: 0.0150\n",
            "Epoch 24/50\n",
            "1759/1759 [==============================] - 3s 1ms/step - loss: 0.0150\n",
            "Epoch 25/50\n",
            "1759/1759 [==============================] - 3s 1ms/step - loss: 0.0149\n",
            "Epoch 26/50\n",
            "1759/1759 [==============================] - 3s 1ms/step - loss: 0.0149\n",
            "Epoch 27/50\n",
            "1759/1759 [==============================] - 3s 1ms/step - loss: 0.0149\n",
            "Epoch 28/50\n",
            "1759/1759 [==============================] - 3s 1ms/step - loss: 0.0149\n",
            "Epoch 29/50\n",
            "1759/1759 [==============================] - 3s 1ms/step - loss: 0.0149\n",
            "Epoch 30/50\n",
            "1759/1759 [==============================] - 3s 2ms/step - loss: 0.0148\n",
            "Epoch 31/50\n",
            "1759/1759 [==============================] - 3s 1ms/step - loss: 0.0148\n",
            "Epoch 32/50\n",
            "1759/1759 [==============================] - 3s 1ms/step - loss: 0.0148\n",
            "Epoch 33/50\n",
            "1759/1759 [==============================] - 3s 1ms/step - loss: 0.0148\n",
            "Epoch 34/50\n",
            "1759/1759 [==============================] - 3s 1ms/step - loss: 0.0147\n",
            "Epoch 35/50\n",
            "1759/1759 [==============================] - 3s 1ms/step - loss: 0.0147\n",
            "Epoch 36/50\n",
            "1759/1759 [==============================] - 3s 1ms/step - loss: 0.0147\n",
            "Epoch 37/50\n",
            "1759/1759 [==============================] - 3s 2ms/step - loss: 0.0147\n",
            "Epoch 38/50\n",
            "1759/1759 [==============================] - 3s 1ms/step - loss: 0.0146\n",
            "Epoch 39/50\n",
            "1759/1759 [==============================] - 3s 2ms/step - loss: 0.0146\n",
            "Epoch 40/50\n",
            "1759/1759 [==============================] - 3s 2ms/step - loss: 0.0146\n",
            "Epoch 41/50\n",
            "1759/1759 [==============================] - 3s 2ms/step - loss: 0.0146\n",
            "Epoch 42/50\n",
            "1759/1759 [==============================] - 3s 1ms/step - loss: 0.0145\n",
            "Epoch 43/50\n",
            "1759/1759 [==============================] - 3s 2ms/step - loss: 0.0145\n",
            "Epoch 44/50\n",
            "1759/1759 [==============================] - 3s 1ms/step - loss: 0.0145\n",
            "Epoch 45/50\n",
            "1759/1759 [==============================] - 3s 1ms/step - loss: 0.0145\n",
            "Epoch 46/50\n",
            "1759/1759 [==============================] - 3s 1ms/step - loss: 0.0144\n",
            "Epoch 47/50\n",
            "1759/1759 [==============================] - 3s 2ms/step - loss: 0.0144\n",
            "Epoch 48/50\n",
            "1759/1759 [==============================] - 3s 2ms/step - loss: 0.0144\n",
            "Epoch 49/50\n",
            "1759/1759 [==============================] - 3s 2ms/step - loss: 0.0144\n",
            "Epoch 50/50\n",
            "1759/1759 [==============================] - 3s 2ms/step - loss: 0.0143\n"
          ],
          "name": "stdout"
        },
        {
          "output_type": "execute_result",
          "data": {
            "text/plain": [
              "<tensorflow.python.keras.callbacks.History at 0x7f97b9bb87d0>"
            ]
          },
          "metadata": {
            "tags": []
          },
          "execution_count": 44
        }
      ]
    },
    {
      "cell_type": "code",
      "metadata": {
        "colab": {
          "base_uri": "https://localhost:8080/"
        },
        "id": "26QZZ1QGcwjX",
        "outputId": "6705722d-6678-4ea8-944f-b8fbfdf5aa56"
      },
      "source": [
        "predict_50m = model_50m.predict(X_standard_test)\n",
        "\n",
        "mse = mean_squared_error(predict_50m, y_test_50m)\n",
        "print('MSE  : ', mse)\n",
        "print('RMSE : ', np.sqrt(mse))"
      ],
      "execution_count": null,
      "outputs": [
        {
          "output_type": "stream",
          "text": [
            "MSE  :  0.016594997759193732\n",
            "RMSE :  0.12882157334543673\n"
          ],
          "name": "stdout"
        }
      ]
    },
    {
      "cell_type": "markdown",
      "metadata": {
        "id": "b777mmxGcMZO"
      },
      "source": [
        "### 50대 여성"
      ]
    },
    {
      "cell_type": "code",
      "metadata": {
        "colab": {
          "base_uri": "https://localhost:8080/"
        },
        "id": "dG2ochrZcd8C",
        "outputId": "dcf92dd0-8105-46c3-d582-ab1c4c7ac0f7"
      },
      "source": [
        "model_50f = keras.Sequential([\n",
        "              keras.layers.Dense(64, activation='relu', input_shape=[135]),\n",
        "              keras.layers.Dense(64, activation='relu'),\n",
        "              keras.layers.Dense(1)\n",
        "])\n",
        "\n",
        "model_50f.compile(loss='mse', optimizer='adam')\n",
        "\n",
        "model_50f.fit(X_standard_train, y_train_50f, epochs=50)"
      ],
      "execution_count": null,
      "outputs": [
        {
          "output_type": "stream",
          "text": [
            "Epoch 1/50\n",
            "1759/1759 [==============================] - 3s 1ms/step - loss: 0.0198\n",
            "Epoch 2/50\n",
            "1759/1759 [==============================] - 3s 2ms/step - loss: 0.0112\n",
            "Epoch 3/50\n",
            "1759/1759 [==============================] - 3s 2ms/step - loss: 0.0107\n",
            "Epoch 4/50\n",
            "1759/1759 [==============================] - 3s 2ms/step - loss: 0.0101\n",
            "Epoch 5/50\n",
            "1759/1759 [==============================] - 3s 2ms/step - loss: 0.0099\n",
            "Epoch 6/50\n",
            "1759/1759 [==============================] - 3s 2ms/step - loss: 0.0098\n",
            "Epoch 7/50\n",
            "1759/1759 [==============================] - 3s 2ms/step - loss: 0.0098\n",
            "Epoch 8/50\n",
            "1759/1759 [==============================] - 3s 2ms/step - loss: 0.0098\n",
            "Epoch 9/50\n",
            "1759/1759 [==============================] - 3s 2ms/step - loss: 0.0098\n",
            "Epoch 10/50\n",
            "1759/1759 [==============================] - 3s 1ms/step - loss: 0.0097\n",
            "Epoch 11/50\n",
            "1759/1759 [==============================] - 3s 2ms/step - loss: 0.0097\n",
            "Epoch 12/50\n",
            "1759/1759 [==============================] - 3s 1ms/step - loss: 0.0097\n",
            "Epoch 13/50\n",
            "1759/1759 [==============================] - 3s 2ms/step - loss: 0.0097\n",
            "Epoch 14/50\n",
            "1759/1759 [==============================] - 3s 1ms/step - loss: 0.0097\n",
            "Epoch 15/50\n",
            "1759/1759 [==============================] - 3s 2ms/step - loss: 0.0097\n",
            "Epoch 16/50\n",
            "1759/1759 [==============================] - 3s 2ms/step - loss: 0.0097\n",
            "Epoch 17/50\n",
            "1759/1759 [==============================] - 3s 2ms/step - loss: 0.0097\n",
            "Epoch 18/50\n",
            "1759/1759 [==============================] - 3s 2ms/step - loss: 0.0096\n",
            "Epoch 19/50\n",
            "1759/1759 [==============================] - 3s 2ms/step - loss: 0.0096\n",
            "Epoch 20/50\n",
            "1759/1759 [==============================] - 3s 2ms/step - loss: 0.0096\n",
            "Epoch 21/50\n",
            "1759/1759 [==============================] - 3s 1ms/step - loss: 0.0096\n",
            "Epoch 22/50\n",
            "1759/1759 [==============================] - 3s 2ms/step - loss: 0.0096\n",
            "Epoch 23/50\n",
            "1759/1759 [==============================] - 3s 1ms/step - loss: 0.0096\n",
            "Epoch 24/50\n",
            "1759/1759 [==============================] - 3s 1ms/step - loss: 0.0096\n",
            "Epoch 25/50\n",
            "1759/1759 [==============================] - 3s 1ms/step - loss: 0.0096\n",
            "Epoch 26/50\n",
            "1759/1759 [==============================] - 3s 1ms/step - loss: 0.0096\n",
            "Epoch 27/50\n",
            "1759/1759 [==============================] - 3s 1ms/step - loss: 0.0095\n",
            "Epoch 28/50\n",
            "1759/1759 [==============================] - 3s 1ms/step - loss: 0.0095\n",
            "Epoch 29/50\n",
            "1759/1759 [==============================] - 3s 1ms/step - loss: 0.0095\n",
            "Epoch 30/50\n",
            "1759/1759 [==============================] - 3s 1ms/step - loss: 0.0095\n",
            "Epoch 31/50\n",
            "1759/1759 [==============================] - 3s 1ms/step - loss: 0.0095\n",
            "Epoch 32/50\n",
            "1759/1759 [==============================] - 3s 2ms/step - loss: 0.0095\n",
            "Epoch 33/50\n",
            "1759/1759 [==============================] - 3s 1ms/step - loss: 0.0094\n",
            "Epoch 34/50\n",
            "1759/1759 [==============================] - 3s 2ms/step - loss: 0.0094\n",
            "Epoch 35/50\n",
            "1759/1759 [==============================] - 3s 1ms/step - loss: 0.0094\n",
            "Epoch 36/50\n",
            "1759/1759 [==============================] - 3s 2ms/step - loss: 0.0094\n",
            "Epoch 37/50\n",
            "1759/1759 [==============================] - 3s 1ms/step - loss: 0.0094\n",
            "Epoch 38/50\n",
            "1759/1759 [==============================] - 3s 1ms/step - loss: 0.0094\n",
            "Epoch 39/50\n",
            "1759/1759 [==============================] - 3s 1ms/step - loss: 0.0094\n",
            "Epoch 40/50\n",
            "1759/1759 [==============================] - 3s 2ms/step - loss: 0.0093\n",
            "Epoch 41/50\n",
            "1759/1759 [==============================] - 3s 2ms/step - loss: 0.0093\n",
            "Epoch 42/50\n",
            "1759/1759 [==============================] - 3s 2ms/step - loss: 0.0093\n",
            "Epoch 43/50\n",
            "1759/1759 [==============================] - 3s 1ms/step - loss: 0.0093\n",
            "Epoch 44/50\n",
            "1759/1759 [==============================] - 3s 1ms/step - loss: 0.0093\n",
            "Epoch 45/50\n",
            "1759/1759 [==============================] - 3s 1ms/step - loss: 0.0093\n",
            "Epoch 46/50\n",
            "1759/1759 [==============================] - 3s 1ms/step - loss: 0.0092\n",
            "Epoch 47/50\n",
            "1759/1759 [==============================] - 3s 1ms/step - loss: 0.0092\n",
            "Epoch 48/50\n",
            "1759/1759 [==============================] - 3s 2ms/step - loss: 0.0092\n",
            "Epoch 49/50\n",
            "1759/1759 [==============================] - 3s 2ms/step - loss: 0.0092\n",
            "Epoch 50/50\n",
            "1759/1759 [==============================] - 3s 1ms/step - loss: 0.0091\n"
          ],
          "name": "stdout"
        },
        {
          "output_type": "execute_result",
          "data": {
            "text/plain": [
              "<tensorflow.python.keras.callbacks.History at 0x7f97b92fb090>"
            ]
          },
          "metadata": {
            "tags": []
          },
          "execution_count": 46
        }
      ]
    },
    {
      "cell_type": "code",
      "metadata": {
        "id": "3qYV7ERHcd8C"
      },
      "source": [
        "predict_50f = model_50f.predict(X_standard_test)\n",
        "\n",
        "mse = mean_squared_error(predict_50f, y_test_50f)\n",
        "print('MSE  : ', mse)\n",
        "print('RMSE : ', np.sqrt(mse))"
      ],
      "execution_count": null,
      "outputs": []
    },
    {
      "cell_type": "markdown",
      "metadata": {
        "id": "jaIPduX9cB2l"
      },
      "source": [
        "### 60대 남성"
      ]
    },
    {
      "cell_type": "code",
      "metadata": {
        "id": "WqQ6jBORc1BQ"
      },
      "source": [
        "model_60m = keras.Sequential([\n",
        "              keras.layers.Dense(64, activation='relu', input_shape=[135]),\n",
        "              keras.layers.Dense(64, activation='relu'),\n",
        "              keras.layers.Dense(1)\n",
        "])\n",
        "\n",
        "model_60m.compile(loss='mse', optimizer='adam')\n",
        "\n",
        "model_60m.fit(X_standard_train, y_train_60m, epochs=50)"
      ],
      "execution_count": null,
      "outputs": []
    },
    {
      "cell_type": "code",
      "metadata": {
        "colab": {
          "base_uri": "https://localhost:8080/"
        },
        "id": "jQ0N5TTnc1BQ",
        "outputId": "c84df5d4-1794-4e84-8137-d932db64b731"
      },
      "source": [
        "predict_60m = model_60m.predict(X_standard_test)\n",
        "\n",
        "mse = mean_squared_error(predict_60m, y_test_60m)\n",
        "print('MSE  : ', mse)\n",
        "print('RMSE : ', np.sqrt(mse))"
      ],
      "execution_count": null,
      "outputs": [
        {
          "output_type": "stream",
          "text": [
            "MSE  :  0.018332190368792904\n",
            "RMSE :  0.13539641933519847\n"
          ],
          "name": "stdout"
        }
      ]
    },
    {
      "cell_type": "markdown",
      "metadata": {
        "id": "znHgRW4bcB_x"
      },
      "source": [
        "### 60대 여성"
      ]
    },
    {
      "cell_type": "code",
      "metadata": {
        "id": "mIl0jsefciqp"
      },
      "source": [
        "model_60f = keras.Sequential([\n",
        "              keras.layers.Dense(64, activation='relu', input_shape=[135]),\n",
        "              keras.layers.Dense(64, activation='relu'),\n",
        "              keras.layers.Dense(1)\n",
        "])\n",
        "\n",
        "model_60f.compile(loss='mse', optimizer='adam')\n",
        "\n",
        "model_60f.fit(X_standard_train, y_train_60f, epochs=50)"
      ],
      "execution_count": null,
      "outputs": []
    },
    {
      "cell_type": "code",
      "metadata": {
        "colab": {
          "base_uri": "https://localhost:8080/"
        },
        "id": "QMvlDeDqciqp",
        "outputId": "3eb204cb-2d48-4def-e00b-3948487bf3b9"
      },
      "source": [
        "predict_60f = model_60f.predict(X_standard_test)\n",
        "\n",
        "mse = mean_squared_error(predict_60f, y_test_60f)\n",
        "print('MSE  : ', mse)\n",
        "print('RMSE : ', np.sqrt(mse))"
      ],
      "execution_count": null,
      "outputs": [
        {
          "output_type": "stream",
          "text": [
            "MSE  :  0.011774609684571046\n",
            "RMSE :  0.10851087357758689\n"
          ],
          "name": "stdout"
        }
      ]
    },
    {
      "cell_type": "markdown",
      "metadata": {
        "id": "iPFHuAKvprkF"
      },
      "source": [
        "RMSE 0.9 ~ 0.135 정도"
      ]
    },
    {
      "cell_type": "markdown",
      "metadata": {
        "id": "xjdK_Jk9Yy4z"
      },
      "source": [
        "# 선호도 점수 분류 예측"
      ]
    },
    {
      "cell_type": "code",
      "metadata": {
        "id": "B8EygW8yY4Cq"
      },
      "source": [
        "# 연령 성별별로 0 ~ 9의 정수를 주고 가장 선호도 점수가 높은 클래스를 뽑아 y 값으로 만들기  \n",
        "def y_argmax(df):\n",
        "    target = df.loc[:,'20대 남성 선호도 점수':'60대 여성 선호도 점수'].values.argmax(axis=1)\n",
        "    return target\n",
        "\n",
        "y_train_prefer = y_argmax(y_train)\n",
        "y_test_prefer = y_argmax(y_test)"
      ],
      "execution_count": null,
      "outputs": []
    },
    {
      "cell_type": "code",
      "metadata": {
        "colab": {
          "base_uri": "https://localhost:8080/"
        },
        "id": "LKXPKrtSalIH",
        "outputId": "59acddc5-d31f-41b3-805b-0448ba5d0d92"
      },
      "source": [
        "y_train_prefer"
      ],
      "execution_count": null,
      "outputs": [
        {
          "output_type": "execute_result",
          "data": {
            "text/plain": [
              "array([9, 9, 5, ..., 9, 1, 9])"
            ]
          },
          "metadata": {
            "tags": []
          },
          "execution_count": 32
        }
      ]
    },
    {
      "cell_type": "code",
      "metadata": {
        "colab": {
          "base_uri": "https://localhost:8080/"
        },
        "id": "N_hd9-OUbOqA",
        "outputId": "deb77a81-c918-4354-bf66-04e3ba3f8f81"
      },
      "source": [
        "# 60대가 좀 많다..\n",
        "np.unique(y_train_prefer, return_counts=True)"
      ],
      "execution_count": null,
      "outputs": [
        {
          "output_type": "execute_result",
          "data": {
            "text/plain": [
              "(array([0, 1, 2, 3, 4, 5, 6, 7, 8, 9]),\n",
              " array([6819, 5728, 5282, 3090, 4893, 2673, 6708, 4327, 9699, 7049]))"
            ]
          },
          "metadata": {
            "tags": []
          },
          "execution_count": 34
        }
      ]
    },
    {
      "cell_type": "code",
      "metadata": {
        "colab": {
          "base_uri": "https://localhost:8080/"
        },
        "id": "oknxmIIQbmTO",
        "outputId": "f86d76b3-f447-4ff6-8691-5c45fe0ceaf5"
      },
      "source": [
        "np.unique(y_test_prefer, return_counts=True)"
      ],
      "execution_count": null,
      "outputs": [
        {
          "output_type": "execute_result",
          "data": {
            "text/plain": [
              "(array([0, 1, 2, 3, 4, 5, 6, 7, 8, 9]),\n",
              " array([2932, 2512, 2230, 1369, 2148, 1157, 2919, 1770, 4041, 3038]))"
            ]
          },
          "metadata": {
            "tags": []
          },
          "execution_count": 35
        }
      ]
    },
    {
      "cell_type": "markdown",
      "metadata": {
        "id": "4me8mGhmU0hX"
      },
      "source": [
        "### standard _ adam"
      ]
    },
    {
      "cell_type": "code",
      "metadata": {
        "id": "26A_LYGpUz_d"
      },
      "source": [
        "model_prefer_class = keras.Sequential([\n",
        "                     keras.layers.Dense(64, activation='relu', input_shape=[135]),\n",
        "                     keras.layers.Dense(64, activation='relu'),\n",
        "                     keras.layers.Dense(10, activation='softmax')\n",
        "])\n",
        "model_prefer_class.compile(loss='sparse_categorical_crossentropy', \n",
        "                           optimizer='adam', metrics='accuracy')"
      ],
      "execution_count": null,
      "outputs": []
    },
    {
      "cell_type": "code",
      "metadata": {
        "id": "nFfB86ElU9nu",
        "colab": {
          "base_uri": "https://localhost:8080/"
        },
        "outputId": "76be37be-cbe0-4859-ed23-68cc6bb8e438"
      },
      "source": [
        "model_prefer_class.fit(X_standard_train, y_train_prefer, epochs=100)"
      ],
      "execution_count": null,
      "outputs": [
        {
          "output_type": "stream",
          "text": [
            "Epoch 1/100\n",
            "1759/1759 [==============================] - 3s 2ms/step - loss: 1.8666 - accuracy: 0.3159\n",
            "Epoch 2/100\n",
            "1759/1759 [==============================] - 3s 2ms/step - loss: 1.7927 - accuracy: 0.3366\n",
            "Epoch 3/100\n",
            "1759/1759 [==============================] - 3s 2ms/step - loss: 1.7806 - accuracy: 0.3389\n",
            "Epoch 4/100\n",
            "1759/1759 [==============================] - 3s 2ms/step - loss: 1.7731 - accuracy: 0.3424\n",
            "Epoch 5/100\n",
            "1759/1759 [==============================] - 3s 2ms/step - loss: 1.7675 - accuracy: 0.3433\n",
            "Epoch 6/100\n",
            "1759/1759 [==============================] - 3s 2ms/step - loss: 1.7633 - accuracy: 0.3465\n",
            "Epoch 7/100\n",
            "1759/1759 [==============================] - 3s 2ms/step - loss: 1.7594 - accuracy: 0.3474\n",
            "Epoch 8/100\n",
            "1759/1759 [==============================] - 3s 2ms/step - loss: 1.7552 - accuracy: 0.3480\n",
            "Epoch 9/100\n",
            "1759/1759 [==============================] - 3s 2ms/step - loss: 1.7518 - accuracy: 0.3472\n",
            "Epoch 10/100\n",
            "1759/1759 [==============================] - 3s 2ms/step - loss: 1.7493 - accuracy: 0.3496\n",
            "Epoch 11/100\n",
            "1759/1759 [==============================] - 3s 2ms/step - loss: 1.7457 - accuracy: 0.3521\n",
            "Epoch 12/100\n",
            "1759/1759 [==============================] - 3s 2ms/step - loss: 1.7430 - accuracy: 0.3520\n",
            "Epoch 13/100\n",
            "1759/1759 [==============================] - 3s 2ms/step - loss: 1.7411 - accuracy: 0.3522\n",
            "Epoch 14/100\n",
            "1759/1759 [==============================] - 3s 2ms/step - loss: 1.7386 - accuracy: 0.3525\n",
            "Epoch 15/100\n",
            "1759/1759 [==============================] - 3s 2ms/step - loss: 1.7352 - accuracy: 0.3522\n",
            "Epoch 16/100\n",
            "1759/1759 [==============================] - 3s 2ms/step - loss: 1.7326 - accuracy: 0.3531\n",
            "Epoch 17/100\n",
            "1759/1759 [==============================] - 3s 2ms/step - loss: 1.7310 - accuracy: 0.3548\n",
            "Epoch 18/100\n",
            "1759/1759 [==============================] - 3s 2ms/step - loss: 1.7282 - accuracy: 0.3552\n",
            "Epoch 19/100\n",
            "1759/1759 [==============================] - 3s 2ms/step - loss: 1.7263 - accuracy: 0.3560\n",
            "Epoch 20/100\n",
            "1759/1759 [==============================] - 3s 2ms/step - loss: 1.7242 - accuracy: 0.3578\n",
            "Epoch 21/100\n",
            "1759/1759 [==============================] - 3s 2ms/step - loss: 1.7222 - accuracy: 0.3581\n",
            "Epoch 22/100\n",
            "1759/1759 [==============================] - 3s 2ms/step - loss: 1.7190 - accuracy: 0.3590\n",
            "Epoch 23/100\n",
            "1759/1759 [==============================] - 3s 2ms/step - loss: 1.7175 - accuracy: 0.3582\n",
            "Epoch 24/100\n",
            "1759/1759 [==============================] - 3s 2ms/step - loss: 1.7159 - accuracy: 0.3594\n",
            "Epoch 25/100\n",
            "1759/1759 [==============================] - 3s 2ms/step - loss: 1.7135 - accuracy: 0.3619\n",
            "Epoch 26/100\n",
            "1759/1759 [==============================] - 3s 2ms/step - loss: 1.7117 - accuracy: 0.3613\n",
            "Epoch 27/100\n",
            "1759/1759 [==============================] - 3s 2ms/step - loss: 1.7102 - accuracy: 0.3623\n",
            "Epoch 28/100\n",
            "1759/1759 [==============================] - 3s 2ms/step - loss: 1.7085 - accuracy: 0.3621\n",
            "Epoch 29/100\n",
            "1759/1759 [==============================] - 3s 2ms/step - loss: 1.7066 - accuracy: 0.3638\n",
            "Epoch 30/100\n",
            "1759/1759 [==============================] - 3s 2ms/step - loss: 1.7046 - accuracy: 0.3639\n",
            "Epoch 31/100\n",
            "1759/1759 [==============================] - 3s 2ms/step - loss: 1.7024 - accuracy: 0.3630\n",
            "Epoch 32/100\n",
            "1759/1759 [==============================] - 3s 2ms/step - loss: 1.6996 - accuracy: 0.3645\n",
            "Epoch 33/100\n",
            "1759/1759 [==============================] - 3s 2ms/step - loss: 1.6989 - accuracy: 0.3665\n",
            "Epoch 34/100\n",
            "1759/1759 [==============================] - 3s 2ms/step - loss: 1.6970 - accuracy: 0.3649\n",
            "Epoch 35/100\n",
            "1759/1759 [==============================] - 3s 2ms/step - loss: 1.6949 - accuracy: 0.3652\n",
            "Epoch 36/100\n",
            "1759/1759 [==============================] - 3s 2ms/step - loss: 1.6936 - accuracy: 0.3662\n",
            "Epoch 37/100\n",
            "1759/1759 [==============================] - 3s 2ms/step - loss: 1.6925 - accuracy: 0.3678\n",
            "Epoch 38/100\n",
            "1759/1759 [==============================] - 3s 2ms/step - loss: 1.6900 - accuracy: 0.3689\n",
            "Epoch 39/100\n",
            "1759/1759 [==============================] - 3s 2ms/step - loss: 1.6880 - accuracy: 0.3688\n",
            "Epoch 40/100\n",
            "1759/1759 [==============================] - 3s 2ms/step - loss: 1.6873 - accuracy: 0.3681\n",
            "Epoch 41/100\n",
            "1759/1759 [==============================] - 3s 2ms/step - loss: 1.6866 - accuracy: 0.3701\n",
            "Epoch 42/100\n",
            "1759/1759 [==============================] - 3s 2ms/step - loss: 1.6843 - accuracy: 0.3716\n",
            "Epoch 43/100\n",
            "1759/1759 [==============================] - 3s 2ms/step - loss: 1.6823 - accuracy: 0.3700\n",
            "Epoch 44/100\n",
            "1759/1759 [==============================] - 3s 2ms/step - loss: 1.6817 - accuracy: 0.3720\n",
            "Epoch 45/100\n",
            "1759/1759 [==============================] - 3s 2ms/step - loss: 1.6808 - accuracy: 0.3713\n",
            "Epoch 46/100\n",
            "1759/1759 [==============================] - 3s 2ms/step - loss: 1.6793 - accuracy: 0.3715\n",
            "Epoch 47/100\n",
            "1759/1759 [==============================] - 3s 2ms/step - loss: 1.6775 - accuracy: 0.3720\n",
            "Epoch 48/100\n",
            "1759/1759 [==============================] - 3s 2ms/step - loss: 1.6773 - accuracy: 0.3733\n",
            "Epoch 49/100\n",
            "1759/1759 [==============================] - 3s 2ms/step - loss: 1.6750 - accuracy: 0.3711\n",
            "Epoch 50/100\n",
            "1759/1759 [==============================] - 3s 2ms/step - loss: 1.6744 - accuracy: 0.3739\n",
            "Epoch 51/100\n",
            "1759/1759 [==============================] - 3s 2ms/step - loss: 1.6727 - accuracy: 0.3742\n",
            "Epoch 52/100\n",
            "1759/1759 [==============================] - 3s 2ms/step - loss: 1.6718 - accuracy: 0.3746\n",
            "Epoch 53/100\n",
            "1759/1759 [==============================] - 3s 2ms/step - loss: 1.6705 - accuracy: 0.3762\n",
            "Epoch 54/100\n",
            "1759/1759 [==============================] - 3s 2ms/step - loss: 1.6699 - accuracy: 0.3745\n",
            "Epoch 55/100\n",
            "1759/1759 [==============================] - 3s 2ms/step - loss: 1.6684 - accuracy: 0.3766\n",
            "Epoch 56/100\n",
            "1759/1759 [==============================] - 3s 2ms/step - loss: 1.6678 - accuracy: 0.3757\n",
            "Epoch 57/100\n",
            "1759/1759 [==============================] - 3s 2ms/step - loss: 1.6670 - accuracy: 0.3770\n",
            "Epoch 58/100\n",
            "1759/1759 [==============================] - 3s 2ms/step - loss: 1.6656 - accuracy: 0.3759\n",
            "Epoch 59/100\n",
            "1759/1759 [==============================] - 3s 2ms/step - loss: 1.6634 - accuracy: 0.3771\n",
            "Epoch 60/100\n",
            "1759/1759 [==============================] - 3s 2ms/step - loss: 1.6638 - accuracy: 0.3757\n",
            "Epoch 61/100\n",
            "1759/1759 [==============================] - 3s 2ms/step - loss: 1.6620 - accuracy: 0.3754\n",
            "Epoch 62/100\n",
            "1759/1759 [==============================] - 3s 2ms/step - loss: 1.6619 - accuracy: 0.3785\n",
            "Epoch 63/100\n",
            "1759/1759 [==============================] - 3s 2ms/step - loss: 1.6612 - accuracy: 0.3780\n",
            "Epoch 64/100\n",
            "1759/1759 [==============================] - 3s 2ms/step - loss: 1.6602 - accuracy: 0.3780\n",
            "Epoch 65/100\n",
            "1759/1759 [==============================] - 3s 2ms/step - loss: 1.6593 - accuracy: 0.3771\n",
            "Epoch 66/100\n",
            "1759/1759 [==============================] - 3s 2ms/step - loss: 1.6592 - accuracy: 0.3783\n",
            "Epoch 67/100\n",
            "1759/1759 [==============================] - 3s 2ms/step - loss: 1.6580 - accuracy: 0.3804\n",
            "Epoch 68/100\n",
            "1759/1759 [==============================] - 3s 2ms/step - loss: 1.6573 - accuracy: 0.3786\n",
            "Epoch 69/100\n",
            "1759/1759 [==============================] - 3s 2ms/step - loss: 1.6555 - accuracy: 0.3793\n",
            "Epoch 70/100\n",
            "1759/1759 [==============================] - 3s 2ms/step - loss: 1.6550 - accuracy: 0.3801\n",
            "Epoch 71/100\n",
            "1759/1759 [==============================] - 3s 2ms/step - loss: 1.6543 - accuracy: 0.3801\n",
            "Epoch 72/100\n",
            "1759/1759 [==============================] - 3s 2ms/step - loss: 1.6537 - accuracy: 0.3817\n",
            "Epoch 73/100\n",
            "1759/1759 [==============================] - 3s 2ms/step - loss: 1.6533 - accuracy: 0.3799\n",
            "Epoch 74/100\n",
            "1759/1759 [==============================] - 3s 2ms/step - loss: 1.6523 - accuracy: 0.3801\n",
            "Epoch 75/100\n",
            "1759/1759 [==============================] - 3s 2ms/step - loss: 1.6510 - accuracy: 0.3811\n",
            "Epoch 76/100\n",
            "1759/1759 [==============================] - 3s 2ms/step - loss: 1.6493 - accuracy: 0.3838\n",
            "Epoch 77/100\n",
            "1759/1759 [==============================] - 3s 2ms/step - loss: 1.6501 - accuracy: 0.3811\n",
            "Epoch 78/100\n",
            "1759/1759 [==============================] - 3s 2ms/step - loss: 1.6497 - accuracy: 0.3814\n",
            "Epoch 79/100\n",
            "1759/1759 [==============================] - 3s 2ms/step - loss: 1.6487 - accuracy: 0.3826\n",
            "Epoch 80/100\n",
            "1759/1759 [==============================] - 3s 2ms/step - loss: 1.6483 - accuracy: 0.3819\n",
            "Epoch 81/100\n",
            "1759/1759 [==============================] - 3s 2ms/step - loss: 1.6481 - accuracy: 0.3834\n",
            "Epoch 82/100\n",
            "1759/1759 [==============================] - 3s 2ms/step - loss: 1.6458 - accuracy: 0.3836\n",
            "Epoch 83/100\n",
            "1759/1759 [==============================] - 3s 2ms/step - loss: 1.6463 - accuracy: 0.3821\n",
            "Epoch 84/100\n",
            "1759/1759 [==============================] - 3s 2ms/step - loss: 1.6459 - accuracy: 0.3830\n",
            "Epoch 85/100\n",
            "1759/1759 [==============================] - 3s 2ms/step - loss: 1.6453 - accuracy: 0.3843\n",
            "Epoch 86/100\n",
            "1759/1759 [==============================] - 3s 2ms/step - loss: 1.6452 - accuracy: 0.3840\n",
            "Epoch 87/100\n",
            "1759/1759 [==============================] - 3s 2ms/step - loss: 1.6446 - accuracy: 0.3860\n",
            "Epoch 88/100\n",
            "1759/1759 [==============================] - 3s 2ms/step - loss: 1.6425 - accuracy: 0.3854\n",
            "Epoch 89/100\n",
            "1759/1759 [==============================] - 3s 2ms/step - loss: 1.6429 - accuracy: 0.3841\n",
            "Epoch 90/100\n",
            "1759/1759 [==============================] - 3s 2ms/step - loss: 1.6424 - accuracy: 0.3824\n",
            "Epoch 91/100\n",
            "1759/1759 [==============================] - 3s 2ms/step - loss: 1.6415 - accuracy: 0.3860\n",
            "Epoch 92/100\n",
            "1759/1759 [==============================] - 3s 2ms/step - loss: 1.6411 - accuracy: 0.3854\n",
            "Epoch 93/100\n",
            "1759/1759 [==============================] - 3s 2ms/step - loss: 1.6397 - accuracy: 0.3863\n",
            "Epoch 94/100\n",
            "1759/1759 [==============================] - 3s 2ms/step - loss: 1.6400 - accuracy: 0.3868\n",
            "Epoch 95/100\n",
            "1759/1759 [==============================] - 3s 2ms/step - loss: 1.6397 - accuracy: 0.3872\n",
            "Epoch 96/100\n",
            "1759/1759 [==============================] - 3s 2ms/step - loss: 1.6389 - accuracy: 0.3846\n",
            "Epoch 97/100\n",
            "1759/1759 [==============================] - 3s 2ms/step - loss: 1.6387 - accuracy: 0.3859\n",
            "Epoch 98/100\n",
            "1759/1759 [==============================] - 3s 2ms/step - loss: 1.6378 - accuracy: 0.3849\n",
            "Epoch 99/100\n",
            "1759/1759 [==============================] - 3s 2ms/step - loss: 1.6379 - accuracy: 0.3850\n",
            "Epoch 100/100\n",
            "1759/1759 [==============================] - 3s 2ms/step - loss: 1.6368 - accuracy: 0.3865\n"
          ],
          "name": "stdout"
        },
        {
          "output_type": "execute_result",
          "data": {
            "text/plain": [
              "<tensorflow.python.keras.callbacks.History at 0x7f97be2ee810>"
            ]
          },
          "metadata": {
            "tags": []
          },
          "execution_count": 37
        }
      ]
    },
    {
      "cell_type": "code",
      "metadata": {
        "id": "QYH6_-LYVG3p",
        "colab": {
          "base_uri": "https://localhost:8080/"
        },
        "outputId": "70d9a569-41e0-4cf3-fcd7-38b27fb0bf01"
      },
      "source": [
        "print(\"\\n 테스트 정확도: %.4f\" % (model_prefer_class.evaluate(X_standard_test, y_test_prefer)[1]))"
      ],
      "execution_count": null,
      "outputs": [
        {
          "output_type": "stream",
          "text": [
            "754/754 [==============================] - 1s 1ms/step - loss: 1.8898 - accuracy: 0.3179\n",
            "\n",
            " 테스트 정확도: 0.3179\n"
          ],
          "name": "stdout"
        }
      ]
    }
  ]
}
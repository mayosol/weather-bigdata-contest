{
  "nbformat": 4,
  "nbformat_minor": 0,
  "metadata": {
    "colab": {
      "name": "lstm.ipynb",
      "provenance": [],
      "collapsed_sections": [],
      "authorship_tag": "ABX9TyNE9kq3q0zDJbjkxDdAlItm",
      "include_colab_link": true
    },
    "kernelspec": {
      "name": "python3",
      "display_name": "Python 3"
    },
    "language_info": {
      "name": "python"
    }
  },
  "cells": [
    {
      "cell_type": "markdown",
      "metadata": {
        "id": "view-in-github",
        "colab_type": "text"
      },
      "source": [
        "<a href=\"https://colab.research.google.com/github/mike3071/Weather_Big_Data_Contest/blob/main/lstm.ipynb\" target=\"_parent\"><img src=\"https://colab.research.google.com/assets/colab-badge.svg\" alt=\"Open In Colab\"/></a>"
      ]
    },
    {
      "cell_type": "markdown",
      "metadata": {
        "id": "A0_OU0ScB4VG"
      },
      "source": [
        "load data\n",
        "\n"
      ]
    },
    {
      "cell_type": "code",
      "metadata": {
        "id": "dzwG_ocVxfry"
      },
      "source": [
        "import pandas as pd\n",
        "import numpy as np\n",
        "from datetime import datetime\n",
        "from sklearn.preprocessing import MinMaxScaler\n",
        "from sklearn.model_selection import train_test_split\n",
        "from sklearn.metrics import mean_squared_error\n",
        "from keras.models import Sequential\n",
        "from keras.layers import Dense, Dropout\n",
        "from keras.callbacks import EarlyStopping, ModelCheckpoint\n",
        "from keras.layers import LSTM"
      ],
      "execution_count": null,
      "outputs": []
    },
    {
      "cell_type": "code",
      "metadata": {
        "colab": {
          "base_uri": "https://localhost:8080/"
        },
        "id": "FblggJSuE2OH",
        "outputId": "0cf31ff1-6e68-44cd-bd66-d68cc21e9d3f"
      },
      "source": [
        "from google.colab import drive\n",
        "drive.mount('/content/drive')"
      ],
      "execution_count": null,
      "outputs": [
        {
          "output_type": "stream",
          "text": [
            "Mounted at /content/drive\n"
          ],
          "name": "stdout"
        }
      ]
    },
    {
      "cell_type": "code",
      "metadata": {
        "id": "gyZfq4ycxjU-"
      },
      "source": [
        "data= pd.read_csv('/content/drive/MyDrive/weather_ML/sale_weather_data_simple.csv',encoding='cp949',index_col=0,parse_dates=['날짜'],infer_datetime_format=True)"
      ],
      "execution_count": null,
      "outputs": []
    },
    {
      "cell_type": "markdown",
      "metadata": {
        "id": "sn1naEVkZ-1Q"
      },
      "source": [
        "## 1) **판매량** 예측"
      ]
    },
    {
      "cell_type": "code",
      "metadata": {
        "id": "wSubdkzr_0Tm"
      },
      "source": [
        "orange = data[data['소분류_감귤/한라봉/오렌지']==1].loc[:,['일별 판매 합계량(개)','평균기온(°C)','최저기온(°C)','최고기온(°C)','최소 상대습도(%)','평균 상대습도(%)','O3','PM10','일별 물품 선호도 점수']]"
      ],
      "execution_count": null,
      "outputs": []
    },
    {
      "cell_type": "code",
      "metadata": {
        "colab": {
          "base_uri": "https://localhost:8080/",
          "height": 450
        },
        "id": "dY_1zvXFQ2qg",
        "outputId": "5029e9a6-fa7a-4a27-e1a7-95301b5b6bf1"
      },
      "source": [
        "orange"
      ],
      "execution_count": null,
      "outputs": [
        {
          "output_type": "execute_result",
          "data": {
            "text/html": [
              "<div>\n",
              "<style scoped>\n",
              "    .dataframe tbody tr th:only-of-type {\n",
              "        vertical-align: middle;\n",
              "    }\n",
              "\n",
              "    .dataframe tbody tr th {\n",
              "        vertical-align: top;\n",
              "    }\n",
              "\n",
              "    .dataframe thead th {\n",
              "        text-align: right;\n",
              "    }\n",
              "</style>\n",
              "<table border=\"1\" class=\"dataframe\">\n",
              "  <thead>\n",
              "    <tr style=\"text-align: right;\">\n",
              "      <th></th>\n",
              "      <th>일별 판매 합계량(개)</th>\n",
              "      <th>평균기온(°C)</th>\n",
              "      <th>최저기온(°C)</th>\n",
              "      <th>최고기온(°C)</th>\n",
              "      <th>최소 상대습도(%)</th>\n",
              "      <th>평균 상대습도(%)</th>\n",
              "      <th>O3</th>\n",
              "      <th>PM10</th>\n",
              "      <th>일별 물품 선호도 점수</th>\n",
              "    </tr>\n",
              "    <tr>\n",
              "      <th>날짜</th>\n",
              "      <th></th>\n",
              "      <th></th>\n",
              "      <th></th>\n",
              "      <th></th>\n",
              "      <th></th>\n",
              "      <th></th>\n",
              "      <th></th>\n",
              "      <th></th>\n",
              "      <th></th>\n",
              "    </tr>\n",
              "  </thead>\n",
              "  <tbody>\n",
              "    <tr>\n",
              "      <th>2018-01-01</th>\n",
              "      <td>885.0</td>\n",
              "      <td>0.066157</td>\n",
              "      <td>-3.463993</td>\n",
              "      <td>4.734708</td>\n",
              "      <td>20.763179</td>\n",
              "      <td>41.267581</td>\n",
              "      <td>0.015544</td>\n",
              "      <td>44.032069</td>\n",
              "      <td>0.000230</td>\n",
              "    </tr>\n",
              "    <tr>\n",
              "      <th>2018-01-02</th>\n",
              "      <td>1021.0</td>\n",
              "      <td>-0.000201</td>\n",
              "      <td>-3.617037</td>\n",
              "      <td>4.293367</td>\n",
              "      <td>25.960511</td>\n",
              "      <td>47.229263</td>\n",
              "      <td>0.013179</td>\n",
              "      <td>53.742579</td>\n",
              "      <td>0.000265</td>\n",
              "    </tr>\n",
              "    <tr>\n",
              "      <th>2018-01-03</th>\n",
              "      <td>1009.0</td>\n",
              "      <td>-2.328937</td>\n",
              "      <td>-4.948951</td>\n",
              "      <td>1.733667</td>\n",
              "      <td>27.184564</td>\n",
              "      <td>39.916465</td>\n",
              "      <td>0.017566</td>\n",
              "      <td>34.601134</td>\n",
              "      <td>0.000273</td>\n",
              "    </tr>\n",
              "    <tr>\n",
              "      <th>2018-01-04</th>\n",
              "      <td>880.0</td>\n",
              "      <td>-2.419582</td>\n",
              "      <td>-6.149132</td>\n",
              "      <td>1.320985</td>\n",
              "      <td>31.627278</td>\n",
              "      <td>44.077518</td>\n",
              "      <td>0.011983</td>\n",
              "      <td>42.672343</td>\n",
              "      <td>0.000217</td>\n",
              "    </tr>\n",
              "    <tr>\n",
              "      <th>2018-01-05</th>\n",
              "      <td>1080.0</td>\n",
              "      <td>-0.734189</td>\n",
              "      <td>-3.487800</td>\n",
              "      <td>3.788739</td>\n",
              "      <td>30.797391</td>\n",
              "      <td>50.195533</td>\n",
              "      <td>0.011894</td>\n",
              "      <td>51.988526</td>\n",
              "      <td>0.000297</td>\n",
              "    </tr>\n",
              "    <tr>\n",
              "      <th>...</th>\n",
              "      <td>...</td>\n",
              "      <td>...</td>\n",
              "      <td>...</td>\n",
              "      <td>...</td>\n",
              "      <td>...</td>\n",
              "      <td>...</td>\n",
              "      <td>...</td>\n",
              "      <td>...</td>\n",
              "      <td>...</td>\n",
              "    </tr>\n",
              "    <tr>\n",
              "      <th>2019-12-27</th>\n",
              "      <td>1308.0</td>\n",
              "      <td>0.153622</td>\n",
              "      <td>-2.747884</td>\n",
              "      <td>4.400667</td>\n",
              "      <td>26.304864</td>\n",
              "      <td>46.790601</td>\n",
              "      <td>0.021372</td>\n",
              "      <td>30.705457</td>\n",
              "      <td>0.000365</td>\n",
              "    </tr>\n",
              "    <tr>\n",
              "      <th>2019-12-28</th>\n",
              "      <td>1543.0</td>\n",
              "      <td>1.883491</td>\n",
              "      <td>-2.744505</td>\n",
              "      <td>7.183545</td>\n",
              "      <td>32.721287</td>\n",
              "      <td>48.016264</td>\n",
              "      <td>0.009785</td>\n",
              "      <td>41.573877</td>\n",
              "      <td>0.000446</td>\n",
              "    </tr>\n",
              "    <tr>\n",
              "      <th>2019-12-29</th>\n",
              "      <td>1425.0</td>\n",
              "      <td>3.887676</td>\n",
              "      <td>0.500345</td>\n",
              "      <td>6.753816</td>\n",
              "      <td>40.102005</td>\n",
              "      <td>62.009133</td>\n",
              "      <td>0.007811</td>\n",
              "      <td>45.826732</td>\n",
              "      <td>0.000414</td>\n",
              "    </tr>\n",
              "    <tr>\n",
              "      <th>2019-12-30</th>\n",
              "      <td>1481.0</td>\n",
              "      <td>4.525742</td>\n",
              "      <td>-1.711417</td>\n",
              "      <td>8.951051</td>\n",
              "      <td>48.863871</td>\n",
              "      <td>76.092076</td>\n",
              "      <td>0.013431</td>\n",
              "      <td>33.270096</td>\n",
              "      <td>0.000451</td>\n",
              "    </tr>\n",
              "    <tr>\n",
              "      <th>2019-12-31</th>\n",
              "      <td>1240.0</td>\n",
              "      <td>-5.197603</td>\n",
              "      <td>-8.010086</td>\n",
              "      <td>-1.050035</td>\n",
              "      <td>26.748097</td>\n",
              "      <td>40.298909</td>\n",
              "      <td>0.023901</td>\n",
              "      <td>22.734047</td>\n",
              "      <td>0.000360</td>\n",
              "    </tr>\n",
              "  </tbody>\n",
              "</table>\n",
              "<p>700 rows × 9 columns</p>\n",
              "</div>"
            ],
            "text/plain": [
              "            일별 판매 합계량(개)  평균기온(°C)  최저기온(°C)  ...        O3       PM10  일별 물품 선호도 점수\n",
              "날짜                                            ...                                   \n",
              "2018-01-01         885.0  0.066157 -3.463993  ...  0.015544  44.032069      0.000230\n",
              "2018-01-02        1021.0 -0.000201 -3.617037  ...  0.013179  53.742579      0.000265\n",
              "2018-01-03        1009.0 -2.328937 -4.948951  ...  0.017566  34.601134      0.000273\n",
              "2018-01-04         880.0 -2.419582 -6.149132  ...  0.011983  42.672343      0.000217\n",
              "2018-01-05        1080.0 -0.734189 -3.487800  ...  0.011894  51.988526      0.000297\n",
              "...                  ...       ...       ...  ...       ...        ...           ...\n",
              "2019-12-27        1308.0  0.153622 -2.747884  ...  0.021372  30.705457      0.000365\n",
              "2019-12-28        1543.0  1.883491 -2.744505  ...  0.009785  41.573877      0.000446\n",
              "2019-12-29        1425.0  3.887676  0.500345  ...  0.007811  45.826732      0.000414\n",
              "2019-12-30        1481.0  4.525742 -1.711417  ...  0.013431  33.270096      0.000451\n",
              "2019-12-31        1240.0 -5.197603 -8.010086  ...  0.023901  22.734047      0.000360\n",
              "\n",
              "[700 rows x 9 columns]"
            ]
          },
          "metadata": {
            "tags": []
          },
          "execution_count": 21
        }
      ]
    },
    {
      "cell_type": "code",
      "metadata": {
        "colab": {
          "base_uri": "https://localhost:8080/"
        },
        "id": "6KHtDzwGQ2fg",
        "outputId": "7a7b758b-e3bd-4183-cc90-e5dab9220eb8"
      },
      "source": [
        "orange.info()"
      ],
      "execution_count": null,
      "outputs": [
        {
          "output_type": "stream",
          "text": [
            "<class 'pandas.core.frame.DataFrame'>\n",
            "DatetimeIndex: 700 entries, 2018-01-01 to 2019-12-31\n",
            "Data columns (total 9 columns):\n",
            " #   Column        Non-Null Count  Dtype  \n",
            "---  ------        --------------  -----  \n",
            " 0   일별 판매 합계량(개)  700 non-null    float64\n",
            " 1   평균기온(°C)      700 non-null    float64\n",
            " 2   최저기온(°C)      700 non-null    float64\n",
            " 3   최고기온(°C)      700 non-null    float64\n",
            " 4   최소 상대습도(%)    700 non-null    float64\n",
            " 5   평균 상대습도(%)    700 non-null    float64\n",
            " 6   O3            700 non-null    float64\n",
            " 7   PM10          700 non-null    float64\n",
            " 8   일별 물품 선호도 점수  700 non-null    float64\n",
            "dtypes: float64(9)\n",
            "memory usage: 54.7 KB\n"
          ],
          "name": "stdout"
        }
      ]
    },
    {
      "cell_type": "code",
      "metadata": {
        "colab": {
          "base_uri": "https://localhost:8080/"
        },
        "id": "JQBBRX3WZb1-",
        "outputId": "46590d57-fc72-4841-8949-7301b9dc4d6f"
      },
      "source": [
        "orange.columns"
      ],
      "execution_count": null,
      "outputs": [
        {
          "output_type": "execute_result",
          "data": {
            "text/plain": [
              "Index(['일별 판매 합계량(개)', '평균기온(°C)', '최저기온(°C)', '최고기온(°C)', '최소 상대습도(%)',\n",
              "       '평균 상대습도(%)', 'O3', 'PM10', '일별 물품 선호도 점수'],\n",
              "      dtype='object')"
            ]
          },
          "metadata": {
            "tags": []
          },
          "execution_count": 23
        }
      ]
    },
    {
      "cell_type": "code",
      "metadata": {
        "colab": {
          "base_uri": "https://localhost:8080/"
        },
        "id": "RhzjSxSsXtRZ",
        "outputId": "3ac22628-e026-4f27-fcf8-dbbe1c2d826e"
      },
      "source": [
        "orange.isnull().sum()"
      ],
      "execution_count": null,
      "outputs": [
        {
          "output_type": "execute_result",
          "data": {
            "text/plain": [
              "일별 판매 합계량(개)    0\n",
              "평균기온(°C)        0\n",
              "최저기온(°C)        0\n",
              "최고기온(°C)        0\n",
              "최소 상대습도(%)      0\n",
              "평균 상대습도(%)      0\n",
              "O3              0\n",
              "PM10            0\n",
              "일별 물품 선호도 점수    0\n",
              "dtype: int64"
            ]
          },
          "metadata": {
            "tags": []
          },
          "execution_count": 24
        }
      ]
    },
    {
      "cell_type": "code",
      "metadata": {
        "id": "KSV0301wXtb-"
      },
      "source": [
        "import matplotlib.pyplot as plt"
      ],
      "execution_count": null,
      "outputs": []
    },
    {
      "cell_type": "code",
      "metadata": {
        "colab": {
          "base_uri": "https://localhost:8080/",
          "height": 282
        },
        "id": "Vf_066pcXtk1",
        "outputId": "ccbe28c4-5a43-4cde-fa4e-83b8a2d93a55"
      },
      "source": [
        "plt.matshow(orange.corr(method='spearman'),vmax=1,vmin=-1,cmap='PRGn')\n",
        "plt.colorbar()"
      ],
      "execution_count": null,
      "outputs": [
        {
          "output_type": "execute_result",
          "data": {
            "text/plain": [
              "<matplotlib.colorbar.Colorbar at 0x7efd342857d0>"
            ]
          },
          "metadata": {
            "tags": []
          },
          "execution_count": 10
        },
        {
          "output_type": "display_data",
          "data": {
            "image/png": "[encoded data removed]",
            "text/plain": [
              "<Figure size 288x288 with 2 Axes>"
            ]
          },
          "metadata": {
            "tags": [],
            "needs_background": "light"
          }
        }
      ]
    },
    {
      "cell_type": "markdown",
      "metadata": {
        "id": "XIgrKl9aY1gR"
      },
      "source": [
        "현재 일별 판매량 예측 (전 일별 판매량과 다른 피처들을 가지고)"
      ]
    },
    {
      "cell_type": "code",
      "metadata": {
        "id": "_CbLWVqIXt1H"
      },
      "source": [
        "def series_to_supervised(data, n_in=1, n_out=1, dropnan=True):\n",
        "\tn_vars = 1 if type(data) is list else data.shape[1]\n",
        "\tdff = pd.DataFrame(data)\n",
        "\tcols, names = list(), list()\n",
        "\t# input sequence (t-n, ... t-1)\n",
        "\tfor i in range(n_in, 0, -1):\n",
        "\t\tcols.append(dff.shift(i))\n",
        "\t\tnames += [('var%d(t-%d)' % (j+1, i)) for j in range(n_vars)]\n",
        "\t# forecast sequence (t, t+1, ... t+n)\n",
        "\tfor i in range(0, n_out):\n",
        "\t\tcols.append(dff.shift(-i))\n",
        "\t\tif i == 0:\n",
        "\t\t\tnames += [('var%d(t)' % (j+1)) for j in range(n_vars)]\n",
        "\t\telse:\n",
        "\t\t\tnames += [('var%d(t+%d)' % (j+1, i)) for j in range(n_vars)]\n",
        "\t# put it all together\n",
        "\tagg = pd.concat(cols, axis=1)\n",
        "\tagg.columns = names\n",
        "\t# drop rows with NaN values\n",
        "\tif dropnan:\n",
        "\t\tagg.dropna(inplace=True)\n",
        "\treturn agg"
      ],
      "execution_count": null,
      "outputs": []
    },
    {
      "cell_type": "code",
      "metadata": {
        "id": "1RFn77dQhKdF"
      },
      "source": [
        "values = orange.values"
      ],
      "execution_count": null,
      "outputs": []
    },
    {
      "cell_type": "code",
      "metadata": {
        "id": "HN0kdz0rXuIz"
      },
      "source": [
        "scaler = MinMaxScaler(feature_range=(0,1))\n",
        "scaled = scaler.fit_transform(values)"
      ],
      "execution_count": null,
      "outputs": []
    },
    {
      "cell_type": "code",
      "metadata": {
        "id": "MkBkCuPSXuRc"
      },
      "source": [
        "reframed = series_to_supervised(scaled,1,1)"
      ],
      "execution_count": null,
      "outputs": []
    },
    {
      "cell_type": "code",
      "metadata": {
        "id": "ueWkEjpTXuZe"
      },
      "source": [
        "reframed.drop(reframed.columns[[10,11,12,13,14,15,16,17]],axis=1, inplace=True)"
      ],
      "execution_count": null,
      "outputs": []
    },
    {
      "cell_type": "code",
      "metadata": {
        "colab": {
          "base_uri": "https://localhost:8080/"
        },
        "id": "FRlfE-zgiyth",
        "outputId": "7bb076bd-4cf0-4b0d-ff1e-7894330690cb"
      },
      "source": [
        "print(reframed.head())"
      ],
      "execution_count": null,
      "outputs": [
        {
          "output_type": "stream",
          "text": [
            "   var1(t-1)  var2(t-1)  var3(t-1)  ...  var8(t-1)  var9(t-1)   var1(t)\n",
            "1   0.199617   0.270008   0.270049  ...   0.250376   0.179099  0.232169\n",
            "2   0.232169   0.268499   0.266542  ...   0.317046   0.208269  0.229296\n",
            "3   0.229296   0.215551   0.236021  ...   0.185626   0.214503  0.198420\n",
            "4   0.198420   0.213490   0.208518  ...   0.241041   0.168286  0.246290\n",
            "5   0.246290   0.251811   0.269503  ...   0.305003   0.234342  0.146003\n",
            "\n",
            "[5 rows x 10 columns]\n"
          ],
          "name": "stdout"
        }
      ]
    },
    {
      "cell_type": "markdown",
      "metadata": {
        "id": "FxrsXtPti3mS"
      },
      "source": [
        "splitting train, test, val set  \n",
        "train: test = 7: 3"
      ]
    },
    {
      "cell_type": "code",
      "metadata": {
        "id": "v99KGRegi9rq"
      },
      "source": [
        "values = reframed.values"
      ],
      "execution_count": null,
      "outputs": []
    },
    {
      "cell_type": "code",
      "metadata": {
        "id": "XLieJM0Ni-J6"
      },
      "source": [
        "n_train_time = 490\n",
        "train = values[:n_train_time,:]\n",
        "test = values[n_train_time:,:]"
      ],
      "execution_count": null,
      "outputs": []
    },
    {
      "cell_type": "code",
      "metadata": {
        "colab": {
          "base_uri": "https://localhost:8080/"
        },
        "id": "5GA3mTK3mQKW",
        "outputId": "15f9cf28-0426-4c6f-b20e-a36e46183c20"
      },
      "source": [
        "train_X, train_y = train[:, :-1], train[:,-1]\n",
        "test_X, test_y = test[:, :-1], test[:, -1]\n",
        "train_X = train_X.reshape((train_X.shape[0], 1, train_X.shape[1]))\n",
        "test_X = test_X.reshape((test_X.shape[0], 1, test_X.shape[1]))\n",
        "print(train_X.shape, train_y.shape, test_X.shape, test_y.shape) "
      ],
      "execution_count": null,
      "outputs": [
        {
          "output_type": "stream",
          "text": [
            "(490, 1, 9) (490,) (209, 1, 9) (209,)\n"
          ],
          "name": "stdout"
        }
      ]
    },
    {
      "cell_type": "code",
      "metadata": {
        "id": "uQHeOsQsmpvD"
      },
      "source": [
        "model = Sequential()\n",
        "model.add(LSTM(100, input_shape=(train_X.shape[1], train_X.shape[2])))\n",
        "model.add(Dropout(0.2))\n",
        "model.add(Dense(1))\n",
        "model.compile(loss = 'mean_squared_error', optimizer='adam')"
      ],
      "execution_count": null,
      "outputs": []
    },
    {
      "cell_type": "code",
      "metadata": {
        "colab": {
          "base_uri": "https://localhost:8080/"
        },
        "id": "P_QymfNHmpsZ",
        "outputId": "4e97dc0c-715a-4eb7-ab7f-52652bd6b721"
      },
      "source": [
        "history = model.fit(train_X, train_y, epochs = 20, batch_size=70, validation_data=(test_X,test_y),verbose=2,shuffle=False)"
      ],
      "execution_count": null,
      "outputs": [
        {
          "output_type": "stream",
          "text": [
            "Epoch 1/20\n",
            "7/7 - 18s - loss: 0.0441 - val_loss: 0.0269\n",
            "Epoch 2/20\n",
            "7/7 - 0s - loss: 0.0282 - val_loss: 0.0203\n",
            "Epoch 3/20\n",
            "7/7 - 0s - loss: 0.0252 - val_loss: 0.0194\n",
            "Epoch 4/20\n",
            "7/7 - 0s - loss: 0.0243 - val_loss: 0.0173\n",
            "Epoch 5/20\n",
            "7/7 - 0s - loss: 0.0217 - val_loss: 0.0151\n",
            "Epoch 6/20\n",
            "7/7 - 0s - loss: 0.0192 - val_loss: 0.0136\n",
            "Epoch 7/20\n",
            "7/7 - 0s - loss: 0.0168 - val_loss: 0.0124\n",
            "Epoch 8/20\n",
            "7/7 - 0s - loss: 0.0152 - val_loss: 0.0111\n",
            "Epoch 9/20\n",
            "7/7 - 0s - loss: 0.0134 - val_loss: 0.0098\n",
            "Epoch 10/20\n",
            "7/7 - 0s - loss: 0.0119 - val_loss: 0.0087\n",
            "Epoch 11/20\n",
            "7/7 - 0s - loss: 0.0105 - val_loss: 0.0078\n",
            "Epoch 12/20\n",
            "7/7 - 0s - loss: 0.0090 - val_loss: 0.0070\n",
            "Epoch 13/20\n",
            "7/7 - 0s - loss: 0.0082 - val_loss: 0.0065\n",
            "Epoch 14/20\n",
            "7/7 - 0s - loss: 0.0074 - val_loss: 0.0061\n",
            "Epoch 15/20\n",
            "7/7 - 0s - loss: 0.0067 - val_loss: 0.0058\n",
            "Epoch 16/20\n",
            "7/7 - 0s - loss: 0.0064 - val_loss: 0.0054\n",
            "Epoch 17/20\n",
            "7/7 - 0s - loss: 0.0063 - val_loss: 0.0052\n",
            "Epoch 18/20\n",
            "7/7 - 0s - loss: 0.0058 - val_loss: 0.0051\n",
            "Epoch 19/20\n",
            "7/7 - 0s - loss: 0.0057 - val_loss: 0.0051\n",
            "Epoch 20/20\n",
            "7/7 - 0s - loss: 0.0056 - val_loss: 0.0050\n"
          ],
          "name": "stdout"
        }
      ]
    },
    {
      "cell_type": "code",
      "metadata": {
        "colab": {
          "base_uri": "https://localhost:8080/"
        },
        "id": "zD45cq2hmpac",
        "outputId": "d6d005fb-c1da-4962-b70b-7f1d5509e4ea"
      },
      "source": [
        "yhat= model.predict(test_X)\n",
        "test_X = test_X.reshape((test_X.shape[0],9))\n",
        "inv_yhat = np.concatenate((yhat, test_X[:, -8:]), axis=1)\n",
        "inv_yhat = scaler.inverse_transform(inv_yhat)\n",
        "inv_yhat = inv_yhat[:,0]\n",
        "# invert scaling for actual\n",
        "test_y = test_y.reshape((len(test_y), 1))\n",
        "inv_y = np.concatenate((test_y, test_X[:, -8:]), axis=1)\n",
        "inv_y = scaler.inverse_transform(inv_y)\n",
        "inv_y = inv_y[:,0]\n",
        "# calculate RMSE\n",
        "rmse = np.sqrt(mean_squared_error(inv_y, inv_yhat))\n",
        "print('Test RMSE: %.3f' % rmse)"
      ],
      "execution_count": null,
      "outputs": [
        {
          "output_type": "stream",
          "text": [
            "Test RMSE: 295.500\n"
          ],
          "name": "stdout"
        }
      ]
    },
    {
      "cell_type": "code",
      "metadata": {
        "id": "llhEQKsJAx3X"
      },
      "source": [
        "orange = data[data['소분류_감귤/한라봉/오렌지']==1].loc[:,['일별 물품 선호도 점수','일별 판매 합계량(개)','평균기온(°C)','최저기온(°C)','최고기온(°C)','최소 상대습도(%)','평균 상대습도(%)','O3','PM10']]"
      ],
      "execution_count": null,
      "outputs": []
    },
    {
      "cell_type": "code",
      "metadata": {
        "colab": {
          "base_uri": "https://localhost:8080/"
        },
        "id": "xvKnNavNA3YV",
        "outputId": "50489fdb-26fe-42f5-f4eb-0a3a4e5ac313"
      },
      "source": [
        "values = orange.values\n",
        "scaler = MinMaxScaler(feature_range=(0,1))\n",
        "scaled = scaler.fit_transform(values)\n",
        "reframed = series_to_supervised(scaled,1,1)\n",
        "reframed.drop(reframed.columns[[10,11,12,13,14,15,16,17]],axis=1, inplace=True)\n",
        "values = reframed.values\n",
        "n_train_time = 490\n",
        "train = values[:n_train_time,:]\n",
        "test = values[n_train_time:,:]\n",
        "train_X, train_y = train[:, :-1], train[:,-1]\n",
        "test_X, test_y = test[:, :-1], test[:, -1]\n",
        "train_X = train_X.reshape((train_X.shape[0], 1, train_X.shape[1]))\n",
        "test_X = test_X.reshape((test_X.shape[0], 1, test_X.shape[1]))\n",
        "print(train_X.shape, train_y.shape, test_X.shape, test_y.shape)\n",
        "model = Sequential()\n",
        "model.add(LSTM(100, input_shape=(train_X.shape[1], train_X.shape[2])))\n",
        "model.add(Dropout(0.2))\n",
        "model.add(Dense(1))\n",
        "model.compile(loss = 'mean_squared_error', optimizer='adam')\n",
        "history = model.fit(train_X, train_y, epochs = 20, batch_size=70, validation_data=(test_X,test_y),verbose=2,shuffle=False)\n",
        "yhat= model.predict(test_X)\n",
        "test_X = test_X.reshape((test_X.shape[0],9))\n",
        "inv_yhat = np.concatenate((yhat, test_X[:, -8:]), axis=1)\n",
        "inv_yhat = scaler.inverse_transform(inv_yhat)\n",
        "inv_yhat = inv_yhat[:,0]\n",
        "# invert scaling for actual\n",
        "test_y = test_y.reshape((len(test_y), 1))\n",
        "inv_y = np.concatenate((test_y, test_X[:, -8:]), axis=1)\n",
        "inv_y = scaler.inverse_transform(inv_y)\n",
        "inv_y = inv_y[:,0]\n",
        "# calculate RMSE\n",
        "rmse = np.sqrt(mean_squared_error(inv_y, inv_yhat))\n",
        "print('Test RMSE: %.3f' % rmse)"
      ],
      "execution_count": null,
      "outputs": [
        {
          "output_type": "stream",
          "text": [
            "(490, 1, 9) (490,) (209, 1, 9) (209,)\n",
            "Epoch 1/20\n",
            "7/7 - 2s - loss: 0.0334 - val_loss: 0.0224\n",
            "Epoch 2/20\n",
            "7/7 - 0s - loss: 0.0270 - val_loss: 0.0195\n",
            "Epoch 3/20\n",
            "7/7 - 0s - loss: 0.0246 - val_loss: 0.0179\n",
            "Epoch 4/20\n",
            "7/7 - 0s - loss: 0.0228 - val_loss: 0.0160\n",
            "Epoch 5/20\n",
            "7/7 - 0s - loss: 0.0200 - val_loss: 0.0142\n",
            "Epoch 6/20\n",
            "7/7 - 0s - loss: 0.0180 - val_loss: 0.0127\n",
            "Epoch 7/20\n",
            "7/7 - 0s - loss: 0.0158 - val_loss: 0.0114\n",
            "Epoch 8/20\n",
            "7/7 - 0s - loss: 0.0142 - val_loss: 0.0102\n",
            "Epoch 9/20\n",
            "7/7 - 0s - loss: 0.0125 - val_loss: 0.0090\n",
            "Epoch 10/20\n",
            "7/7 - 0s - loss: 0.0110 - val_loss: 0.0080\n",
            "Epoch 11/20\n",
            "7/7 - 0s - loss: 0.0099 - val_loss: 0.0071\n",
            "Epoch 12/20\n",
            "7/7 - 0s - loss: 0.0088 - val_loss: 0.0064\n",
            "Epoch 13/20\n",
            "7/7 - 0s - loss: 0.0078 - val_loss: 0.0058\n",
            "Epoch 14/20\n",
            "7/7 - 0s - loss: 0.0074 - val_loss: 0.0054\n",
            "Epoch 15/20\n",
            "7/7 - 0s - loss: 0.0067 - val_loss: 0.0051\n",
            "Epoch 16/20\n",
            "7/7 - 0s - loss: 0.0066 - val_loss: 0.0048\n",
            "Epoch 17/20\n",
            "7/7 - 0s - loss: 0.0059 - val_loss: 0.0046\n",
            "Epoch 18/20\n",
            "7/7 - 0s - loss: 0.0061 - val_loss: 0.0046\n",
            "Epoch 19/20\n",
            "7/7 - 0s - loss: 0.0058 - val_loss: 0.0045\n",
            "Epoch 20/20\n",
            "7/7 - 0s - loss: 0.0057 - val_loss: 0.0044\n",
            "Test RMSE: 0.000\n"
          ],
          "name": "stdout"
        }
      ]
    }
  ]
}
